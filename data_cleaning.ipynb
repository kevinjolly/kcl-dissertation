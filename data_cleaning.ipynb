{
 "cells": [
  {
   "cell_type": "markdown",
   "metadata": {},
   "source": [
    "# Predicting Loan Defaults for LendingClub - Data Cleaning\n",
    "\n",
    "**Aim**: The aim of this notebook is to clean the data and ensure that it is in a format that is ready for analysis."
   ]
  },
  {
   "cell_type": "markdown",
   "metadata": {},
   "source": [
    "## Table of contents\n",
    "\n",
    "1. Importing and describing the data.\n",
    "2. Dropping features that provide no value.\n",
    "3. Handling attributes with missing values.\n",
    "4. Creating the target attribute."
   ]
  },
  {
   "cell_type": "markdown",
   "metadata": {},
   "source": [
    "## Package Requirements"
   ]
  },
  {
   "cell_type": "code",
   "execution_count": 1,
   "metadata": {},
   "outputs": [],
   "source": [
    "import pandas as pd\n",
    "import random\n",
    "import numpy as np\n",
    "import seaborn as sns\n",
    "import matplotlib.pyplot as plt\n",
    "import warnings"
   ]
  },
  {
   "cell_type": "markdown",
   "metadata": {},
   "source": [
    "## Importing and describing the data"
   ]
  },
  {
   "cell_type": "markdown",
   "metadata": {},
   "source": [
    "**Objective**: The objective of this section is to understand the data that is under study. "
   ]
  },
  {
   "cell_type": "markdown",
   "metadata": {},
   "source": [
    "**Importing the data and viewing the first 5 rows of the data.**"
   ]
  },
  {
   "cell_type": "code",
   "execution_count": 2,
   "metadata": {},
   "outputs": [],
   "source": [
    "df = pd.read_csv('loan.csv', low_memory=False)"
   ]
  },
  {
   "cell_type": "code",
   "execution_count": 3,
   "metadata": {},
   "outputs": [
    {
     "data": {
      "text/html": [
       "<div>\n",
       "<style scoped>\n",
       "    .dataframe tbody tr th:only-of-type {\n",
       "        vertical-align: middle;\n",
       "    }\n",
       "\n",
       "    .dataframe tbody tr th {\n",
       "        vertical-align: top;\n",
       "    }\n",
       "\n",
       "    .dataframe thead th {\n",
       "        text-align: right;\n",
       "    }\n",
       "</style>\n",
       "<table border=\"1\" class=\"dataframe\">\n",
       "  <thead>\n",
       "    <tr style=\"text-align: right;\">\n",
       "      <th></th>\n",
       "      <th>id</th>\n",
       "      <th>member_id</th>\n",
       "      <th>loan_amnt</th>\n",
       "      <th>funded_amnt</th>\n",
       "      <th>funded_amnt_inv</th>\n",
       "      <th>term</th>\n",
       "      <th>int_rate</th>\n",
       "      <th>installment</th>\n",
       "      <th>grade</th>\n",
       "      <th>sub_grade</th>\n",
       "      <th>...</th>\n",
       "      <th>total_bal_il</th>\n",
       "      <th>il_util</th>\n",
       "      <th>open_rv_12m</th>\n",
       "      <th>open_rv_24m</th>\n",
       "      <th>max_bal_bc</th>\n",
       "      <th>all_util</th>\n",
       "      <th>total_rev_hi_lim</th>\n",
       "      <th>inq_fi</th>\n",
       "      <th>total_cu_tl</th>\n",
       "      <th>inq_last_12m</th>\n",
       "    </tr>\n",
       "  </thead>\n",
       "  <tbody>\n",
       "    <tr>\n",
       "      <th>0</th>\n",
       "      <td>1077501</td>\n",
       "      <td>1296599</td>\n",
       "      <td>5000.0</td>\n",
       "      <td>5000.0</td>\n",
       "      <td>4975.0</td>\n",
       "      <td>36 months</td>\n",
       "      <td>10.65</td>\n",
       "      <td>162.87</td>\n",
       "      <td>B</td>\n",
       "      <td>B2</td>\n",
       "      <td>...</td>\n",
       "      <td>NaN</td>\n",
       "      <td>NaN</td>\n",
       "      <td>NaN</td>\n",
       "      <td>NaN</td>\n",
       "      <td>NaN</td>\n",
       "      <td>NaN</td>\n",
       "      <td>NaN</td>\n",
       "      <td>NaN</td>\n",
       "      <td>NaN</td>\n",
       "      <td>NaN</td>\n",
       "    </tr>\n",
       "    <tr>\n",
       "      <th>1</th>\n",
       "      <td>1077430</td>\n",
       "      <td>1314167</td>\n",
       "      <td>2500.0</td>\n",
       "      <td>2500.0</td>\n",
       "      <td>2500.0</td>\n",
       "      <td>60 months</td>\n",
       "      <td>15.27</td>\n",
       "      <td>59.83</td>\n",
       "      <td>C</td>\n",
       "      <td>C4</td>\n",
       "      <td>...</td>\n",
       "      <td>NaN</td>\n",
       "      <td>NaN</td>\n",
       "      <td>NaN</td>\n",
       "      <td>NaN</td>\n",
       "      <td>NaN</td>\n",
       "      <td>NaN</td>\n",
       "      <td>NaN</td>\n",
       "      <td>NaN</td>\n",
       "      <td>NaN</td>\n",
       "      <td>NaN</td>\n",
       "    </tr>\n",
       "    <tr>\n",
       "      <th>2</th>\n",
       "      <td>1077175</td>\n",
       "      <td>1313524</td>\n",
       "      <td>2400.0</td>\n",
       "      <td>2400.0</td>\n",
       "      <td>2400.0</td>\n",
       "      <td>36 months</td>\n",
       "      <td>15.96</td>\n",
       "      <td>84.33</td>\n",
       "      <td>C</td>\n",
       "      <td>C5</td>\n",
       "      <td>...</td>\n",
       "      <td>NaN</td>\n",
       "      <td>NaN</td>\n",
       "      <td>NaN</td>\n",
       "      <td>NaN</td>\n",
       "      <td>NaN</td>\n",
       "      <td>NaN</td>\n",
       "      <td>NaN</td>\n",
       "      <td>NaN</td>\n",
       "      <td>NaN</td>\n",
       "      <td>NaN</td>\n",
       "    </tr>\n",
       "    <tr>\n",
       "      <th>3</th>\n",
       "      <td>1076863</td>\n",
       "      <td>1277178</td>\n",
       "      <td>10000.0</td>\n",
       "      <td>10000.0</td>\n",
       "      <td>10000.0</td>\n",
       "      <td>36 months</td>\n",
       "      <td>13.49</td>\n",
       "      <td>339.31</td>\n",
       "      <td>C</td>\n",
       "      <td>C1</td>\n",
       "      <td>...</td>\n",
       "      <td>NaN</td>\n",
       "      <td>NaN</td>\n",
       "      <td>NaN</td>\n",
       "      <td>NaN</td>\n",
       "      <td>NaN</td>\n",
       "      <td>NaN</td>\n",
       "      <td>NaN</td>\n",
       "      <td>NaN</td>\n",
       "      <td>NaN</td>\n",
       "      <td>NaN</td>\n",
       "    </tr>\n",
       "    <tr>\n",
       "      <th>4</th>\n",
       "      <td>1075358</td>\n",
       "      <td>1311748</td>\n",
       "      <td>3000.0</td>\n",
       "      <td>3000.0</td>\n",
       "      <td>3000.0</td>\n",
       "      <td>60 months</td>\n",
       "      <td>12.69</td>\n",
       "      <td>67.79</td>\n",
       "      <td>B</td>\n",
       "      <td>B5</td>\n",
       "      <td>...</td>\n",
       "      <td>NaN</td>\n",
       "      <td>NaN</td>\n",
       "      <td>NaN</td>\n",
       "      <td>NaN</td>\n",
       "      <td>NaN</td>\n",
       "      <td>NaN</td>\n",
       "      <td>NaN</td>\n",
       "      <td>NaN</td>\n",
       "      <td>NaN</td>\n",
       "      <td>NaN</td>\n",
       "    </tr>\n",
       "  </tbody>\n",
       "</table>\n",
       "<p>5 rows × 74 columns</p>\n",
       "</div>"
      ],
      "text/plain": [
       "        id  member_id  loan_amnt  funded_amnt  funded_amnt_inv        term  \\\n",
       "0  1077501    1296599     5000.0       5000.0           4975.0   36 months   \n",
       "1  1077430    1314167     2500.0       2500.0           2500.0   60 months   \n",
       "2  1077175    1313524     2400.0       2400.0           2400.0   36 months   \n",
       "3  1076863    1277178    10000.0      10000.0          10000.0   36 months   \n",
       "4  1075358    1311748     3000.0       3000.0           3000.0   60 months   \n",
       "\n",
       "   int_rate  installment grade sub_grade     ...      total_bal_il il_util  \\\n",
       "0     10.65       162.87     B        B2     ...               NaN     NaN   \n",
       "1     15.27        59.83     C        C4     ...               NaN     NaN   \n",
       "2     15.96        84.33     C        C5     ...               NaN     NaN   \n",
       "3     13.49       339.31     C        C1     ...               NaN     NaN   \n",
       "4     12.69        67.79     B        B5     ...               NaN     NaN   \n",
       "\n",
       "  open_rv_12m  open_rv_24m max_bal_bc all_util total_rev_hi_lim inq_fi  \\\n",
       "0         NaN          NaN        NaN      NaN              NaN    NaN   \n",
       "1         NaN          NaN        NaN      NaN              NaN    NaN   \n",
       "2         NaN          NaN        NaN      NaN              NaN    NaN   \n",
       "3         NaN          NaN        NaN      NaN              NaN    NaN   \n",
       "4         NaN          NaN        NaN      NaN              NaN    NaN   \n",
       "\n",
       "  total_cu_tl inq_last_12m  \n",
       "0         NaN          NaN  \n",
       "1         NaN          NaN  \n",
       "2         NaN          NaN  \n",
       "3         NaN          NaN  \n",
       "4         NaN          NaN  \n",
       "\n",
       "[5 rows x 74 columns]"
      ]
     },
     "execution_count": 3,
     "metadata": {},
     "output_type": "execute_result"
    }
   ],
   "source": [
    "df.head()"
   ]
  },
  {
   "cell_type": "markdown",
   "metadata": {},
   "source": [
    "**Viewing basic information with respect to the data**"
   ]
  },
  {
   "cell_type": "code",
   "execution_count": 4,
   "metadata": {},
   "outputs": [
    {
     "name": "stdout",
     "output_type": "stream",
     "text": [
      "<class 'pandas.core.frame.DataFrame'>\n",
      "RangeIndex: 887379 entries, 0 to 887378\n",
      "Data columns (total 74 columns):\n",
      "id                             887379 non-null int64\n",
      "member_id                      887379 non-null int64\n",
      "loan_amnt                      887379 non-null float64\n",
      "funded_amnt                    887379 non-null float64\n",
      "funded_amnt_inv                887379 non-null float64\n",
      "term                           887379 non-null object\n",
      "int_rate                       887379 non-null float64\n",
      "installment                    887379 non-null float64\n",
      "grade                          887379 non-null object\n",
      "sub_grade                      887379 non-null object\n",
      "emp_title                      835917 non-null object\n",
      "emp_length                     842554 non-null object\n",
      "home_ownership                 887379 non-null object\n",
      "annual_inc                     887375 non-null float64\n",
      "verification_status            887379 non-null object\n",
      "issue_d                        887379 non-null object\n",
      "loan_status                    887379 non-null object\n",
      "pymnt_plan                     887379 non-null object\n",
      "url                            887379 non-null object\n",
      "desc                           126028 non-null object\n",
      "purpose                        887379 non-null object\n",
      "title                          887227 non-null object\n",
      "zip_code                       887379 non-null object\n",
      "addr_state                     887379 non-null object\n",
      "dti                            887379 non-null float64\n",
      "delinq_2yrs                    887350 non-null float64\n",
      "earliest_cr_line               887350 non-null object\n",
      "inq_last_6mths                 887350 non-null float64\n",
      "mths_since_last_delinq         433067 non-null float64\n",
      "mths_since_last_record         137053 non-null float64\n",
      "open_acc                       887350 non-null float64\n",
      "pub_rec                        887350 non-null float64\n",
      "revol_bal                      887379 non-null float64\n",
      "revol_util                     886877 non-null float64\n",
      "total_acc                      887350 non-null float64\n",
      "initial_list_status            887379 non-null object\n",
      "out_prncp                      887379 non-null float64\n",
      "out_prncp_inv                  887379 non-null float64\n",
      "total_pymnt                    887379 non-null float64\n",
      "total_pymnt_inv                887379 non-null float64\n",
      "total_rec_prncp                887379 non-null float64\n",
      "total_rec_int                  887379 non-null float64\n",
      "total_rec_late_fee             887379 non-null float64\n",
      "recoveries                     887379 non-null float64\n",
      "collection_recovery_fee        887379 non-null float64\n",
      "last_pymnt_d                   869720 non-null object\n",
      "last_pymnt_amnt                887379 non-null float64\n",
      "next_pymnt_d                   634408 non-null object\n",
      "last_credit_pull_d             887326 non-null object\n",
      "collections_12_mths_ex_med     887234 non-null float64\n",
      "mths_since_last_major_derog    221703 non-null float64\n",
      "policy_code                    887379 non-null float64\n",
      "application_type               887379 non-null object\n",
      "annual_inc_joint               511 non-null float64\n",
      "dti_joint                      509 non-null float64\n",
      "verification_status_joint      511 non-null object\n",
      "acc_now_delinq                 887350 non-null float64\n",
      "tot_coll_amt                   817103 non-null float64\n",
      "tot_cur_bal                    817103 non-null float64\n",
      "open_acc_6m                    21372 non-null float64\n",
      "open_il_6m                     21372 non-null float64\n",
      "open_il_12m                    21372 non-null float64\n",
      "open_il_24m                    21372 non-null float64\n",
      "mths_since_rcnt_il             20810 non-null float64\n",
      "total_bal_il                   21372 non-null float64\n",
      "il_util                        18617 non-null float64\n",
      "open_rv_12m                    21372 non-null float64\n",
      "open_rv_24m                    21372 non-null float64\n",
      "max_bal_bc                     21372 non-null float64\n",
      "all_util                       21372 non-null float64\n",
      "total_rev_hi_lim               817103 non-null float64\n",
      "inq_fi                         21372 non-null float64\n",
      "total_cu_tl                    21372 non-null float64\n",
      "inq_last_12m                   21372 non-null float64\n",
      "dtypes: float64(49), int64(2), object(23)\n",
      "memory usage: 501.0+ MB\n"
     ]
    }
   ],
   "source": [
    "df.info()"
   ]
  },
  {
   "cell_type": "markdown",
   "metadata": {},
   "source": [
    "From the information above it can be concluded that:\n",
    "\n",
    "- The dataset has **74 attributes and 887379 rows.**"
   ]
  },
  {
   "cell_type": "markdown",
   "metadata": {},
   "source": [
    "## Dropping features that provide no value\n",
    "\n",
    "**Objective:** This section aims at dropping that features that are redundant and provide no information that can help analyze the loans effectively. "
   ]
  },
  {
   "cell_type": "markdown",
   "metadata": {},
   "source": [
    "**Feature 1**: id \n",
    "\n",
    "Each loan is uniquely identifed by the 'id' and the 'member_id' attributes. Since both the attributes can uniquely identify each loan one of them can be dropped - the 'id' attribute in this case."
   ]
  },
  {
   "cell_type": "code",
   "execution_count": 5,
   "metadata": {},
   "outputs": [],
   "source": [
    "df = df.drop('id', 1)"
   ]
  },
  {
   "cell_type": "markdown",
   "metadata": {},
   "source": [
    "**Feature 2**: url\n",
    "\n",
    "The 'url' attribute gives us information about the url link from which the loan data about each borrower was taken from. All of the urls point to Lending Club's official website. This attribute only serves as a means to verify if the data was accurate or not and hence is a good way to verify the quality of the data.\n",
    "\n",
    "Since it does not directly aid in answering the research questions set out for this project this attribute will be dropped. "
   ]
  },
  {
   "cell_type": "code",
   "execution_count": 6,
   "metadata": {},
   "outputs": [],
   "source": [
    "df = df.drop('url', 1)"
   ]
  },
  {
   "cell_type": "markdown",
   "metadata": {},
   "source": [
    "**Feature 3:** desc\n",
    "\n",
    "The 'desc' gives a brief description about why the borrower took the loan according to the borrower. Since there is another attribute called 'purpose' which gives the purpose of the loan in a categorical manner this attribute can be discarded. "
   ]
  },
  {
   "cell_type": "code",
   "execution_count": 7,
   "metadata": {},
   "outputs": [],
   "source": [
    "df = df.drop('desc', 1)"
   ]
  },
  {
   "cell_type": "markdown",
   "metadata": {},
   "source": [
    "**Feature 4**: zip_code\n",
    "\n",
    "Since the data is anonymized the 'zip_code' attribute which gives details about the zip code of the borrower is hidden from the public. This attribute cannot be used and hence can be discarded."
   ]
  },
  {
   "cell_type": "code",
   "execution_count": 8,
   "metadata": {},
   "outputs": [],
   "source": [
    "df = df.drop('zip_code', 1)"
   ]
  },
  {
   "cell_type": "markdown",
   "metadata": {},
   "source": [
    "After dropping the attributes that offered little to no value:\n",
    "\n",
    "- The dataset now has 70 attributes left that provide some form of valuable information that can answer the research questions proposed."
   ]
  },
  {
   "cell_type": "markdown",
   "metadata": {},
   "source": [
    "## Handling attributes with missing values.\n",
    "\n",
    "**Objective**: The section aims at handling attributes that have missing values by using a wide array of techniques that are commonly used to handle them."
   ]
  },
  {
   "cell_type": "markdown",
   "metadata": {},
   "source": [
    "**Attributes with missing values:**"
   ]
  },
  {
   "cell_type": "code",
   "execution_count": 9,
   "metadata": {},
   "outputs": [],
   "source": [
    "#Extracting the the sum of the missing values for each attribute\n",
    "\n",
    "missing_values = df.isnull().sum()\n",
    "\n",
    "#Converting the sum of the missing values for each attribute into a dataframe\n",
    "\n",
    "missing_df = pd.DataFrame(missing_values)\n",
    "\n",
    "#Renaming the column to make logical sense\n",
    "\n",
    "missing_df['number_missing'] = missing_df[0]\n",
    "\n",
    "#Dropping the renamed column\n",
    "\n",
    "missing_df = missing_df.drop(0, 1)\n",
    "\n",
    "#Converting the index to an attribute that contains all the attribute names\n",
    "\n",
    "missing_df = missing_df.reset_index()\n",
    "missing_df['attribute'] = missing_df['index']\n",
    "missing_df = missing_df.drop('index', 1)\n",
    "\n",
    "#Re-ordering the columns\n",
    "\n",
    "missing_df = missing_df[['attribute', 'number_missing']]\n",
    "\n",
    "#Dropping the attributes that have no missing values\n",
    "\n",
    "missing_df = missing_df[missing_df.number_missing != 0]\n",
    "\n",
    "#Sorting the dataframe in descending order\n",
    "\n",
    "missing_df = missing_df.sort_values(by = 'number_missing',  ascending=False)"
   ]
  },
  {
   "cell_type": "markdown",
   "metadata": {},
   "source": [
    "**Dataframe with percentage missing values for each attribute**\n",
    "\n",
    "Here the total number of missing values for each attribute is converted to a percentage. \n",
    "\n",
    "*Percentage = (Sum of missing values for an attribute / Total number of Rows in the data ) x 100*"
   ]
  },
  {
   "cell_type": "code",
   "execution_count": 10,
   "metadata": {},
   "outputs": [],
   "source": [
    "missing_df['percent_missing'] = (missing_df['number_missing'] / 887379) * 100"
   ]
  },
  {
   "cell_type": "code",
   "execution_count": 11,
   "metadata": {},
   "outputs": [
    {
     "data": {
      "text/html": [
       "<div>\n",
       "<style scoped>\n",
       "    .dataframe tbody tr th:only-of-type {\n",
       "        vertical-align: middle;\n",
       "    }\n",
       "\n",
       "    .dataframe tbody tr th {\n",
       "        vertical-align: top;\n",
       "    }\n",
       "\n",
       "    .dataframe thead th {\n",
       "        text-align: right;\n",
       "    }\n",
       "</style>\n",
       "<table border=\"1\" class=\"dataframe\">\n",
       "  <thead>\n",
       "    <tr style=\"text-align: right;\">\n",
       "      <th></th>\n",
       "      <th>attribute</th>\n",
       "      <th>number_missing</th>\n",
       "      <th>percent_missing</th>\n",
       "    </tr>\n",
       "  </thead>\n",
       "  <tbody>\n",
       "    <tr>\n",
       "      <th>50</th>\n",
       "      <td>dti_joint</td>\n",
       "      <td>886870</td>\n",
       "      <td>99.942640</td>\n",
       "    </tr>\n",
       "    <tr>\n",
       "      <th>49</th>\n",
       "      <td>annual_inc_joint</td>\n",
       "      <td>886868</td>\n",
       "      <td>99.942415</td>\n",
       "    </tr>\n",
       "    <tr>\n",
       "      <th>51</th>\n",
       "      <td>verification_status_joint</td>\n",
       "      <td>886868</td>\n",
       "      <td>99.942415</td>\n",
       "    </tr>\n",
       "    <tr>\n",
       "      <th>61</th>\n",
       "      <td>il_util</td>\n",
       "      <td>868762</td>\n",
       "      <td>97.902024</td>\n",
       "    </tr>\n",
       "    <tr>\n",
       "      <th>59</th>\n",
       "      <td>mths_since_rcnt_il</td>\n",
       "      <td>866569</td>\n",
       "      <td>97.654892</td>\n",
       "    </tr>\n",
       "    <tr>\n",
       "      <th>68</th>\n",
       "      <td>total_cu_tl</td>\n",
       "      <td>866007</td>\n",
       "      <td>97.591559</td>\n",
       "    </tr>\n",
       "    <tr>\n",
       "      <th>67</th>\n",
       "      <td>inq_fi</td>\n",
       "      <td>866007</td>\n",
       "      <td>97.591559</td>\n",
       "    </tr>\n",
       "    <tr>\n",
       "      <th>65</th>\n",
       "      <td>all_util</td>\n",
       "      <td>866007</td>\n",
       "      <td>97.591559</td>\n",
       "    </tr>\n",
       "    <tr>\n",
       "      <th>64</th>\n",
       "      <td>max_bal_bc</td>\n",
       "      <td>866007</td>\n",
       "      <td>97.591559</td>\n",
       "    </tr>\n",
       "    <tr>\n",
       "      <th>63</th>\n",
       "      <td>open_rv_24m</td>\n",
       "      <td>866007</td>\n",
       "      <td>97.591559</td>\n",
       "    </tr>\n",
       "    <tr>\n",
       "      <th>62</th>\n",
       "      <td>open_rv_12m</td>\n",
       "      <td>866007</td>\n",
       "      <td>97.591559</td>\n",
       "    </tr>\n",
       "    <tr>\n",
       "      <th>60</th>\n",
       "      <td>total_bal_il</td>\n",
       "      <td>866007</td>\n",
       "      <td>97.591559</td>\n",
       "    </tr>\n",
       "    <tr>\n",
       "      <th>58</th>\n",
       "      <td>open_il_24m</td>\n",
       "      <td>866007</td>\n",
       "      <td>97.591559</td>\n",
       "    </tr>\n",
       "    <tr>\n",
       "      <th>57</th>\n",
       "      <td>open_il_12m</td>\n",
       "      <td>866007</td>\n",
       "      <td>97.591559</td>\n",
       "    </tr>\n",
       "    <tr>\n",
       "      <th>56</th>\n",
       "      <td>open_il_6m</td>\n",
       "      <td>866007</td>\n",
       "      <td>97.591559</td>\n",
       "    </tr>\n",
       "    <tr>\n",
       "      <th>55</th>\n",
       "      <td>open_acc_6m</td>\n",
       "      <td>866007</td>\n",
       "      <td>97.591559</td>\n",
       "    </tr>\n",
       "    <tr>\n",
       "      <th>69</th>\n",
       "      <td>inq_last_12m</td>\n",
       "      <td>866007</td>\n",
       "      <td>97.591559</td>\n",
       "    </tr>\n",
       "    <tr>\n",
       "      <th>25</th>\n",
       "      <td>mths_since_last_record</td>\n",
       "      <td>750326</td>\n",
       "      <td>84.555303</td>\n",
       "    </tr>\n",
       "    <tr>\n",
       "      <th>46</th>\n",
       "      <td>mths_since_last_major_derog</td>\n",
       "      <td>665676</td>\n",
       "      <td>75.015974</td>\n",
       "    </tr>\n",
       "    <tr>\n",
       "      <th>24</th>\n",
       "      <td>mths_since_last_delinq</td>\n",
       "      <td>454312</td>\n",
       "      <td>51.197065</td>\n",
       "    </tr>\n",
       "    <tr>\n",
       "      <th>43</th>\n",
       "      <td>next_pymnt_d</td>\n",
       "      <td>252971</td>\n",
       "      <td>28.507661</td>\n",
       "    </tr>\n",
       "    <tr>\n",
       "      <th>66</th>\n",
       "      <td>total_rev_hi_lim</td>\n",
       "      <td>70276</td>\n",
       "      <td>7.919502</td>\n",
       "    </tr>\n",
       "    <tr>\n",
       "      <th>53</th>\n",
       "      <td>tot_coll_amt</td>\n",
       "      <td>70276</td>\n",
       "      <td>7.919502</td>\n",
       "    </tr>\n",
       "    <tr>\n",
       "      <th>54</th>\n",
       "      <td>tot_cur_bal</td>\n",
       "      <td>70276</td>\n",
       "      <td>7.919502</td>\n",
       "    </tr>\n",
       "    <tr>\n",
       "      <th>9</th>\n",
       "      <td>emp_title</td>\n",
       "      <td>51462</td>\n",
       "      <td>5.799326</td>\n",
       "    </tr>\n",
       "    <tr>\n",
       "      <th>10</th>\n",
       "      <td>emp_length</td>\n",
       "      <td>44825</td>\n",
       "      <td>5.051393</td>\n",
       "    </tr>\n",
       "    <tr>\n",
       "      <th>41</th>\n",
       "      <td>last_pymnt_d</td>\n",
       "      <td>17659</td>\n",
       "      <td>1.990018</td>\n",
       "    </tr>\n",
       "    <tr>\n",
       "      <th>29</th>\n",
       "      <td>revol_util</td>\n",
       "      <td>502</td>\n",
       "      <td>0.056571</td>\n",
       "    </tr>\n",
       "    <tr>\n",
       "      <th>18</th>\n",
       "      <td>title</td>\n",
       "      <td>152</td>\n",
       "      <td>0.017129</td>\n",
       "    </tr>\n",
       "    <tr>\n",
       "      <th>45</th>\n",
       "      <td>collections_12_mths_ex_med</td>\n",
       "      <td>145</td>\n",
       "      <td>0.016340</td>\n",
       "    </tr>\n",
       "    <tr>\n",
       "      <th>44</th>\n",
       "      <td>last_credit_pull_d</td>\n",
       "      <td>53</td>\n",
       "      <td>0.005973</td>\n",
       "    </tr>\n",
       "    <tr>\n",
       "      <th>30</th>\n",
       "      <td>total_acc</td>\n",
       "      <td>29</td>\n",
       "      <td>0.003268</td>\n",
       "    </tr>\n",
       "    <tr>\n",
       "      <th>26</th>\n",
       "      <td>open_acc</td>\n",
       "      <td>29</td>\n",
       "      <td>0.003268</td>\n",
       "    </tr>\n",
       "    <tr>\n",
       "      <th>52</th>\n",
       "      <td>acc_now_delinq</td>\n",
       "      <td>29</td>\n",
       "      <td>0.003268</td>\n",
       "    </tr>\n",
       "    <tr>\n",
       "      <th>23</th>\n",
       "      <td>inq_last_6mths</td>\n",
       "      <td>29</td>\n",
       "      <td>0.003268</td>\n",
       "    </tr>\n",
       "    <tr>\n",
       "      <th>22</th>\n",
       "      <td>earliest_cr_line</td>\n",
       "      <td>29</td>\n",
       "      <td>0.003268</td>\n",
       "    </tr>\n",
       "    <tr>\n",
       "      <th>21</th>\n",
       "      <td>delinq_2yrs</td>\n",
       "      <td>29</td>\n",
       "      <td>0.003268</td>\n",
       "    </tr>\n",
       "    <tr>\n",
       "      <th>27</th>\n",
       "      <td>pub_rec</td>\n",
       "      <td>29</td>\n",
       "      <td>0.003268</td>\n",
       "    </tr>\n",
       "    <tr>\n",
       "      <th>12</th>\n",
       "      <td>annual_inc</td>\n",
       "      <td>4</td>\n",
       "      <td>0.000451</td>\n",
       "    </tr>\n",
       "  </tbody>\n",
       "</table>\n",
       "</div>"
      ],
      "text/plain": [
       "                      attribute  number_missing  percent_missing\n",
       "50                    dti_joint          886870        99.942640\n",
       "49             annual_inc_joint          886868        99.942415\n",
       "51    verification_status_joint          886868        99.942415\n",
       "61                      il_util          868762        97.902024\n",
       "59           mths_since_rcnt_il          866569        97.654892\n",
       "68                  total_cu_tl          866007        97.591559\n",
       "67                       inq_fi          866007        97.591559\n",
       "65                     all_util          866007        97.591559\n",
       "64                   max_bal_bc          866007        97.591559\n",
       "63                  open_rv_24m          866007        97.591559\n",
       "62                  open_rv_12m          866007        97.591559\n",
       "60                 total_bal_il          866007        97.591559\n",
       "58                  open_il_24m          866007        97.591559\n",
       "57                  open_il_12m          866007        97.591559\n",
       "56                   open_il_6m          866007        97.591559\n",
       "55                  open_acc_6m          866007        97.591559\n",
       "69                 inq_last_12m          866007        97.591559\n",
       "25       mths_since_last_record          750326        84.555303\n",
       "46  mths_since_last_major_derog          665676        75.015974\n",
       "24       mths_since_last_delinq          454312        51.197065\n",
       "43                 next_pymnt_d          252971        28.507661\n",
       "66             total_rev_hi_lim           70276         7.919502\n",
       "53                 tot_coll_amt           70276         7.919502\n",
       "54                  tot_cur_bal           70276         7.919502\n",
       "9                     emp_title           51462         5.799326\n",
       "10                   emp_length           44825         5.051393\n",
       "41                 last_pymnt_d           17659         1.990018\n",
       "29                   revol_util             502         0.056571\n",
       "18                        title             152         0.017129\n",
       "45   collections_12_mths_ex_med             145         0.016340\n",
       "44           last_credit_pull_d              53         0.005973\n",
       "30                    total_acc              29         0.003268\n",
       "26                     open_acc              29         0.003268\n",
       "52               acc_now_delinq              29         0.003268\n",
       "23               inq_last_6mths              29         0.003268\n",
       "22             earliest_cr_line              29         0.003268\n",
       "21                  delinq_2yrs              29         0.003268\n",
       "27                      pub_rec              29         0.003268\n",
       "12                   annual_inc               4         0.000451"
      ]
     },
     "execution_count": 11,
     "metadata": {},
     "output_type": "execute_result"
    }
   ],
   "source": [
    "missing_df"
   ]
  },
  {
   "cell_type": "code",
   "execution_count": 12,
   "metadata": {},
   "outputs": [],
   "source": [
    "missing_df.to_csv('missing_df.csv')"
   ]
  },
  {
   "cell_type": "markdown",
   "metadata": {},
   "source": [
    "Statistically significant claims cannot be made when over 50% of the data missing in an attribute and imputation techniques will make the outcome of the classifier biased.\n",
    "\n",
    "Since the literature has established these claims based on the dataset that they used for their analysis, identifying the loss of variables at various thresholds of missing data percentages is logical in this case:"
   ]
  },
  {
   "cell_type": "code",
   "execution_count": 13,
   "metadata": {},
   "outputs": [],
   "source": [
    "percent_missing = [50, 75, 85, 95]\n",
    "attributes_lost = [len(missing_df[missing_df['percent_missing'] > 50]), len(missing_df[missing_df['percent_missing'] > 75]), len(missing_df[missing_df['percent_missing'] > 85]), len(missing_df[missing_df['percent_missing'] > 95])]"
   ]
  },
  {
   "cell_type": "code",
   "execution_count": 14,
   "metadata": {},
   "outputs": [],
   "source": [
    "percent_array = np.array(percent_missing)\n",
    "attributes_array = np.array(attributes_lost)"
   ]
  },
  {
   "cell_type": "code",
   "execution_count": 15,
   "metadata": {},
   "outputs": [
    {
     "name": "stderr",
     "output_type": "stream",
     "text": [
      "D:\\Anaconda\\lib\\site-packages\\seaborn\\timeseries.py:183: UserWarning: The tsplot function is deprecated and will be removed or replaced (in a substantially altered version) in a future release.\n",
      "  warnings.warn(msg, UserWarning)\n"
     ]
    },
    {
     "data": {
      "image/png": "[encoded data removed]",
      "text/plain": [
       "<Figure size 432x288 with 1 Axes>"
      ]
     },
     "metadata": {},
     "output_type": "display_data"
    }
   ],
   "source": [
    "sns.tsplot(attributes_array, percent_array)\n",
    "plt.xlabel('Percentage of missing values in an attribute')\n",
    "plt.ylabel('Number of attributes lost')\n",
    "plt.title('Number of attributes lost when dropping attributes having a certain percentage of missing values')\n",
    "warnings.filterwarnings('ignore')\n",
    "plt.show()"
   ]
  },
  {
   "cell_type": "markdown",
   "metadata": {},
   "source": [
    "From the plot illustrated above the following inferences are made:\n",
    "    \n",
    "- Dropping the attributes that have over **85% missing values results in the loss of 17 attributes**.\n",
    "- Dropping the attributes that have over **75% missing values results in the loss of 19 attributes**.\n",
    "- Dropping the attributes that have over **50% missing values results in the loss of 20 attributes**.\n",
    "\n",
    "As a result, dropping attributes that have over 75% of their values missing is an optimal choice as:\n",
    "\n",
    "- The loss of variables is only 19 instead of 20 in the event of dropping attributes having greater than 50% of their values missing."
   ]
  },
  {
   "cell_type": "markdown",
   "metadata": {},
   "source": [
    "**Dropping attributes with over 75% missing values**"
   ]
  },
  {
   "cell_type": "code",
   "execution_count": 16,
   "metadata": {},
   "outputs": [],
   "source": [
    "#Creating a list of columns to drop\n",
    "\n",
    "columns_to_drop = missing_df[missing_df['percent_missing'] > 75]\n",
    "drop_list = columns_to_drop['attribute'].tolist()\n",
    "\n",
    "#Removing the newline characters from the list\n",
    "\n",
    "drop_attributes = map(lambda s: s.strip(), drop_list)\n",
    "\n",
    "#Converting the mapped object to a list\n",
    "\n",
    "drop_attributes = list(drop_attributes)\n",
    "\n",
    "#Dropping the attributes from the main dataframe\n",
    "\n",
    "df = df.drop(drop_attributes, 1)"
   ]
  },
  {
   "cell_type": "markdown",
   "metadata": {},
   "source": [
    "**Strategies for handling missing values**\n",
    "\n",
    "From the literature studied for handling imputations for missing values there are 3 categoires of missing values:\n",
    "\n",
    "- Missing Completely at Random\n",
    "- Missing at Random\n",
    "- Not Missing at Random\n",
    "\n",
    "For the purpose of this analysis the attributes will be grouped into one of the 3 categories and appropriate strategies will be used for the imputations based on the literature and/or common sense backed by domain knowledge."
   ]
  },
  {
   "cell_type": "markdown",
   "metadata": {},
   "source": [
    "**Attributes that have data - Missing Completely at Random**\n",
    "\n",
    "This section deals with imputation of missing values for the attributes that have data missing completely at random. Strategies for imputation that work with such attributes are:\n",
    "\n",
    "- Deletion of missing value from the attribute\n",
    "- Single imputation techniques such as mean or median imputation.\n",
    "- Imputation based on common sense/domain knowledge"
   ]
  },
  {
   "cell_type": "markdown",
   "metadata": {},
   "source": [
    "**Attribute 1**: 'mths_since_last_delinq'\n",
    "\n",
    "This attribute simply states the number of months since the borrower's last deliquency. If a borrower has not had a deliquency the corresponding cell is left empty. As a result it makes sense to impute the missing values with 0's as zero months would indicate that the borrower has never had a deliquency. "
   ]
  },
  {
   "cell_type": "code",
   "execution_count": 17,
   "metadata": {},
   "outputs": [],
   "source": [
    "df['mths_since_last_delinq'] = df['mths_since_last_delinq'].fillna(0)"
   ]
  },
  {
   "cell_type": "markdown",
   "metadata": {},
   "source": [
    "**Attribute 2**: 'pub_rec'\n",
    "\n",
    "This attribute states the number of public deragatory records that the borrower has. The attribute has 29 missing values. "
   ]
  },
  {
   "cell_type": "code",
   "execution_count": 18,
   "metadata": {},
   "outputs": [
    {
     "data": {
      "text/plain": [
       "0.0     751572\n",
       "1.0     113266\n",
       "2.0      14854\n",
       "3.0       4487\n",
       "4.0       1564\n",
       "5.0        757\n",
       "6.0        385\n",
       "7.0        170\n",
       "8.0        113\n",
       "9.0         50\n",
       "10.0        42\n",
       "11.0        23\n",
       "12.0        16\n",
       "13.0        12\n",
       "15.0         6\n",
       "18.0         5\n",
       "16.0         5\n",
       "21.0         4\n",
       "17.0         3\n",
       "14.0         2\n",
       "49.0         2\n",
       "19.0         2\n",
       "40.0         1\n",
       "86.0         1\n",
       "20.0         1\n",
       "23.0         1\n",
       "63.0         1\n",
       "22.0         1\n",
       "28.0         1\n",
       "34.0         1\n",
       "26.0         1\n",
       "54.0         1\n",
       "Name: pub_rec, dtype: int64"
      ]
     },
     "execution_count": 18,
     "metadata": {},
     "output_type": "execute_result"
    }
   ],
   "source": [
    "df['pub_rec'].value_counts()"
   ]
  },
  {
   "cell_type": "markdown",
   "metadata": {},
   "source": [
    "Since the majority of the borrowers have 0 deragatory public records giving the 29 borrowers the benefit of the doubt by imputing the majority category of - 0 makes the most logical sense in this case."
   ]
  },
  {
   "cell_type": "code",
   "execution_count": 19,
   "metadata": {},
   "outputs": [],
   "source": [
    "df['pub_rec'] = df['pub_rec'].fillna(0.0)"
   ]
  },
  {
   "cell_type": "markdown",
   "metadata": {},
   "source": [
    "**Attribute 3**: 'delinq_2yrs'\n",
    "\n",
    "This attribute is the number of times a borrower has had a 30+ days due incidence of deliquency over the last two years. "
   ]
  },
  {
   "cell_type": "code",
   "execution_count": 20,
   "metadata": {},
   "outputs": [
    {
     "data": {
      "text/plain": [
       "0.0     716961\n",
       "1.0     113224\n",
       "2.0      33551\n",
       "3.0      11977\n",
       "4.0       5327\n",
       "5.0       2711\n",
       "6.0       1471\n",
       "7.0        784\n",
       "8.0        461\n",
       "9.0        284\n",
       "10.0       192\n",
       "11.0       121\n",
       "12.0        89\n",
       "13.0        64\n",
       "14.0        45\n",
       "15.0        28\n",
       "16.0        17\n",
       "18.0        11\n",
       "17.0        10\n",
       "19.0         8\n",
       "22.0         3\n",
       "21.0         2\n",
       "26.0         2\n",
       "20.0         2\n",
       "30.0         1\n",
       "39.0         1\n",
       "27.0         1\n",
       "29.0         1\n",
       "24.0         1\n",
       "Name: delinq_2yrs, dtype: int64"
      ]
     },
     "execution_count": 20,
     "metadata": {},
     "output_type": "execute_result"
    }
   ],
   "source": [
    "df['delinq_2yrs'].value_counts()"
   ]
  },
  {
   "cell_type": "markdown",
   "metadata": {},
   "source": [
    "Since the majority of the borrowers have 0, 30+ days deliquency records, giving the 29 borrowers the benefit of the doubt by imputing the majority category of - 0 makes the most logical sense in this case."
   ]
  },
  {
   "cell_type": "code",
   "execution_count": 21,
   "metadata": {},
   "outputs": [],
   "source": [
    "df['delinq_2yrs'] = df['delinq_2yrs'].fillna(0.0)"
   ]
  },
  {
   "cell_type": "markdown",
   "metadata": {},
   "source": [
    "**Attribute 4:** 'earliest_cr_line'\n",
    "\n",
    "This is the earliest reported credit line that was opened by the borrower on record."
   ]
  },
  {
   "cell_type": "code",
   "execution_count": 22,
   "metadata": {},
   "outputs": [
    {
     "name": "stdout",
     "output_type": "stream",
     "text": [
      "The maximum annual income is 300000.0\n",
      "The minimum annual income is 6000.0\n"
     ]
    }
   ],
   "source": [
    "#Dataframe where the earliest credit lines are missing\n",
    "\n",
    "cr_line_missing = df[df['earliest_cr_line'].isnull()]\n",
    "\n",
    "#Printing out the maximum and minumum annual incomes \n",
    "\n",
    "print('The maximum annual income is' + ' ' + str(cr_line_missing['annual_inc'].max()))\n",
    "print('The minimum annual income is' + ' ' + str(cr_line_missing['annual_inc'].min()))"
   ]
  },
  {
   "cell_type": "markdown",
   "metadata": {},
   "source": [
    "The assumption is that borrowers who have similar annual incomes might have started their credit lines on similar dates. Since there are only 29 missing values this assumption will not affect the predictive models built later on in the project."
   ]
  },
  {
   "cell_type": "code",
   "execution_count": 23,
   "metadata": {},
   "outputs": [
    {
     "data": {
      "text/plain": [
       "Aug-2000    1013\n",
       "Aug-2001    1011\n",
       "Oct-2000     965\n",
       "Oct-2001     959\n",
       "Nov-1999     909\n",
       "Sep-1999     906\n",
       "Sep-2000     905\n",
       "Aug-1999     897\n",
       "Aug-2002     883\n",
       "Sep-2002     883\n",
       "Nov-2000     869\n",
       "Sep-1998     853\n",
       "Oct-1999     848\n",
       "Jul-2001     812\n",
       "Oct-1998     777\n",
       "May-2001     775\n",
       "Mar-2001     775\n",
       "Sep-2001     775\n",
       "Oct-2002     769\n",
       "Dec-2000     758\n",
       "Jun-2000     753\n",
       "Sep-2003     748\n",
       "Dec-1999     747\n",
       "Dec-2001     744\n",
       "Mar-2000     743\n",
       "Dec-1998     735\n",
       "May-2000     734\n",
       "Aug-2003     729\n",
       "Aug-1998     727\n",
       "Jan-2000     715\n",
       "            ... \n",
       "Aug-1946       1\n",
       "Jan-1944       1\n",
       "Jan-1954       1\n",
       "May-1962       1\n",
       "Sep-1962       1\n",
       "Dec-1962       1\n",
       "May-1955       1\n",
       "May-1963       1\n",
       "Jan-1955       1\n",
       "Jun-1959       1\n",
       "Nov-1964       1\n",
       "Oct-1961       1\n",
       "May-1959       1\n",
       "Jul-1960       1\n",
       "Oct-1950       1\n",
       "Dec-1958       1\n",
       "Feb-1965       1\n",
       "Mar-1958       1\n",
       "May-1957       1\n",
       "Sep-1960       1\n",
       "Feb-1966       1\n",
       "Aug-1960       1\n",
       "Mar-1962       1\n",
       "Jun-1963       1\n",
       "Dec-1964       1\n",
       "Jun-1961       1\n",
       "Aug-1959       1\n",
       "Jan-1950       1\n",
       "Apr-1963       1\n",
       "Dec-1963       1\n",
       "Name: earliest_cr_line, Length: 629, dtype: int64"
      ]
     },
     "execution_count": 23,
     "metadata": {},
     "output_type": "execute_result"
    }
   ],
   "source": [
    "#Creating a dataframe with a similar range of annual incomes\n",
    "\n",
    "range_incomes = df[(df['annual_inc'] > 70000) & (df['annual_inc'] < 86000)]\n",
    "\n",
    "#Extracting the value counts of the earliest credit lines for this range of annual incomes\n",
    "\n",
    "range_incomes['earliest_cr_line'].value_counts()"
   ]
  },
  {
   "cell_type": "code",
   "execution_count": 24,
   "metadata": {},
   "outputs": [],
   "source": [
    "#Imputing the missing values with a random value\n",
    "\n",
    "df[\"earliest_cr_line\"].fillna(lambda x: random.choice(range_incomes[range_incomes['earliest_cr_line'] != np.nan][\"earliest_cr_line\"]), inplace =True)"
   ]
  },
  {
   "cell_type": "markdown",
   "metadata": {},
   "source": [
    "Imputed the missing values with a random earliest credit line date from the borrowers who had an annual income in the range between 70,000 to 80,000 US dollars a year. "
   ]
  },
  {
   "cell_type": "markdown",
   "metadata": {},
   "source": [
    "**Attribute 5:** 'inq_last_6mths'\n",
    "\n",
    "This is the number of inquires that the borrower has had in the last 6 months."
   ]
  },
  {
   "cell_type": "code",
   "execution_count": 25,
   "metadata": {},
   "outputs": [
    {
     "data": {
      "text/plain": [
       "0.0     497905\n",
       "1.0     241494\n",
       "2.0      94117\n",
       "3.0      37398\n",
       "4.0      10758\n",
       "5.0       3985\n",
       "6.0       1231\n",
       "7.0        195\n",
       "8.0        122\n",
       "9.0         50\n",
       "10.0        24\n",
       "11.0        15\n",
       "12.0        15\n",
       "15.0         9\n",
       "14.0         6\n",
       "13.0         6\n",
       "18.0         4\n",
       "16.0         3\n",
       "17.0         2\n",
       "19.0         2\n",
       "24.0         2\n",
       "31.0         1\n",
       "32.0         1\n",
       "25.0         1\n",
       "28.0         1\n",
       "20.0         1\n",
       "33.0         1\n",
       "27.0         1\n",
       "Name: inq_last_6mths, dtype: int64"
      ]
     },
     "execution_count": 25,
     "metadata": {},
     "output_type": "execute_result"
    }
   ],
   "source": [
    "df['inq_last_6mths'].value_counts()"
   ]
  },
  {
   "cell_type": "markdown",
   "metadata": {},
   "source": [
    "Since the majority of the inquires are 0 and since there are only 29 missing values imputing the missing values with 0 makes the most logical sense in this case. "
   ]
  },
  {
   "cell_type": "code",
   "execution_count": 26,
   "metadata": {},
   "outputs": [],
   "source": [
    "df['inq_last_6mths'] = df['inq_last_6mths'].fillna(0.0)"
   ]
  },
  {
   "cell_type": "markdown",
   "metadata": {},
   "source": [
    "**Attribute 6**: 'acc_now_delinq'\n",
    "\n",
    "This attribute states the number of times the borrowers account has been declared deliquent."
   ]
  },
  {
   "cell_type": "code",
   "execution_count": 27,
   "metadata": {},
   "outputs": [
    {
     "data": {
      "text/plain": [
       "0.0     883236\n",
       "1.0       3866\n",
       "2.0        208\n",
       "3.0         28\n",
       "4.0          7\n",
       "5.0          3\n",
       "6.0          1\n",
       "14.0         1\n",
       "Name: acc_now_delinq, dtype: int64"
      ]
     },
     "execution_count": 27,
     "metadata": {},
     "output_type": "execute_result"
    }
   ],
   "source": [
    "df['acc_now_delinq'].value_counts()"
   ]
  },
  {
   "cell_type": "markdown",
   "metadata": {},
   "source": [
    "Since the majority of the values are 0 and since there are only 29 missing values imputing the missing values with 0 makes the most logical sense in this case. "
   ]
  },
  {
   "cell_type": "code",
   "execution_count": 28,
   "metadata": {},
   "outputs": [],
   "source": [
    "df['acc_now_delinq'] = df['acc_now_delinq'].fillna(0.0)"
   ]
  },
  {
   "cell_type": "markdown",
   "metadata": {},
   "source": [
    "**Attribute 7:** 'open_acc'\n",
    "\n",
    "This attribute states the number of open credit lines in the borrowers file. On further exploration of the missing values:\n",
    "\n",
    "- There does not seem to be a trend that explains why these values are missing for the borrower. \n",
    "- There is no 'majority' value that is missing."
   ]
  },
  {
   "cell_type": "code",
   "execution_count": 29,
   "metadata": {},
   "outputs": [
    {
     "data": {
      "image/png": "[encoded data removed]",
      "text/plain": [
       "<Figure size 432x288 with 1 Axes>"
      ]
     },
     "metadata": {},
     "output_type": "display_data"
    }
   ],
   "source": [
    "#Imputing the 'NaN' to 0 temporarily in order to visualize the distribution\n",
    "\n",
    "df['open_accs'] = df['open_acc'].fillna(0)\n",
    "\n",
    "#Visualizing the distribution of the 'open_acc'\n",
    "\n",
    "sns.distplot(df['open_accs'])\n",
    "plt.title('Distribution of open credit lines')\n",
    "plt.xlabel('Number of open credit lines')\n",
    "plt.show()\n",
    "warnings.filterwarnings('ignore')"
   ]
  },
  {
   "cell_type": "markdown",
   "metadata": {},
   "source": [
    "Since the distribution is fairly normal in nature, imputing the missing values with the mean of the values in the attribute will ensure that the variance is not changed too much and that there is no additional bias added. "
   ]
  },
  {
   "cell_type": "code",
   "execution_count": 30,
   "metadata": {},
   "outputs": [],
   "source": [
    "#Dropping the dummy column created earlier\n",
    "\n",
    "df = df.drop('open_accs', 1)\n",
    "\n",
    "#Imputing the missing values with the mean\n",
    "\n",
    "df['open_acc'] = df['open_acc'].fillna(df['open_acc'].mean())"
   ]
  },
  {
   "cell_type": "markdown",
   "metadata": {},
   "source": [
    "**Attribute 8:** 'total_acc'\n",
    "\n",
    "This provides information on the total number of credit lines on the borrower's account.\n",
    "\n",
    "- There does not seem to be a trend that explains why these values are missing for the borrower. \n",
    "- There is no 'majority' value that is missing."
   ]
  },
  {
   "cell_type": "code",
   "execution_count": 31,
   "metadata": {},
   "outputs": [
    {
     "data": {
      "image/png": "[encoded data removed]",
      "text/plain": [
       "<Figure size 432x288 with 1 Axes>"
      ]
     },
     "metadata": {},
     "output_type": "display_data"
    }
   ],
   "source": [
    "#Imputing the 'NaN' to 0 temporarily in order to visualize the distribution\n",
    "\n",
    "df['total_accs'] = df['total_acc'].fillna(0)\n",
    "\n",
    "#Visualizing the distribution of the 'total_acc'\n",
    "\n",
    "sns.distplot(df['total_accs'])\n",
    "plt.title('Distribution of total credit lines')\n",
    "plt.xlabel('Number of total credit lines')\n",
    "plt.show()\n",
    "warnings.filterwarnings('ignore')"
   ]
  },
  {
   "cell_type": "markdown",
   "metadata": {},
   "source": [
    "Since the distribution is fairly normal in nature, imputing the missing values with the mean of the values in the attribute will ensure that the variance is not changed too much and that there is no additional bias added. "
   ]
  },
  {
   "cell_type": "code",
   "execution_count": 32,
   "metadata": {},
   "outputs": [],
   "source": [
    "#Dropping the dummy column created earlier\n",
    "\n",
    "df = df.drop('total_accs', 1)\n",
    "\n",
    "#Imputing the missing values with the mean\n",
    "\n",
    "df['total_acc'] = df['total_acc'].fillna(df['total_acc'].mean())"
   ]
  },
  {
   "cell_type": "markdown",
   "metadata": {},
   "source": [
    "**Attribute 10**: 'collections_12_mths_ex_med'\n",
    "\n",
    "This attribute provides information on the number of collections on the borrower's account excluding medical collections."
   ]
  },
  {
   "cell_type": "code",
   "execution_count": 33,
   "metadata": {},
   "outputs": [
    {
     "data": {
      "text/plain": [
       "0.0     875553\n",
       "1.0      10824\n",
       "2.0        732\n",
       "3.0         88\n",
       "4.0         23\n",
       "5.0          7\n",
       "6.0          2\n",
       "7.0          1\n",
       "16.0         1\n",
       "20.0         1\n",
       "14.0         1\n",
       "10.0         1\n",
       "Name: collections_12_mths_ex_med, dtype: int64"
      ]
     },
     "execution_count": 33,
     "metadata": {},
     "output_type": "execute_result"
    }
   ],
   "source": [
    "df['collections_12_mths_ex_med'].value_counts()"
   ]
  },
  {
   "cell_type": "markdown",
   "metadata": {},
   "source": [
    "Since the majority of the collections are 0 and since there are only 145 missing values imputing the missing values with 0 makes the most logical sense in this case. "
   ]
  },
  {
   "cell_type": "code",
   "execution_count": 34,
   "metadata": {},
   "outputs": [],
   "source": [
    "df['collections_12_mths_ex_med'] = df['collections_12_mths_ex_med'].fillna(0.0)"
   ]
  },
  {
   "cell_type": "markdown",
   "metadata": {},
   "source": [
    "**Attribute 11**: 'revol_util'\n",
    "\n",
    "This attributes provides information on the number of credit the borrower is using relative to all avaliable revolving credit.\n",
    "\n",
    "On closer inspection of the attribute:\n",
    "\n",
    "- There is no value that stands out as the majority value.\n",
    "- There is no trend or pattern to the values that are missing.\n",
    "- Only 0.05% of the values are missing."
   ]
  },
  {
   "cell_type": "code",
   "execution_count": 35,
   "metadata": {},
   "outputs": [
    {
     "data": {
      "image/png": "[encoded data removed]",
      "text/plain": [
       "<Figure size 432x288 with 1 Axes>"
      ]
     },
     "metadata": {},
     "output_type": "display_data"
    }
   ],
   "source": [
    "#Imputing the 'NaN' to 0 temporarily in order to visualize the distribution\n",
    "\n",
    "df['revol_utils'] = df['revol_util'].fillna(0)\n",
    "\n",
    "#Visualizing the distribution of the 'total_acc'\n",
    "\n",
    "sns.distplot(df['revol_utils'])\n",
    "plt.title('Distribution of Revolving utility rates')\n",
    "plt.xlabel('Revolving utility rates')\n",
    "plt.show()\n",
    "warnings.filterwarnings('ignore')"
   ]
  },
  {
   "cell_type": "markdown",
   "metadata": {},
   "source": [
    "Since the distribution is fairly normal in nature, imputing the missing values with the mean of the values in the attribute will ensure that the variance is not changed too much and that there is no additional bias added."
   ]
  },
  {
   "cell_type": "code",
   "execution_count": 36,
   "metadata": {},
   "outputs": [],
   "source": [
    "#Dropping the dummy column created earlier\n",
    "\n",
    "df = df.drop('revol_utils', 1)\n",
    "\n",
    "#Imputing the missing values with the mean\n",
    "\n",
    "df['revol_util'] = df['revol_util'].fillna(df['revol_util'].mean())"
   ]
  },
  {
   "cell_type": "markdown",
   "metadata": {},
   "source": [
    "**Attribute 12**: 'annual_inc'\n",
    "\n",
    "This attributes provides information about the annual income of the borrower.\n",
    "\n",
    "On closer inspection of the attribute:\n",
    "\n",
    "- There is no value that stands out as the majority value.\n",
    "- There is no trend or pattern to the values that are missing.\n",
    "- Only 0.0004% of the values are missing."
   ]
  },
  {
   "cell_type": "code",
   "execution_count": 37,
   "metadata": {},
   "outputs": [
    {
     "data": {
      "image/png": "[encoded data removed]",
      "text/plain": [
       "<Figure size 432x288 with 1 Axes>"
      ]
     },
     "metadata": {},
     "output_type": "display_data"
    }
   ],
   "source": [
    "#Imputing the 'NaN' to 0 temporarily in order to visualize the distribution\n",
    "\n",
    "df['annual_incs'] = df['annual_inc'].fillna(0)\n",
    "\n",
    "#Visualizing the distribution of the 'total_acc'\n",
    "\n",
    "sns.distplot(df['annual_incs'])\n",
    "plt.title('Distribution of Annual Incomes')\n",
    "plt.xlabel('Annual Income')\n",
    "plt.show()\n",
    "warnings.filterwarnings('ignore')"
   ]
  },
  {
   "cell_type": "markdown",
   "metadata": {},
   "source": [
    "The distribution of annual income is fairly normal in nature except for a few outliers towards the extreme end of the distribution.\n",
    "\n",
    "- Due to the precense of outliers the median imputation for the 4 missing values will have the least bias. "
   ]
  },
  {
   "cell_type": "code",
   "execution_count": 38,
   "metadata": {},
   "outputs": [],
   "source": [
    "#Dropping the dummy column created earlier\n",
    "\n",
    "df = df.drop('annual_incs', 1)\n",
    "\n",
    "#Imputing the missing values with the mean\n",
    "\n",
    "df['annual_inc'] = df['annual_inc'].fillna(df['annual_inc'].median())"
   ]
  },
  {
   "cell_type": "markdown",
   "metadata": {},
   "source": [
    "## Creating the target attribute.\n",
    "\n",
    "**Objective:** The aim of this section is to create the target attribute that is going to be of utmost importance in predicting defaults."
   ]
  },
  {
   "cell_type": "code",
   "execution_count": 39,
   "metadata": {},
   "outputs": [
    {
     "data": {
      "text/plain": [
       "Current                                                601779\n",
       "Fully Paid                                             207723\n",
       "Charged Off                                             45248\n",
       "Late (31-120 days)                                      11591\n",
       "Issued                                                   8460\n",
       "In Grace Period                                          6253\n",
       "Late (16-30 days)                                        2357\n",
       "Does not meet the credit policy. Status:Fully Paid       1988\n",
       "Default                                                  1219\n",
       "Does not meet the credit policy. Status:Charged Off       761\n",
       "Name: loan_status, dtype: int64"
      ]
     },
     "execution_count": 39,
     "metadata": {},
     "output_type": "execute_result"
    }
   ],
   "source": [
    "df['loan_status'].value_counts()"
   ]
  },
  {
   "cell_type": "markdown",
   "metadata": {},
   "source": [
    "A quick look at the different types of loan status gives the following information:\n",
    "\n",
    "- Due to the objective of the project being predicting **loan defaults** two categories are of importance - 'Default' and 'Not Default'\n",
    "- The **Fully Paid** loans are the loans that have not defaulted.\n",
    "- The **Default** loans are the loans that have defaulted.\n",
    "- The **Charged Off** loans are the loans that gone past the stage of default and has been written off by LendingClub. This means that these loans will never be paid back.\n",
    "- Two types of loans status that does not meet the credit policy exist but have a 'Fully Paid' and 'Charged Off' label associated with them - Hence they can be categorized accordingly. \n",
    "- Thus **Default**,**Charged Off** & **Does not meet the credit policy. Status:Charged Off** will be categorized into one category - **Default** and is given a value of 1.\n",
    "- **Fully Paid** & **Does not meet the credit policy. Status:Fully Paid** will be categorized as **Not Default** and is given a value of 0."
   ]
  },
  {
   "cell_type": "code",
   "execution_count": 40,
   "metadata": {},
   "outputs": [],
   "source": [
    "#Dropping all loan statuses except for Full Paid, Charged Off and Default\n",
    "\n",
    "df1 = df[df['loan_status'].str.contains(\"Current\") == False]\n",
    "df2 = df1[df1['loan_status'].str.contains(\"Late\") == False]\n",
    "df3 = df2[df2['loan_status'].str.contains(\"Issued\") == False]\n",
    "df_target = df3[df3['loan_status'].str.contains(\"In Grace Period\") == False]"
   ]
  },
  {
   "cell_type": "code",
   "execution_count": 41,
   "metadata": {},
   "outputs": [
    {
     "data": {
      "text/plain": [
       "Fully Paid                                             207723\n",
       "Charged Off                                             45248\n",
       "Does not meet the credit policy. Status:Fully Paid       1988\n",
       "Default                                                  1219\n",
       "Does not meet the credit policy. Status:Charged Off       761\n",
       "Name: loan_status, dtype: int64"
      ]
     },
     "execution_count": 41,
     "metadata": {},
     "output_type": "execute_result"
    }
   ],
   "source": [
    "df_target['loan_status'].value_counts()"
   ]
  },
  {
   "cell_type": "markdown",
   "metadata": {},
   "source": [
    "The data now only has the loan statuses that are of interest."
   ]
  },
  {
   "cell_type": "markdown",
   "metadata": {},
   "source": [
    "**Creating the target attribute**"
   ]
  },
  {
   "cell_type": "code",
   "execution_count": 42,
   "metadata": {},
   "outputs": [],
   "source": [
    "df_target['default'] = (df_target['loan_status'] == 'Charged Off') | (df_target['loan_status'] == 'Default') | (df_target['loan_status'] == 'Does not meet the credit policy. Status:Charged Off')"
   ]
  },
  {
   "cell_type": "code",
   "execution_count": 43,
   "metadata": {},
   "outputs": [],
   "source": [
    "df_target['default'] = df_target['default'].astype(int)"
   ]
  },
  {
   "cell_type": "code",
   "execution_count": 44,
   "metadata": {},
   "outputs": [
    {
     "data": {
      "text/plain": [
       "0    209711\n",
       "1     47228\n",
       "Name: default, dtype: int64"
      ]
     },
     "execution_count": 44,
     "metadata": {},
     "output_type": "execute_result"
    }
   ],
   "source": [
    "df_target['default'].value_counts()"
   ]
  },
  {
   "cell_type": "markdown",
   "metadata": {},
   "source": [
    "From the information above it can be concluded that:\n",
    "\n",
    "- The dataset now has **256939** rows. \n",
    "- **18%** of the loans are classfied as Default. \n",
    "- **78** of the loans are classfied as Not default."
   ]
  },
  {
   "cell_type": "markdown",
   "metadata": {},
   "source": [
    "**Creating a new file for analysis**"
   ]
  },
  {
   "cell_type": "code",
   "execution_count": 45,
   "metadata": {},
   "outputs": [],
   "source": [
    "df_target.to_csv('loan_analysis.csv')"
   ]
  }
 ],
 "metadata": {
  "kernelspec": {
   "display_name": "Python 3",
   "language": "python",
   "name": "python3"
  },
  "language_info": {
   "codemirror_mode": {
    "name": "ipython",
    "version": 3
   },
   "file_extension": ".py",
   "mimetype": "text/x-python",
   "name": "python",
   "nbconvert_exporter": "python",
   "pygments_lexer": "ipython3",
   "version": "3.6.1"
  }
 },
 "nbformat": 4,
 "nbformat_minor": 2
}
