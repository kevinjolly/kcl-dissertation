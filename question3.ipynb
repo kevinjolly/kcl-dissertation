{
 "cells": [
  {
   "cell_type": "markdown",
   "metadata": {},
   "source": [
    "# Predicting Loan Defaults for LendingClub - Research Question 3\n",
    "\n",
    "**Research Question 2:** Does the geographic location of the borrower affect the probability of loan defaults?\n",
    "\n",
    "**Aim:** The aim of this notebook is to understand how different states in the USA performed with respect to defaults and understand why some states performed better than the other states with respect to loan defaults.\n",
    "\n",
    "## Table of contents\n",
    "\n",
    "1. Geographic analysis of loan defaults\n",
    "2. Geographic analysis of loan defaults in Tableau\n",
    "3. Conclusion"
   ]
  },
  {
   "cell_type": "markdown",
   "metadata": {},
   "source": [
    "## Package Requirements"
   ]
  },
  {
   "cell_type": "code",
   "execution_count": 1,
   "metadata": {},
   "outputs": [],
   "source": [
    "import pandas as pd\n",
    "import seaborn as sns\n",
    "import matplotlib.pyplot as plt\n",
    "import warnings"
   ]
  },
  {
   "cell_type": "markdown",
   "metadata": {},
   "source": [
    "## Geographic analysis of loan defaults\n",
    "\n",
    "**Aim**: The aim of this section is to understand which states had the highest and lowest number of defaults."
   ]
  },
  {
   "cell_type": "code",
   "execution_count": 2,
   "metadata": {},
   "outputs": [],
   "source": [
    "#Importing the data\n",
    "\n",
    "df = pd.read_csv('loan_analysis.csv')"
   ]
  },
  {
   "cell_type": "code",
   "execution_count": 3,
   "metadata": {},
   "outputs": [
    {
     "data": {
      "image/png": "[encoded data removed]",
      "text/plain": [
       "<Figure size 432x288 with 1 Axes>"
      ]
     },
     "metadata": {},
     "output_type": "display_data"
    }
   ],
   "source": [
    "#Counts of the states\n",
    "\n",
    "g = sns.countplot(y=\"addr_state\", data=df, order = df['addr_state'].value_counts().index)\n",
    "plt.ylabel('State')\n",
    "plt.title('Counts of states')\n",
    "plt.show()\n",
    "warnings.filterwarnings('ignore')"
   ]
  },
  {
   "cell_type": "markdown",
   "metadata": {},
   "source": [
    "From the plot above most of the loans were issued to the following states: \n",
    "\n",
    "- California (CA)\n",
    "- New York (NY)\n",
    "- Texas (TX)\n",
    "- New Jersey (NJ)"
   ]
  },
  {
   "cell_type": "code",
   "execution_count": 4,
   "metadata": {},
   "outputs": [],
   "source": [
    "#Creating a dataframe with the defaulted loans only\n",
    "\n",
    "df_default = df[df['default'] == 1]\n",
    "\n",
    "#Creating a dataframe with the Not Defaulted loans only\n",
    "\n",
    "df_nodefault = df[df['default'] == 0] "
   ]
  },
  {
   "cell_type": "markdown",
   "metadata": {},
   "source": [
    "**Proportion of the states for the defaulted loans**"
   ]
  },
  {
   "cell_type": "code",
   "execution_count": 5,
   "metadata": {},
   "outputs": [
    {
     "data": {
      "text/plain": [
       "CA    16.185314\n",
       "NY     9.077242\n",
       "FL     7.815279\n",
       "TX     6.777759\n",
       "NJ     4.056915\n",
       "PA     3.470399\n",
       "IL     3.400525\n",
       "OH     3.239604\n",
       "VA     3.140086\n",
       "GA     3.029982\n",
       "NC     2.860591\n",
       "MI     2.542983\n",
       "MD     2.426527\n",
       "AZ     2.341831\n",
       "MA     2.265605\n",
       "WA     2.168205\n",
       "NV     1.791310\n",
       "MN     1.765902\n",
       "MO     1.742610\n",
       "CO     1.740493\n",
       "AL     1.437706\n",
       "IN     1.380537\n",
       "CT     1.342424\n",
       "TN     1.247142\n",
       "LA     1.247142\n",
       "WI     1.194207\n",
       "OR     1.181502\n",
       "SC     0.990938\n",
       "KY     0.976116\n",
       "OK     0.914712\n",
       "KS     0.774964\n",
       "UT     0.766494\n",
       "AR     0.743203\n",
       "HI     0.605573\n",
       "NM     0.592869\n",
       "RI     0.419243\n",
       "WV     0.353604\n",
       "NH     0.343017\n",
       "DE     0.275260\n",
       "MT     0.226561\n",
       "AK     0.209621\n",
       "MS     0.199034\n",
       "SD     0.194800\n",
       "DC     0.192682\n",
       "WY     0.175743\n",
       "VT     0.152452\n",
       "NE     0.014822\n",
       "IA     0.006352\n",
       "ID     0.002117\n",
       "Name: addr_state, dtype: float64"
      ]
     },
     "execution_count": 5,
     "metadata": {},
     "output_type": "execute_result"
    }
   ],
   "source": [
    "#Calculating the proportion of Loan Grade within the defaulted loans\n",
    "\n",
    "proportion_defaulted = ((df_default['addr_state'].value_counts())/47228) * 100\n",
    "proportion_defaulted"
   ]
  },
  {
   "cell_type": "markdown",
   "metadata": {},
   "source": [
    "**Proportion of states for the non-defaulted loans**"
   ]
  },
  {
   "cell_type": "code",
   "execution_count": 6,
   "metadata": {},
   "outputs": [
    {
     "data": {
      "text/plain": [
       "CA    17.166958\n",
       "NY     8.299517\n",
       "TX     7.836499\n",
       "FL     6.762163\n",
       "NJ     3.751353\n",
       "IL     3.729895\n",
       "PA     3.305025\n",
       "GA     3.205840\n",
       "VA     3.131452\n",
       "OH     3.028453\n",
       "NC     2.690369\n",
       "MA     2.475788\n",
       "AZ     2.413321\n",
       "WA     2.364683\n",
       "MD     2.362299\n",
       "MI     2.337026\n",
       "CO     2.327489\n",
       "MN     1.755750\n",
       "MO     1.538307\n",
       "CT     1.486331\n",
       "NV     1.439600\n",
       "OR     1.344708\n",
       "WI     1.232172\n",
       "AL     1.196408\n",
       "LA     1.147293\n",
       "SC     1.135849\n",
       "IN     1.038095\n",
       "TN     0.893611\n",
       "KY     0.884074\n",
       "UT     0.847357\n",
       "KS     0.833528\n",
       "OK     0.822084\n",
       "AR     0.679983\n",
       "HI     0.575554\n",
       "NM     0.534068\n",
       "NH     0.479231\n",
       "WV     0.470171\n",
       "RI     0.430593\n",
       "DC     0.361450\n",
       "MT     0.308043\n",
       "AK     0.272279\n",
       "DE     0.268942\n",
       "WY     0.249868\n",
       "SD     0.217442\n",
       "VT     0.171665\n",
       "MS     0.161174\n",
       "NE     0.017643\n",
       "ME     0.006199\n",
       "IA     0.004768\n",
       "ND     0.003815\n",
       "ID     0.003815\n",
       "Name: addr_state, dtype: float64"
      ]
     },
     "execution_count": 6,
     "metadata": {},
     "output_type": "execute_result"
    }
   ],
   "source": [
    "#Calculating the proportion of loan purpose within the non- defaulted loans\n",
    "\n",
    "proportion_notdefaulted = ((df_nodefault['addr_state'].value_counts())/209711) * 100\n",
    "proportion_notdefaulted"
   ]
  },
  {
   "cell_type": "markdown",
   "metadata": {},
   "source": [
    "From the outputs produced above it is clear that:\n",
    "\n",
    "- California and Texas has a slightly higher proportion of non-defaulted loans compared to the defaulted loans.\n",
    "- New York and Florida has a higher proportion of defaulted loans."
   ]
  },
  {
   "cell_type": "markdown",
   "metadata": {},
   "source": [
    "## Geographic Analysis of loan defaults in Tableau\n",
    "\n",
    "**Aim**: The aim of this section is provide a spatial & interactive visual analytics of the loans based on loan & borrower characteristics.\n",
    "\n",
    "**Output**:\n",
    "\n",
    "The output of this section is in the form of a Tableau Dashboard."
   ]
  },
  {
   "cell_type": "markdown",
   "metadata": {},
   "source": [
    "## Conclusion\n",
    "\n",
    "From the analysis the following conclusions can be drawn:\n",
    "\n",
    "**Geographic Analysis of Loans (Jupyter Notebook)**\n",
    "\n",
    "- California and Texas has a slightly higher proportion of non-defaulted loans compared to the defaulted loans.\n",
    "- New York and Florida has a higher proportion of defaulted loans.\n",
    "\n",
    "**Geographic Analysis of Loans (Tableau)**\n",
    "\n",
    "- Based on the number of defaults alone, California, New York, Florida & Texas has the highest number of defaults\n",
    "- However, they were also the states to which the most number of loans were issued to hence this does not paint an accurate picture of defaults.\n",
    "- By calculating the proportion of defaults in each state - *Proportion of defaults = (Number of Defaults in that state / Total Number of loans issued in that state)* a different story emerged.\n",
    "- The states with the highest proportion of defaults were now: Tennessee, Iowa, Indiana & Nevada. \n",
    "- The states of Tennessee, Indiana & Nevada also had interest rates greater than 15% on average for the loans issued which confirms the assumption from the research question which associated higher interest rates with defaults. \n",
    "- The states of Tennessee, Indiana & Nevada also had Debt-to-income ratios greater than 18.5% on average which confirms the assumption from the research question which associated higher Debt-to-income ratios with defaults.\n",
    "- The only state which does not confirm to these assumption is Iowa and it seems like an outlier.\n",
    "- One possible explanation for the high default proportion in Iowa is the fact that the average annual income of the people in that state is among the lowest in the country at $35,800. \n",
    "\n",
    "**Final Conclusion from analysis**\n",
    "\n",
    "- Thus it can be seen that states with a higher proportion of defaults tend to have loans with higher interest rates and borrowers with higher Debt-to-income ratios."
   ]
  }
 ],
 "metadata": {
  "kernelspec": {
   "display_name": "Python 3",
   "language": "python",
   "name": "python3"
  },
  "language_info": {
   "codemirror_mode": {
    "name": "ipython",
    "version": 3
   },
   "file_extension": ".py",
   "mimetype": "text/x-python",
   "name": "python",
   "nbconvert_exporter": "python",
   "pygments_lexer": "ipython3",
   "version": "3.6.1"
  }
 },
 "nbformat": 4,
 "nbformat_minor": 2
}
