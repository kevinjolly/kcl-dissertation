{
 "cells": [
  {
   "cell_type": "markdown",
   "metadata": {},
   "source": [
    "# Predicting Loan Defaults for LendingClub - Research Question 4\n",
    "\n",
    "**Research Question 4:** Which features are the best predictors of default?\n",
    "\n",
    "**Aim**: The aim of this notebook is to apply feature selection methods & algorithms to identify which subset of features can predict defaults with the highest prediction performance. \n",
    "\n",
    "## Table of contents\n",
    "\n",
    "1. Filter methods to remove features with no predictive power.\n",
    "2. Preparing features for feature selection using Machine Learning Algorithms.\n",
    "2. Ranking & selecting features using Random Forests. \n",
    "5. Evaluation of feature selection performance using a k-NN classifier.\n",
    "7. Conclusion."
   ]
  },
  {
   "cell_type": "markdown",
   "metadata": {},
   "source": [
    "## Package Requirements"
   ]
  },
  {
   "cell_type": "code",
   "execution_count": 1,
   "metadata": {},
   "outputs": [],
   "source": [
    "import pandas as pd\n",
    "import numpy as np\n",
    "from sklearn.model_selection import train_test_split\n",
    "from sklearn.feature_selection import VarianceThreshold\n",
    "import matplotlib.pyplot as plt\n",
    "import seaborn as sns\n",
    "from sklearn.ensemble import RandomForestClassifier, RandomForestRegressor\n",
    "from sklearn.feature_selection import SelectFromModel\n",
    "import warnings\n",
    "from sklearn.ensemble import RandomForestClassifier\n",
    "from sklearn.tree import DecisionTreeClassifier\n",
    "from sklearn.metrics import roc_auc_score\n",
    "from sklearn.feature_selection import RFE\n",
    "from sklearn.preprocessing import LabelEncoder\n",
    "from sklearn.preprocessing import OneHotEncoder\n",
    "from sklearn.neighbors import KNeighborsClassifier\n",
    "%matplotlib inline"
   ]
  },
  {
   "cell_type": "markdown",
   "metadata": {},
   "source": [
    "## Filter methods to remove features with no predictive power.\n",
    "\n",
    "**Aim**: The aim of this section is to remove features that have no predictive power and provide very little variability."
   ]
  },
  {
   "cell_type": "markdown",
   "metadata": {},
   "source": [
    "### Constant features\n",
    "\n",
    "In the section below the constant features are identified and filtered:\n",
    "\n",
    "- Constant features are those features that have only one value for the entire dataset."
   ]
  },
  {
   "cell_type": "code",
   "execution_count": 2,
   "metadata": {},
   "outputs": [],
   "source": [
    "#Reading the data\n",
    "\n",
    "df = pd.read_csv('loan_analysis.csv')"
   ]
  },
  {
   "cell_type": "code",
   "execution_count": 3,
   "metadata": {},
   "outputs": [],
   "source": [
    "#Dropping the features that are not numerical\n",
    "\n",
    "df1 = df.loc[:, df.dtypes == float]\n",
    "df2 = df.loc[:, 'default']\n",
    "             \n",
    "#Joining the int and float dataframes together\n",
    "\n",
    "df_numeric = pd.concat([df1, df2], axis = 1)\n",
    "\n",
    "#Dropping all NaN rows\n",
    "\n",
    "df_numeric = df_numeric.dropna()"
   ]
  },
  {
   "cell_type": "markdown",
   "metadata": {},
   "source": [
    "** Separating the data into training and testing sets**"
   ]
  },
  {
   "cell_type": "code",
   "execution_count": 4,
   "metadata": {},
   "outputs": [],
   "source": [
    "#Splitting into training and test sets\n",
    "\n",
    "X_train, X_test, y_train, y_test = train_test_split(df_numeric.drop(labels = ['default'], axis = 1), df_numeric['default'], test_size = 0.3, random_state = 0)"
   ]
  },
  {
   "cell_type": "markdown",
   "metadata": {},
   "source": [
    "**Variance Threshold function to remove features with 0 variance**"
   ]
  },
  {
   "cell_type": "code",
   "execution_count": 5,
   "metadata": {},
   "outputs": [
    {
     "data": {
      "text/plain": [
       "VarianceThreshold(threshold=0)"
      ]
     },
     "execution_count": 5,
     "metadata": {},
     "output_type": "execute_result"
    }
   ],
   "source": [
    "zero_variance = VarianceThreshold(threshold = 0)\n",
    "\n",
    "#Finding features with 0 variance\n",
    "\n",
    "zero_variance.fit(X_train)"
   ]
  },
  {
   "cell_type": "code",
   "execution_count": 6,
   "metadata": {},
   "outputs": [
    {
     "name": "stdout",
     "output_type": "stream",
     "text": [
      "1\n"
     ]
    }
   ],
   "source": [
    "#Printing out the number of features that are constant\n",
    "\n",
    "print(len([feature for feature in X_train.columns if feature not in X_train.columns[zero_variance.get_support()]]))"
   ]
  },
  {
   "cell_type": "code",
   "execution_count": 7,
   "metadata": {},
   "outputs": [
    {
     "data": {
      "text/plain": [
       "['policy_code']"
      ]
     },
     "execution_count": 7,
     "metadata": {},
     "output_type": "execute_result"
    }
   ],
   "source": [
    "#Printing out the name of the feature\n",
    "\n",
    "[feature for feature in X_train.columns if feature not in X_train.columns[zero_variance.get_support()]]"
   ]
  },
  {
   "cell_type": "code",
   "execution_count": 8,
   "metadata": {},
   "outputs": [
    {
     "data": {
      "text/plain": [
       "1.0    256939\n",
       "Name: policy_code, dtype: int64"
      ]
     },
     "execution_count": 8,
     "metadata": {},
     "output_type": "execute_result"
    }
   ],
   "source": [
    "#Verifying that 'policy_code' has no unique values\n",
    "\n",
    "df['policy_code'].value_counts()"
   ]
  },
  {
   "cell_type": "markdown",
   "metadata": {},
   "source": [
    "From the output above:\n",
    "\n",
    "- Since policy code has only 1 value it is a constant feature with 0 variance and as a result will not provide any value to predicting defaults. \n",
    "- Hence policy code will be dropped."
   ]
  },
  {
   "cell_type": "code",
   "execution_count": 9,
   "metadata": {},
   "outputs": [],
   "source": [
    "#Dropping policy code from the data \n",
    "\n",
    "df = df.drop('policy_code', axis = 1)"
   ]
  },
  {
   "cell_type": "markdown",
   "metadata": {},
   "source": [
    "### Quasi-Constant features\n",
    "\n",
    "In the section below the quasi-constant features are identified and filtered:\n",
    "\n",
    "- Quasi-constant features are those features in which the same value for a majority of rows and thus provide little information for the machine learning model."
   ]
  },
  {
   "cell_type": "markdown",
   "metadata": {},
   "source": [
    "**Variance Threshold function to remove features with 0.01 variance.**"
   ]
  },
  {
   "cell_type": "code",
   "execution_count": 10,
   "metadata": {},
   "outputs": [
    {
     "data": {
      "text/plain": [
       "VarianceThreshold(threshold=0.01)"
      ]
     },
     "execution_count": 10,
     "metadata": {},
     "output_type": "execute_result"
    }
   ],
   "source": [
    "quasi_variance = VarianceThreshold(threshold = 0.01)\n",
    "\n",
    "#Finding features with 0 variance\n",
    "\n",
    "quasi_variance.fit(X_train)"
   ]
  },
  {
   "cell_type": "code",
   "execution_count": 11,
   "metadata": {},
   "outputs": [
    {
     "name": "stdout",
     "output_type": "stream",
     "text": [
      "2\n"
     ]
    }
   ],
   "source": [
    "#Printing out the number of features that are quasi-constant\n",
    "\n",
    "print(len([feature for feature in X_train.columns if feature not in X_train.columns[quasi_variance.get_support()]]))"
   ]
  },
  {
   "cell_type": "code",
   "execution_count": 12,
   "metadata": {},
   "outputs": [
    {
     "data": {
      "text/plain": [
       "['policy_code', 'acc_now_delinq']"
      ]
     },
     "execution_count": 12,
     "metadata": {},
     "output_type": "execute_result"
    }
   ],
   "source": [
    "#Printing out the name of the features\n",
    "\n",
    "[feature for feature in X_train.columns if feature not in X_train.columns[quasi_variance.get_support()]]"
   ]
  },
  {
   "cell_type": "code",
   "execution_count": 13,
   "metadata": {},
   "outputs": [
    {
     "data": {
      "text/plain": [
       "0.0    256194\n",
       "1.0       703\n",
       "2.0        36\n",
       "3.0         3\n",
       "5.0         2\n",
       "4.0         1\n",
       "Name: acc_now_delinq, dtype: int64"
      ]
     },
     "execution_count": 13,
     "metadata": {},
     "output_type": "execute_result"
    }
   ],
   "source": [
    "#Verifying that 'acc_now_delinq' has majority constant values\n",
    "\n",
    "df['acc_now_delinq'].value_counts()"
   ]
  },
  {
   "cell_type": "markdown",
   "metadata": {},
   "source": [
    "From the output above:\n",
    "\n",
    "- The majority (99% +) of the values in 'acc_now_deliq' is 0.0\n",
    "- Thus, this feature is quasi-constant and will provide little to almost no value to the machine learning algorithm."
   ]
  },
  {
   "cell_type": "code",
   "execution_count": 14,
   "metadata": {},
   "outputs": [],
   "source": [
    "#Dropping 'acc_now_deliq' from the data\n",
    "\n",
    "df = df.drop('acc_now_delinq', axis = 1)"
   ]
  },
  {
   "cell_type": "markdown",
   "metadata": {},
   "source": [
    "**Categorical Quasi-constant feature: Application Type**\n",
    "\n",
    "- The application type is a categorical feature that is quasi-constant in nature."
   ]
  },
  {
   "cell_type": "code",
   "execution_count": 15,
   "metadata": {},
   "outputs": [
    {
     "data": {
      "text/plain": [
       "INDIVIDUAL    256938\n",
       "JOINT              1\n",
       "Name: application_type, dtype: int64"
      ]
     },
     "execution_count": 15,
     "metadata": {},
     "output_type": "execute_result"
    }
   ],
   "source": [
    "df['application_type'].value_counts()"
   ]
  },
  {
   "cell_type": "markdown",
   "metadata": {},
   "source": [
    "From the output above\n",
    "\n",
    "- The 'INDIVIDUAL' category makes up all of the feature except for one.\n",
    "- Thus 99% + of the feature belong to one category alone.\n",
    "- Thus, this feature provides little value to the machine learning model."
   ]
  },
  {
   "cell_type": "code",
   "execution_count": 16,
   "metadata": {},
   "outputs": [],
   "source": [
    "df = df.drop('application_type', axis = 1)"
   ]
  },
  {
   "cell_type": "markdown",
   "metadata": {},
   "source": [
    "### Duplicated features\n",
    "\n",
    "In the section below the duplicated features are identified and filtered:\n",
    "\n",
    "- Duplicated features are those pair of features in which each observation between the two features are identical in every possible way. \n",
    "- This means that each observation in the same index will have the same value in both features.\n",
    "- Thus dropping the second feature that is identical to the first will provide value in terms of dimensionality reduction & removing redundancy. "
   ]
  },
  {
   "cell_type": "code",
   "execution_count": 17,
   "metadata": {},
   "outputs": [],
   "source": [
    "#Creating a list to store the duplicated features\n",
    "\n",
    "duplicate_features = []\n",
    "\n",
    "for feature in range(0, len(X_train.columns)):\n",
    "    \n",
    "    first_feature = X_train.columns[feature]\n",
    "    \n",
    "    for second_feature in X_train.columns[feature + 1:]:\n",
    "        \n",
    "        #Check if the features have the same value in every row\n",
    "        \n",
    "        if X_train[first_feature].equals(X_train[second_feature]):\n",
    "            \n",
    "            #Print the feature names\n",
    "            \n",
    "            print(first_feature)\n",
    "            print(second_feature)\n",
    "            print()\n",
    "            \n",
    "            #Append the duplicated feature to the list created initially \n",
    "            \n",
    "            duplicate_features.append(second_feature)"
   ]
  },
  {
   "cell_type": "code",
   "execution_count": 18,
   "metadata": {},
   "outputs": [
    {
     "data": {
      "text/plain": [
       "[]"
      ]
     },
     "execution_count": 18,
     "metadata": {},
     "output_type": "execute_result"
    }
   ],
   "source": [
    "#Printing out the duplicated features\n",
    "\n",
    "duplicate_features"
   ]
  },
  {
   "cell_type": "markdown",
   "metadata": {},
   "source": [
    "From the output above:\n",
    "\n",
    "- There is no feature that shares identical values with another feature in the dataset."
   ]
  },
  {
   "cell_type": "markdown",
   "metadata": {},
   "source": [
    "### Correlated Features\n",
    "\n",
    "In the section below:\n",
    "\n",
    "- The features that are highly correlated between themselves are filtered as they provide little to no information to the final classifier. \n",
    "- The features that are not correlated to the target variable are filtered as they provide little to no information to the final classifier."
   ]
  },
  {
   "cell_type": "code",
   "execution_count": 19,
   "metadata": {},
   "outputs": [
    {
     "data": {
      "text/plain": [
       "<matplotlib.axes._subplots.AxesSubplot at 0x168a02f6668>"
      ]
     },
     "execution_count": 19,
     "metadata": {},
     "output_type": "execute_result"
    },
    {
     "data": {
      "image/png": "[encoded data removed]",
      "text/plain": [
       "<Figure size 432x288 with 2 Axes>"
      ]
     },
     "metadata": {},
     "output_type": "display_data"
    }
   ],
   "source": [
    "#Visualizing the correlated features\n",
    "\n",
    "correlation_matrix = X_train.corr()\n",
    "sns.heatmap(correlation_matrix)"
   ]
  },
  {
   "cell_type": "markdown",
   "metadata": {},
   "source": [
    "From the plot above:\n",
    "\n",
    "- The diagonal is light red/white which indicates that each feature is highly correlated with itself and thus has a pearson correlation coefficient of -1.\n",
    "- There are a couple of feature pairs that are highly correlated with each other outside the diagonal which requires further investigation."
   ]
  },
  {
   "cell_type": "code",
   "execution_count": 20,
   "metadata": {},
   "outputs": [],
   "source": [
    "#Creating a function to remove the highly correlated features \n",
    "\n",
    "def corr_features(dataframe, correlation_coeff):\n",
    "    \n",
    "    #Creating a set of correlated feature names\n",
    "    correlated_features = set() \n",
    "    #Creating a correlation matrix\n",
    "    correlation_matrix = dataframe.corr()\n",
    "    #Looping over the features in the correlation matrix\n",
    "    for features in range(len(correlation_matrix.columns)):\n",
    "        for feature in range(features):\n",
    "            if abs(correlation_matrix.iloc[features, feature]) > correlation_coeff:\n",
    "                feature_name = correlation_matrix.columns[features]\n",
    "                correlated_features.add(feature_name)\n",
    "                \n",
    "    return correlated_features"
   ]
  },
  {
   "cell_type": "code",
   "execution_count": 21,
   "metadata": {},
   "outputs": [
    {
     "data": {
      "text/plain": [
       "9"
      ]
     },
     "execution_count": 21,
     "metadata": {},
     "output_type": "execute_result"
    }
   ],
   "source": [
    "#applying the function in order to identify correlated features with a pearson correlation coefficient > 0.8\n",
    "\n",
    "correlated_features = corr_features(X_train, 0.8)\n",
    "len(set(correlated_features))"
   ]
  },
  {
   "cell_type": "code",
   "execution_count": 22,
   "metadata": {},
   "outputs": [
    {
     "data": {
      "text/plain": [
       "{'collection_recovery_fee',\n",
       " 'funded_amnt',\n",
       " 'funded_amnt_inv',\n",
       " 'installment',\n",
       " 'out_prncp_inv',\n",
       " 'total_pymnt',\n",
       " 'total_pymnt_inv',\n",
       " 'total_rec_prncp',\n",
       " 'total_rev_hi_lim'}"
      ]
     },
     "execution_count": 22,
     "metadata": {},
     "output_type": "execute_result"
    }
   ],
   "source": [
    "correlated_features"
   ]
  },
  {
   "cell_type": "code",
   "execution_count": 23,
   "metadata": {},
   "outputs": [],
   "source": [
    "#Dropping the highly correlated features from the dataframe\n",
    "\n",
    "df = df.drop(labels = correlated_features, axis = 1)"
   ]
  },
  {
   "cell_type": "markdown",
   "metadata": {},
   "source": [
    "From the output above:\n",
    "    \n",
    "- Identified features that were highly correlated with another feature in the dataset (Pearson correlation coefficient > 0.8) \n",
    "- The number of features that met this threshold was 9."
   ]
  },
  {
   "cell_type": "markdown",
   "metadata": {},
   "source": [
    "### Univariate ROC-AUC score to filter features\n",
    "\n",
    "In the section below:\n",
    "\n",
    "- A decision tree classifier is fit for each feature in the data set and an roc-auc score is computed for each feature.\n",
    "- The roc-auc scores of each feature in the data is evaluated and features that are above a good roc-auc threshold are selected."
   ]
  },
  {
   "cell_type": "code",
   "execution_count": 24,
   "metadata": {},
   "outputs": [],
   "source": [
    "#Empty list to store roc-auc score of each feature \n",
    "\n",
    "roc_auc_scores = []\n",
    "\n",
    "#Looping over each feature and fitting a classifier and computing the prediction roc-auc score \n",
    "\n",
    "for feature in X_train.columns:\n",
    "    \n",
    "    DT_classifier = DecisionTreeClassifier()\n",
    "    DT_classifier.fit(X_train[feature].fillna(0).to_frame(), y_train)\n",
    "    target_score = DT_classifier.predict_proba(X_test[feature].fillna(0).to_frame())\n",
    "    roc_auc_scores.append(roc_auc_score(y_test, target_score[:, 1]))"
   ]
  },
  {
   "cell_type": "code",
   "execution_count": 25,
   "metadata": {},
   "outputs": [
    {
     "data": {
      "text/plain": [
       "<matplotlib.axes._subplots.AxesSubplot at 0x168a2c31fd0>"
      ]
     },
     "execution_count": 25,
     "metadata": {},
     "output_type": "execute_result"
    },
    {
     "data": {
      "image/png": "[encoded data removed]",
      "text/plain": [
       "<Figure size 432x288 with 1 Axes>"
      ]
     },
     "metadata": {},
     "output_type": "display_data"
    }
   ],
   "source": [
    "#Creating a bar plot in order to visualize the roc-auc scores\n",
    "\n",
    "#Converting the roc-auc scores to a series\n",
    "\n",
    "roc_auc_scores = pd.Series(roc_auc_scores)\n",
    "\n",
    "#Creating a bar plot to visualize the scores\n",
    "\n",
    "roc_auc_scores.index = X_train.columns\n",
    "\n",
    "roc_auc_scores.sort_values(ascending=False).plot.bar()"
   ]
  },
  {
   "cell_type": "code",
   "execution_count": 26,
   "metadata": {},
   "outputs": [
    {
     "data": {
      "text/plain": [
       "Series([], dtype: float64)"
      ]
     },
     "execution_count": 26,
     "metadata": {},
     "output_type": "execute_result"
    }
   ],
   "source": [
    "bad_features = roc_auc_scores[roc_auc_scores < 0.5]\n",
    "bad_features"
   ]
  },
  {
   "cell_type": "markdown",
   "metadata": {},
   "source": [
    "From the output above:\n",
    "\n",
    "- Since all the features perform better than a random prediction (roc-auc score < 0.5) none of the features are filtered and removed using the univariate roc-auc filter method."
   ]
  },
  {
   "cell_type": "markdown",
   "metadata": {},
   "source": [
    "## Preparing features for feature selection using Machine Learning Algorithms\n",
    "\n",
    "**Aim**: The aim of this section is to prepare features for feature selection using Machine Learning Algorithms:\n",
    "\n",
    "- Removing features with redundant information\n",
    "- Converting features with dates to a numeric value that can be interpreted by the machine learning model.\n",
    "- Handling features with missing values\n",
    "- Integer encoding the ordinal categorical features\n",
    "- One hot encoding the nominal categorical features"
   ]
  },
  {
   "cell_type": "markdown",
   "metadata": {},
   "source": [
    "### Features with redundant information\n",
    "\n",
    "In the section below:\n",
    "\n",
    "- Features that provide no predictive value such as the ID of each borrower is filtered and removed.\n",
    "- This provides dimensionality reduction"
   ]
  },
  {
   "cell_type": "markdown",
   "metadata": {},
   "source": [
    "**member_id**\n",
    "\n",
    "- The 'member_id' is a feature that gives each borrower a unique identifier. \n",
    "- Since identifiers do not add value to the machine learning model the feature is dropped from the dataframe."
   ]
  },
  {
   "cell_type": "code",
   "execution_count": 27,
   "metadata": {},
   "outputs": [],
   "source": [
    "df = df.drop('member_id', axis = 1)"
   ]
  },
  {
   "cell_type": "markdown",
   "metadata": {},
   "source": [
    "**loan_status**\n",
    "\n",
    "- The 'loan_status' is a feature that has already been encoded as 'default' this feature now becomes duplicated and therefore redundant"
   ]
  },
  {
   "cell_type": "code",
   "execution_count": 28,
   "metadata": {},
   "outputs": [],
   "source": [
    "df = df.drop('loan_status', axis = 1)"
   ]
  },
  {
   "cell_type": "markdown",
   "metadata": {},
   "source": [
    "**Index Column**\n",
    "\n",
    "- The index column is a feature that gives each row a unique number.\n",
    "- Since identifiers do not add value to the machine learning model the feature is dropped from the dataframe."
   ]
  },
  {
   "cell_type": "code",
   "execution_count": 29,
   "metadata": {},
   "outputs": [],
   "source": [
    "df = df.drop('Unnamed: 0', axis = 1)"
   ]
  },
  {
   "cell_type": "markdown",
   "metadata": {},
   "source": [
    "**next_pymnt_d: Next payment date**\n",
    "\n",
    "- This feature only contains 1.5% of the total values in the dataset.\n",
    "- Since 98.5% of the values are missing this feature becomes redundant and does not add logical value to the machine learning model."
   ]
  },
  {
   "cell_type": "code",
   "execution_count": 30,
   "metadata": {},
   "outputs": [],
   "source": [
    "df = df.drop('next_pymnt_d', axis = 1)"
   ]
  },
  {
   "cell_type": "markdown",
   "metadata": {},
   "source": [
    "**title**\n",
    "\n",
    "- The 'title' is a feature that has already been encoded as 'purpose'.\n",
    "- This feature now becomes duplicated and therefore redundant."
   ]
  },
  {
   "cell_type": "code",
   "execution_count": 31,
   "metadata": {},
   "outputs": [],
   "source": [
    "df = df.drop('title', axis = 1)"
   ]
  },
  {
   "cell_type": "markdown",
   "metadata": {},
   "source": [
    "**emp_title: Employment title**\n",
    "\n",
    "- The employment title is a feature that has over 50 unique titles for the borrower based on the nature of employment.\n",
    "- As these titles have different incomes based on a range of factors such as the company, years of experience they do not inheriently have meaning to the machine learning model.\n",
    "- A better feature that can predict loan defaults is the annual income of the borrower which correlates better with default prediction and has meaning. \n",
    "- Thus the title of employment is a redundant feature that only has a lot of texual information without numeric value."
   ]
  },
  {
   "cell_type": "code",
   "execution_count": 32,
   "metadata": {},
   "outputs": [],
   "source": [
    "df = df.drop('emp_title', axis = 1)"
   ]
  },
  {
   "cell_type": "markdown",
   "metadata": {},
   "source": [
    "From the output above:\n",
    "    \n",
    "- The dataset is now left with 35 features."
   ]
  },
  {
   "cell_type": "markdown",
   "metadata": {},
   "source": [
    "### Features with dates\n",
    "\n",
    "In the section below:\n",
    "\n",
    "- The dates are converted into a numeric format that can be interpreted by the machine learning model."
   ]
  },
  {
   "cell_type": "markdown",
   "metadata": {},
   "source": [
    "**Earliest Credit Line**\n",
    "\n",
    "- The earliest credit line is converted into a integer that represents the number of years the earliest credit line was opened for the borrower.\n",
    "- *Earliest Credit Line (Years) = 2018 - Year in which the credit line was opened*"
   ]
  },
  {
   "cell_type": "code",
   "execution_count": 33,
   "metadata": {},
   "outputs": [],
   "source": [
    "#Cleaning the column to include only the years\n",
    "\n",
    "df['earliest_cr_line'] = df['earliest_cr_line'].str[4:]\n",
    "\n",
    "#Removing unwanted text\n",
    "\n",
    "df = df[df.earliest_cr_line.str.contains(\"ction\") == False]\n",
    "\n",
    "#Converting the column elements into integers\n",
    "\n",
    "df['earliest_cr_line'] = df['earliest_cr_line'].astype('int64')\n",
    "\n",
    "#Subracting the current year 2018 from each element \n",
    "\n",
    "df['earliest_cr_line'] = (2018 - df['earliest_cr_line'])\n",
    "\n",
    "warnings.filterwarnings('ignore')"
   ]
  },
  {
   "cell_type": "markdown",
   "metadata": {},
   "source": [
    "**Issue Date**\n",
    "\n",
    "- The issue date is converted into a integer that represents the number of years the loan was issued to the borrower.\n",
    "- *Issue date (Years) = 2018 - Year in which the loan was issued*"
   ]
  },
  {
   "cell_type": "code",
   "execution_count": 34,
   "metadata": {},
   "outputs": [],
   "source": [
    "#Cleaning the column to include only the years\n",
    "\n",
    "df['issue_d'] = df['issue_d'].str[4:]\n",
    "\n",
    "#Removing unwanted text\n",
    "\n",
    "df = df[df.issue_d.str.contains(\"ction\") == False]\n",
    "\n",
    "#Converting the column elements into integers\n",
    "\n",
    "df['issue_d'] = df['issue_d'].astype('int64')\n",
    "\n",
    "#Subracting the current year 2018 from each element \n",
    "\n",
    "df['issue_d'] = (2018 - df['issue_d'])\n",
    "\n",
    "warnings.filterwarnings('ignore')"
   ]
  },
  {
   "cell_type": "markdown",
   "metadata": {},
   "source": [
    "**Last Payment Date**\n",
    "\n",
    "- The last payment date is converted into a integer that represents the number of years since the last payment was made by the borrower.\n",
    "- *Last payment date (Years) = 2018 - Year in which the last payment was made by the borrower*"
   ]
  },
  {
   "cell_type": "code",
   "execution_count": 35,
   "metadata": {},
   "outputs": [],
   "source": [
    "#Filling the NaN's with 3, 3 is the most common value for the last payment date \n",
    "\n",
    "df['last_pymnt_d'] = df['last_pymnt_d'].fillna(3)\n",
    "\n",
    "#Cleaning the column to include only the years\n",
    "\n",
    "df['last_pymnt_d'] = df['last_pymnt_d'].str[4:]\n",
    "\n",
    "#Removing unwanted text\n",
    "\n",
    "df = df[df.last_pymnt_d.str.contains(\"ction\") == False]\n",
    "\n",
    "#Converting the column elements into integers\n",
    "\n",
    "df['last_pymnt_d'] = df['last_pymnt_d'].astype('int64')\n",
    "\n",
    "#Subracting the current year 2018 from each element \n",
    "\n",
    "df['last_pymnt_d'] = (2018 - df['last_pymnt_d'])\n",
    "\n",
    "warnings.filterwarnings('ignore')"
   ]
  },
  {
   "cell_type": "markdown",
   "metadata": {},
   "source": [
    "**Last Credit Pull Date**\n",
    "\n",
    "- The last credit pull date is converted into a integer that represents the number of years since the last credit was pulled by the borrower.\n",
    "- *Last credit pull date (Years) = 2018 - Year in which the last credit was pulled by the borrower*"
   ]
  },
  {
   "cell_type": "code",
   "execution_count": 36,
   "metadata": {},
   "outputs": [],
   "source": [
    "#Filling the NaN's with 2 as 2 is the most common value for the last credit pull date \n",
    "\n",
    "df['last_credit_pull_d'] = df['last_credit_pull_d'].fillna(2)\n",
    "\n",
    "#Cleaning the column to include only the years\n",
    "\n",
    "df['last_credit_pull_d'] = df['last_credit_pull_d'].str[4:]\n",
    "\n",
    "#Removing unwanted text\n",
    "\n",
    "df = df[df.last_credit_pull_d.str.contains(\"ction\") == False]\n",
    "\n",
    "#Converting the column elements into integers\n",
    "\n",
    "df['last_credit_pull_d'] = df['last_credit_pull_d'].astype('int64')\n",
    "\n",
    "#Subracting the current year 2018 from each element \n",
    "\n",
    "df['last_credit_pull_d'] = (2018 - df['last_credit_pull_d'])\n",
    "\n",
    "warnings.filterwarnings('ignore')"
   ]
  },
  {
   "cell_type": "markdown",
   "metadata": {},
   "source": [
    "### Features with missing values\n",
    "\n",
    "In the section below:\n",
    "\n",
    "- Features with missing values are handled with appropriate imputation strategies."
   ]
  },
  {
   "cell_type": "code",
   "execution_count": 37,
   "metadata": {},
   "outputs": [
    {
     "data": {
      "text/plain": [
       "emp_length       9965\n",
       "tot_coll_amt    66329\n",
       "tot_cur_bal     66329\n",
       "dtype: int64"
      ]
     },
     "execution_count": 37,
     "metadata": {},
     "output_type": "execute_result"
    }
   ],
   "source": [
    "#Extracting features and the number of missing values.\n",
    "\n",
    "missing_features = df.isnull().sum()\n",
    "missing = missing_features[missing_features > 0]\n",
    "missing"
   ]
  },
  {
   "cell_type": "markdown",
   "metadata": {},
   "source": [
    "From the output above:\n",
    "\n",
    "- There are 3 features with missing values "
   ]
  },
  {
   "cell_type": "markdown",
   "metadata": {},
   "source": [
    "**Feature 1: tot_coll_amt**"
   ]
  },
  {
   "cell_type": "code",
   "execution_count": 38,
   "metadata": {},
   "outputs": [
    {
     "data": {
      "text/plain": [
       "0.0        168190\n",
       "50.0          349\n",
       "100.0         304\n",
       "75.0          239\n",
       "150.0         142\n",
       "200.0         130\n",
       "80.0          124\n",
       "55.0          122\n",
       "60.0          116\n",
       "90.0          114\n",
       "70.0          113\n",
       "85.0          106\n",
       "65.0           99\n",
       "79.0           89\n",
       "54.0           89\n",
       "95.0           89\n",
       "69.0           85\n",
       "58.0           83\n",
       "53.0           82\n",
       "66.0           80\n",
       "78.0           80\n",
       "77.0           79\n",
       "71.0           79\n",
       "250.0          78\n",
       "86.0           78\n",
       "72.0           77\n",
       "56.0           77\n",
       "59.0           75\n",
       "300.0          75\n",
       "63.0           75\n",
       "            ...  \n",
       "1843.0          1\n",
       "15309.0         1\n",
       "2534.0          1\n",
       "4809.0          1\n",
       "1915.0          1\n",
       "2405.0          1\n",
       "6736.0          1\n",
       "1167.0          1\n",
       "5603.0          1\n",
       "1482.0          1\n",
       "3431.0          1\n",
       "1956.0          1\n",
       "4815.0          1\n",
       "2190.0          1\n",
       "8520.0          1\n",
       "3862.0          1\n",
       "2409.0          1\n",
       "7978.0          1\n",
       "6928.0          1\n",
       "1761.0          1\n",
       "4024.0          1\n",
       "8984.0          1\n",
       "2411.0          1\n",
       "3661.0          1\n",
       "6932.0          1\n",
       "5597.0          1\n",
       "2413.0          1\n",
       "22384.0         1\n",
       "7642.0          1\n",
       "3395.0          1\n",
       "Name: tot_coll_amt, Length: 4036, dtype: int64"
      ]
     },
     "execution_count": 38,
     "metadata": {},
     "output_type": "execute_result"
    }
   ],
   "source": [
    "df['tot_coll_amt'].value_counts()"
   ]
  },
  {
   "cell_type": "markdown",
   "metadata": {},
   "source": [
    "From the output above:\n",
    "\n",
    "- Since the majority of the values are 0 (65%) imputing the missing values with 0 makes the most logical sense."
   ]
  },
  {
   "cell_type": "code",
   "execution_count": 39,
   "metadata": {},
   "outputs": [],
   "source": [
    "#Imputing the missing values with 0\n",
    "\n",
    "df['tot_coll_amt'] = df['tot_coll_amt'].fillna(0)"
   ]
  },
  {
   "cell_type": "markdown",
   "metadata": {},
   "source": [
    "**Feature 2: tot_cur_bal**"
   ]
  },
  {
   "cell_type": "code",
   "execution_count": 40,
   "metadata": {},
   "outputs": [
    {
     "data": {
      "text/plain": [
       "0.0         48\n",
       "25341.0      9\n",
       "28674.0      9\n",
       "4875.0       9\n",
       "30491.0      9\n",
       "13530.0      9\n",
       "19376.0      9\n",
       "27222.0      8\n",
       "13721.0      8\n",
       "26201.0      8\n",
       "15043.0      8\n",
       "22060.0      8\n",
       "25443.0      8\n",
       "13166.0      8\n",
       "30652.0      8\n",
       "12022.0      8\n",
       "21944.0      8\n",
       "11329.0      8\n",
       "16709.0      8\n",
       "15886.0      8\n",
       "45492.0      8\n",
       "18311.0      8\n",
       "17382.0      7\n",
       "193847.0     7\n",
       "9958.0       7\n",
       "16054.0      7\n",
       "29288.0      7\n",
       "26302.0      7\n",
       "14186.0      7\n",
       "30092.0      7\n",
       "            ..\n",
       "40595.0      1\n",
       "144459.0     1\n",
       "326620.0     1\n",
       "186229.0     1\n",
       "253298.0     1\n",
       "457679.0     1\n",
       "132380.0     1\n",
       "163302.0     1\n",
       "326591.0     1\n",
       "43526.0      1\n",
       "57207.0      1\n",
       "163293.0     1\n",
       "24437.0      1\n",
       "158972.0     1\n",
       "15445.0      1\n",
       "326589.0     1\n",
       "228831.0     1\n",
       "112829.0     1\n",
       "503538.0     1\n",
       "280472.0     1\n",
       "1015.0       1\n",
       "223055.0     1\n",
       "7662.0       1\n",
       "326596.0     1\n",
       "110408.0     1\n",
       "228835.0     1\n",
       "52231.0      1\n",
       "163332.0     1\n",
       "248875.0     1\n",
       "49152.0      1\n",
       "Name: tot_cur_bal, Length: 135093, dtype: int64"
      ]
     },
     "execution_count": 40,
     "metadata": {},
     "output_type": "execute_result"
    }
   ],
   "source": [
    "df['tot_cur_bal'].value_counts()"
   ]
  },
  {
   "cell_type": "markdown",
   "metadata": {},
   "source": [
    "From the output above:\n",
    "    \n",
    "- Since there is no value that stands out as the majority, imputing the missing values with the mean makes the most logical sense."
   ]
  },
  {
   "cell_type": "code",
   "execution_count": 41,
   "metadata": {},
   "outputs": [],
   "source": [
    "df['tot_cur_bal'] = df['tot_cur_bal'].fillna(df['tot_cur_bal'].mean())"
   ]
  },
  {
   "cell_type": "markdown",
   "metadata": {},
   "source": [
    "**Feature 3: emp_length**"
   ]
  },
  {
   "cell_type": "code",
   "execution_count": 42,
   "metadata": {},
   "outputs": [
    {
     "data": {
      "text/plain": [
       "10+ years    77589\n",
       "2 years      23937\n",
       "< 1 year     21376\n",
       "3 years      20702\n",
       "5 years      18257\n",
       "1 year       17254\n",
       "4 years      16429\n",
       "6 years      14929\n",
       "7 years      14223\n",
       "8 years      12004\n",
       "9 years       9675\n",
       "Name: emp_length, dtype: int64"
      ]
     },
     "execution_count": 42,
     "metadata": {},
     "output_type": "execute_result"
    }
   ],
   "source": [
    "df['emp_length'].value_counts()"
   ]
  },
  {
   "cell_type": "markdown",
   "metadata": {},
   "source": [
    "From the output above:\n",
    "    \n",
    "- The feature can be converted into a numerical data type instead of object.\n",
    "- Once converted the missing values can then be imputed using the mean of the feature as there is no single majority value. "
   ]
  },
  {
   "cell_type": "code",
   "execution_count": 43,
   "metadata": {},
   "outputs": [],
   "source": [
    "#Data cleaning ot convert the strings to numeric\n",
    "\n",
    "df['emp_length'] = df['emp_length'].str.replace('+', '')\n",
    "df['emp_length'] = df['emp_length'].str.replace('year$', '')\n",
    "df['emp_length'] = df['emp_length'].str.replace('years', '')\n",
    "df['emp_length'] = df['emp_length'].str.replace('<', '')\n",
    "df['emp_length'] = df['emp_length'].str.replace(' 1', '0')"
   ]
  },
  {
   "cell_type": "code",
   "execution_count": 44,
   "metadata": {},
   "outputs": [
    {
     "data": {
      "text/plain": [
       "5.813767630644343"
      ]
     },
     "execution_count": 44,
     "metadata": {},
     "output_type": "execute_result"
    }
   ],
   "source": [
    "#Computing the mean of the feature \n",
    "\n",
    "mean = ((10 * 77589) + (2 * 23937) + (3 * 20702) + (5 * 18257)  + (1 * 17254) + (4 * 16429) + (6 * 14929) + \n",
    "(7 * 14223) + (8 * 12004) + (9 * 9675))/246375\n",
    "mean"
   ]
  },
  {
   "cell_type": "code",
   "execution_count": 45,
   "metadata": {},
   "outputs": [],
   "source": [
    "#Filling the missing values with the mean\n",
    "\n",
    "df['emp_length'] = df['emp_length'].fillna('6')"
   ]
  },
  {
   "cell_type": "code",
   "execution_count": 46,
   "metadata": {},
   "outputs": [],
   "source": [
    "#Converting the feature to a numeric data type\n",
    "\n",
    "df['emp_length'] = df['emp_length'].astype('int64')"
   ]
  },
  {
   "cell_type": "code",
   "execution_count": 47,
   "metadata": {},
   "outputs": [
    {
     "data": {
      "text/plain": [
       "10    77589\n",
       "6     24894\n",
       "2     23937\n",
       "0     21376\n",
       "3     20702\n",
       "5     18257\n",
       "1     17254\n",
       "4     16429\n",
       "7     14223\n",
       "8     12004\n",
       "9      9675\n",
       "Name: emp_length, dtype: int64"
      ]
     },
     "execution_count": 47,
     "metadata": {},
     "output_type": "execute_result"
    }
   ],
   "source": [
    "df['emp_length'].value_counts()"
   ]
  },
  {
   "cell_type": "markdown",
   "metadata": {},
   "source": [
    "### One-hot encoding the categorical features\n",
    "\n",
    "In the section below: \n",
    "\n",
    "- The features that are of the 'object' type and are categorical in nature are identified and one-hot encoded so that they can be fit into the machine learning model.\n",
    "- Features of the 'object' type and are 'numerical' in nature are identified and converted into numerical.. "
   ]
  },
  {
   "cell_type": "code",
   "execution_count": 48,
   "metadata": {},
   "outputs": [],
   "source": [
    "#Storing the categorical features into a list\n",
    "\n",
    "categorical_variables = ['grade', 'sub_grade', 'home_ownership', 'verification_status', 'pymnt_plan', 'purpose', \n",
    "                        'addr_state', 'initial_list_status']\n",
    "\n",
    "#Converting the features to categorical\n",
    "\n",
    "for feature in categorical_variables:\n",
    "    df[feature] = df[feature].astype('category')"
   ]
  },
  {
   "cell_type": "code",
   "execution_count": 49,
   "metadata": {},
   "outputs": [],
   "source": [
    "#Converting the 'term' feature to numerical\n",
    "\n",
    "df['term'] = df['term'].str.replace('months', '')"
   ]
  },
  {
   "cell_type": "code",
   "execution_count": 50,
   "metadata": {},
   "outputs": [],
   "source": [
    "df['term'] = df['term'].astype('int64')"
   ]
  },
  {
   "cell_type": "markdown",
   "metadata": {},
   "source": [
    "**Integer Encoding the ordinal categorical variables**"
   ]
  },
  {
   "cell_type": "code",
   "execution_count": 51,
   "metadata": {},
   "outputs": [],
   "source": [
    "#Encoding the categorical variables into numbers\n",
    "\n",
    "grade_encode = LabelEncoder()\n",
    "sub_grade_encode = LabelEncoder()\n",
    "home_ownership_encode = LabelEncoder()\n",
    "verification_status_encode = LabelEncoder()\n",
    "pymnt_plan_encode = LabelEncoder()\n",
    "purpose_encode = LabelEncoder()\n",
    "addr_state_encode = LabelEncoder()\n",
    "initial_list_status_encode = LabelEncoder()"
   ]
  },
  {
   "cell_type": "markdown",
   "metadata": {},
   "source": [
    "The two ordinal variables are:\n",
    "\n",
    "- Loan Grade\n",
    "- Loan Subgrade \n",
    "- These variables have an order to them as the loan grade A is the best grade, B is the second best and so on."
   ]
  },
  {
   "cell_type": "code",
   "execution_count": 52,
   "metadata": {},
   "outputs": [],
   "source": [
    "df['grade'] = grade_encode.fit_transform(df.grade)\n",
    "df['sub_grade'] = sub_grade_encode.fit_transform(df.sub_grade)"
   ]
  },
  {
   "cell_type": "markdown",
   "metadata": {},
   "source": [
    "**One-hot encoding the ordinal categorical variables**"
   ]
  },
  {
   "cell_type": "code",
   "execution_count": 53,
   "metadata": {},
   "outputs": [],
   "source": [
    "#Encoding the categorical variables into numeric values\n",
    "\n",
    "df['home_ownership'] = home_ownership_encode.fit_transform(df.home_ownership)\n",
    "df['verification_status'] = verification_status_encode.fit_transform(df.verification_status)\n",
    "df['pymnt_plan'] = pymnt_plan_encode.fit_transform(df.pymnt_plan)\n",
    "df['purpose'] = purpose_encode.fit_transform(df.purpose)\n",
    "df['addr_state'] = addr_state_encode.fit_transform(df.addr_state)\n",
    "df['initial_list_status'] = initial_list_status_encode.fit_transform(df.initial_list_status)"
   ]
  },
  {
   "cell_type": "code",
   "execution_count": 54,
   "metadata": {},
   "outputs": [],
   "source": [
    "#One hot encoding the nominal variables\n",
    "\n",
    "home_ohe = OneHotEncoder()\n",
    "verification_ohe = OneHotEncoder()\n",
    "pymnt_ohe = OneHotEncoder()\n",
    "purpose_ohe = OneHotEncoder()\n",
    "addr_ohe = OneHotEncoder()\n",
    "initial_ohe = OneHotEncoder()"
   ]
  },
  {
   "cell_type": "code",
   "execution_count": 55,
   "metadata": {},
   "outputs": [],
   "source": [
    "var1 = home_ohe.fit_transform(df.home_ownership.values.reshape(-1,1)).toarray()\n",
    "var2 = verification_ohe.fit_transform(df.verification_status.values.reshape(-1,1)).toarray()\n",
    "var3 = pymnt_ohe.fit_transform(df.pymnt_plan.values.reshape(-1,1)).toarray()\n",
    "var4 = purpose_ohe.fit_transform(df.purpose.values.reshape(-1,1)).toarray()\n",
    "var5 = addr_ohe.fit_transform(df.addr_state.values.reshape(-1,1)).toarray()\n",
    "var6 = initial_ohe.fit_transform(df.initial_list_status.values.reshape(-1,1)).toarray()"
   ]
  },
  {
   "cell_type": "code",
   "execution_count": 56,
   "metadata": {},
   "outputs": [],
   "source": [
    "#Adding the one hot encoded variables to the dataset \n",
    "\n",
    "ohe_variable = pd.DataFrame(var1, columns = [\"home_ownership_\"+str(int(i)) for i in range(var1.shape[1])])\n",
    "df = pd.concat([df, ohe_variable], axis=1)"
   ]
  },
  {
   "cell_type": "code",
   "execution_count": 57,
   "metadata": {},
   "outputs": [],
   "source": [
    "ohe_variable = pd.DataFrame(var2, columns = [\"verification_status_\"+str(int(i)) for i in range(var2.shape[1])])\n",
    "df = pd.concat([df, ohe_variable], axis=1)"
   ]
  },
  {
   "cell_type": "code",
   "execution_count": 58,
   "metadata": {},
   "outputs": [],
   "source": [
    "ohe_variable = pd.DataFrame(var3, columns = [\"pymnt_plan_\"+str(int(i)) for i in range(var3.shape[1])])\n",
    "df = pd.concat([df, ohe_variable], axis=1)"
   ]
  },
  {
   "cell_type": "code",
   "execution_count": 59,
   "metadata": {},
   "outputs": [],
   "source": [
    "ohe_variable = pd.DataFrame(var4, columns = [\"purpose_\"+str(int(i)) for i in range(var4.shape[1])])\n",
    "df = pd.concat([df, ohe_variable], axis=1)"
   ]
  },
  {
   "cell_type": "code",
   "execution_count": 60,
   "metadata": {},
   "outputs": [],
   "source": [
    "ohe_variable = pd.DataFrame(var5, columns = [\"addr_state_\"+str(int(i)) for i in range(var5.shape[1])])\n",
    "df = pd.concat([df, ohe_variable], axis=1)"
   ]
  },
  {
   "cell_type": "code",
   "execution_count": 61,
   "metadata": {},
   "outputs": [],
   "source": [
    "ohe_variable = pd.DataFrame(var6, columns = [\"initial_list_status_\"+str(int(i)) for i in range(var6.shape[1])])\n",
    "df = pd.concat([df, ohe_variable], axis=1)"
   ]
  },
  {
   "cell_type": "code",
   "execution_count": 62,
   "metadata": {},
   "outputs": [],
   "source": [
    "#Dropping the categorical columns that have been one-hot encoded\n",
    "\n",
    "columns_to_drop = ['home_ownership', 'verification_status', 'pymnt_plan', 'purpose', 'addr_state', 'initial_list_status']\n",
    "df = df.drop(columns_to_drop, axis = 1)"
   ]
  },
  {
   "cell_type": "code",
   "execution_count": 63,
   "metadata": {},
   "outputs": [],
   "source": [
    "#Dropping NaNs introduced after one-hot encoding \n",
    "\n",
    "df = df.dropna()"
   ]
  },
  {
   "cell_type": "markdown",
   "metadata": {},
   "source": [
    "**Dividing the data into training and test sets**"
   ]
  },
  {
   "cell_type": "code",
   "execution_count": 64,
   "metadata": {},
   "outputs": [],
   "source": [
    "X_train, X_test, y_train, y_test = train_test_split(df.drop(labels=['default'], axis=1),\n",
    "                                                    df['default'],test_size=0.3,random_state=42)"
   ]
  },
  {
   "cell_type": "markdown",
   "metadata": {},
   "source": [
    "## Ranking and selecting features using Random Forests\n",
    "\n",
    "In the section below\n",
    "\n",
    "- The features are ranked according to importance using Random Forests. "
   ]
  },
  {
   "cell_type": "code",
   "execution_count": 65,
   "metadata": {},
   "outputs": [],
   "source": [
    "#The random forest with 100 trees & selecting the top 10 features\n",
    "\n",
    "best_features = RFE(RandomForestClassifier(n_estimators=100), n_features_to_select=10)"
   ]
  },
  {
   "cell_type": "code",
   "execution_count": 66,
   "metadata": {},
   "outputs": [
    {
     "data": {
      "text/plain": [
       "RFE(estimator=RandomForestClassifier(bootstrap=True, class_weight=None, criterion='gini',\n",
       "            max_depth=None, max_features='auto', max_leaf_nodes=None,\n",
       "            min_impurity_decrease=0.0, min_impurity_split=None,\n",
       "            min_samples_leaf=1, min_samples_split=2,\n",
       "            min_weight_fraction_leaf=0.0, n_estimators=100, n_jobs=1,\n",
       "            oob_score=False, random_state=None, verbose=0,\n",
       "            warm_start=False),\n",
       "  n_features_to_select=10, step=1, verbose=0)"
      ]
     },
     "execution_count": 66,
     "metadata": {},
     "output_type": "execute_result"
    }
   ],
   "source": [
    "#Fitting the random forest to the training data\n",
    "\n",
    "best_features.fit(X_train, y_train)"
   ]
  },
  {
   "cell_type": "markdown",
   "metadata": {},
   "source": [
    "**The top 10 predictors of default.**"
   ]
  },
  {
   "cell_type": "code",
   "execution_count": 67,
   "metadata": {},
   "outputs": [],
   "source": [
    "top_10 = X_train.columns[(best_features.get_support())]"
   ]
  },
  {
   "cell_type": "code",
   "execution_count": 68,
   "metadata": {},
   "outputs": [
    {
     "data": {
      "text/plain": [
       "Index(['loan_amnt', 'int_rate', 'sub_grade', 'issue_d', 'total_rec_int',\n",
       "       'recoveries', 'last_pymnt_d', 'last_pymnt_amnt', 'last_credit_pull_d',\n",
       "       'tot_cur_bal'],\n",
       "      dtype='object')"
      ]
     },
     "execution_count": 68,
     "metadata": {},
     "output_type": "execute_result"
    }
   ],
   "source": [
    "top_10"
   ]
  },
  {
   "cell_type": "markdown",
   "metadata": {},
   "source": [
    "From the Random Forest Classifier, the top 10 features that predict default using a recursive feature elimination strategy are as follows:\n",
    "\n",
    "1. Loan Amount\n",
    "2. Interest Rate\n",
    "3. Loan Sub-Grade\n",
    "4. Loan Issue Date\n",
    "5. Interest Recieved till date \n",
    "6. Post charge off gross recovery\n",
    "7. Last payment date \n",
    "8. Last payment amount\n",
    "9. The most recent month Lending Club pulled credit for the loan\n",
    "10. The total current balance of all accounts of the borrower."
   ]
  },
  {
   "cell_type": "markdown",
   "metadata": {},
   "source": [
    "## Evaluation of feature selection performance using a k-NN Classifier\n",
    "\n",
    "**Aim**: The section aims to evaluate the performance of a k-NN on the data post feature selection and as such has two main aims:\n",
    "\n",
    "- Understanding if feature selection improves the prediction performance using a k-Nearest Neighbour classifier. \n",
    "- Understanding the optimal number of features that provide the best prediction performance.\n",
    "\n",
    "*The k-Nearest Neighbour classifer is chosen as it is not a tree based classifier. Since feature selection was performed using a tree based classifier, i.e The Random Forest, using another tree based classifier to evaluate the performance of feature selection may give biased results.*"
   ]
  },
  {
   "cell_type": "markdown",
   "metadata": {},
   "source": [
    "**Top 20 features**"
   ]
  },
  {
   "cell_type": "code",
   "execution_count": 69,
   "metadata": {},
   "outputs": [
    {
     "data": {
      "text/plain": [
       "RFE(estimator=RandomForestClassifier(bootstrap=True, class_weight=None, criterion='gini',\n",
       "            max_depth=None, max_features='auto', max_leaf_nodes=None,\n",
       "            min_impurity_decrease=0.0, min_impurity_split=None,\n",
       "            min_samples_leaf=1, min_samples_split=2,\n",
       "            min_weight_fraction_leaf=0.0, n_estimators=100, n_jobs=1,\n",
       "            oob_score=False, random_state=None, verbose=0,\n",
       "            warm_start=False),\n",
       "  n_features_to_select=20, step=1, verbose=0)"
      ]
     },
     "execution_count": 69,
     "metadata": {},
     "output_type": "execute_result"
    }
   ],
   "source": [
    "#The random forest with 100 trees & selecting the top 20 features\n",
    "\n",
    "best_features_20 = RFE(RandomForestClassifier(n_estimators=100), n_features_to_select=20)\n",
    "\n",
    "#Fitting the random forest to the training data\n",
    "\n",
    "best_features_20.fit(X_train, y_train)"
   ]
  },
  {
   "cell_type": "code",
   "execution_count": 70,
   "metadata": {},
   "outputs": [],
   "source": [
    "top_20 = X_train.columns[(best_features_20.get_support())]"
   ]
  },
  {
   "cell_type": "markdown",
   "metadata": {},
   "source": [
    "**Top 30 features**"
   ]
  },
  {
   "cell_type": "code",
   "execution_count": 71,
   "metadata": {},
   "outputs": [
    {
     "data": {
      "text/plain": [
       "RFE(estimator=RandomForestClassifier(bootstrap=True, class_weight=None, criterion='gini',\n",
       "            max_depth=None, max_features='auto', max_leaf_nodes=None,\n",
       "            min_impurity_decrease=0.0, min_impurity_split=None,\n",
       "            min_samples_leaf=1, min_samples_split=2,\n",
       "            min_weight_fraction_leaf=0.0, n_estimators=100, n_jobs=1,\n",
       "            oob_score=False, random_state=None, verbose=0,\n",
       "            warm_start=False),\n",
       "  n_features_to_select=30, step=1, verbose=0)"
      ]
     },
     "execution_count": 71,
     "metadata": {},
     "output_type": "execute_result"
    }
   ],
   "source": [
    "#The random forest with 100 trees & selecting the top 30 features\n",
    "\n",
    "best_features_30 = RFE(RandomForestClassifier(n_estimators=100), n_features_to_select=30)\n",
    "\n",
    "#Fitting the random forest to the training data\n",
    "\n",
    "best_features_30.fit(X_train, y_train)"
   ]
  },
  {
   "cell_type": "code",
   "execution_count": 72,
   "metadata": {},
   "outputs": [],
   "source": [
    "top_30 = X_train.columns[(best_features_30.get_support())]"
   ]
  },
  {
   "cell_type": "markdown",
   "metadata": {},
   "source": [
    "**Top 40 features**"
   ]
  },
  {
   "cell_type": "code",
   "execution_count": 73,
   "metadata": {},
   "outputs": [
    {
     "data": {
      "text/plain": [
       "RFE(estimator=RandomForestClassifier(bootstrap=True, class_weight=None, criterion='gini',\n",
       "            max_depth=None, max_features='auto', max_leaf_nodes=None,\n",
       "            min_impurity_decrease=0.0, min_impurity_split=None,\n",
       "            min_samples_leaf=1, min_samples_split=2,\n",
       "            min_weight_fraction_leaf=0.0, n_estimators=100, n_jobs=1,\n",
       "            oob_score=False, random_state=None, verbose=0,\n",
       "            warm_start=False),\n",
       "  n_features_to_select=40, step=1, verbose=0)"
      ]
     },
     "execution_count": 73,
     "metadata": {},
     "output_type": "execute_result"
    }
   ],
   "source": [
    "#The random forest with 100 trees & selecting the top 30 features\n",
    "\n",
    "best_features_40 = RFE(RandomForestClassifier(n_estimators=100), n_features_to_select=40)\n",
    "\n",
    "#Fitting the random forest to the training data\n",
    "\n",
    "best_features_40.fit(X_train, y_train)"
   ]
  },
  {
   "cell_type": "code",
   "execution_count": 74,
   "metadata": {},
   "outputs": [],
   "source": [
    "top_40 = X_train.columns[(best_features_40.get_support())]"
   ]
  },
  {
   "cell_type": "markdown",
   "metadata": {},
   "source": [
    "**Top 50 features**"
   ]
  },
  {
   "cell_type": "code",
   "execution_count": 75,
   "metadata": {},
   "outputs": [
    {
     "data": {
      "text/plain": [
       "RFE(estimator=RandomForestClassifier(bootstrap=True, class_weight=None, criterion='gini',\n",
       "            max_depth=None, max_features='auto', max_leaf_nodes=None,\n",
       "            min_impurity_decrease=0.0, min_impurity_split=None,\n",
       "            min_samples_leaf=1, min_samples_split=2,\n",
       "            min_weight_fraction_leaf=0.0, n_estimators=100, n_jobs=1,\n",
       "            oob_score=False, random_state=None, verbose=0,\n",
       "            warm_start=False),\n",
       "  n_features_to_select=50, step=1, verbose=0)"
      ]
     },
     "execution_count": 75,
     "metadata": {},
     "output_type": "execute_result"
    }
   ],
   "source": [
    "#The random forest with 100 trees & selecting the top 30 features\n",
    "\n",
    "best_features_50 = RFE(RandomForestClassifier(n_estimators=100), n_features_to_select=50)\n",
    "\n",
    "#Fitting the random forest to the training data\n",
    "\n",
    "best_features_50.fit(X_train, y_train)"
   ]
  },
  {
   "cell_type": "code",
   "execution_count": 76,
   "metadata": {},
   "outputs": [],
   "source": [
    "top_50 = X_train.columns[(best_features_50.get_support())]"
   ]
  },
  {
   "cell_type": "markdown",
   "metadata": {},
   "source": [
    "**Top 60 features**"
   ]
  },
  {
   "cell_type": "code",
   "execution_count": 77,
   "metadata": {},
   "outputs": [
    {
     "data": {
      "text/plain": [
       "RFE(estimator=RandomForestClassifier(bootstrap=True, class_weight=None, criterion='gini',\n",
       "            max_depth=None, max_features='auto', max_leaf_nodes=None,\n",
       "            min_impurity_decrease=0.0, min_impurity_split=None,\n",
       "            min_samples_leaf=1, min_samples_split=2,\n",
       "            min_weight_fraction_leaf=0.0, n_estimators=100, n_jobs=1,\n",
       "            oob_score=False, random_state=None, verbose=0,\n",
       "            warm_start=False),\n",
       "  n_features_to_select=60, step=1, verbose=0)"
      ]
     },
     "execution_count": 77,
     "metadata": {},
     "output_type": "execute_result"
    }
   ],
   "source": [
    "#The random forest with 100 trees & selecting the top 30 features\n",
    "\n",
    "best_features_60 = RFE(RandomForestClassifier(n_estimators=100), n_features_to_select=60)\n",
    "\n",
    "#Fitting the random forest to the training data\n",
    "\n",
    "best_features_60.fit(X_train, y_train)"
   ]
  },
  {
   "cell_type": "code",
   "execution_count": 78,
   "metadata": {},
   "outputs": [],
   "source": [
    "top_60 = X_train.columns[(best_features_60.get_support())]"
   ]
  },
  {
   "cell_type": "markdown",
   "metadata": {},
   "source": [
    "**Top 70 features**"
   ]
  },
  {
   "cell_type": "code",
   "execution_count": 79,
   "metadata": {},
   "outputs": [
    {
     "data": {
      "text/plain": [
       "RFE(estimator=RandomForestClassifier(bootstrap=True, class_weight=None, criterion='gini',\n",
       "            max_depth=None, max_features='auto', max_leaf_nodes=None,\n",
       "            min_impurity_decrease=0.0, min_impurity_split=None,\n",
       "            min_samples_leaf=1, min_samples_split=2,\n",
       "            min_weight_fraction_leaf=0.0, n_estimators=100, n_jobs=1,\n",
       "            oob_score=False, random_state=None, verbose=0,\n",
       "            warm_start=False),\n",
       "  n_features_to_select=70, step=1, verbose=0)"
      ]
     },
     "execution_count": 79,
     "metadata": {},
     "output_type": "execute_result"
    }
   ],
   "source": [
    "#The random forest with 100 trees & selecting the top 30 features\n",
    "\n",
    "best_features_70 = RFE(RandomForestClassifier(n_estimators=100), n_features_to_select=70)\n",
    "\n",
    "#Fitting the random forest to the training data\n",
    "\n",
    "best_features_70.fit(X_train, y_train)"
   ]
  },
  {
   "cell_type": "code",
   "execution_count": 80,
   "metadata": {},
   "outputs": [],
   "source": [
    "top_70 = X_train.columns[(best_features_70.get_support())]"
   ]
  },
  {
   "cell_type": "markdown",
   "metadata": {},
   "source": [
    "**Top 80 features**"
   ]
  },
  {
   "cell_type": "code",
   "execution_count": 81,
   "metadata": {},
   "outputs": [
    {
     "data": {
      "text/plain": [
       "RFE(estimator=RandomForestClassifier(bootstrap=True, class_weight=None, criterion='gini',\n",
       "            max_depth=None, max_features='auto', max_leaf_nodes=None,\n",
       "            min_impurity_decrease=0.0, min_impurity_split=None,\n",
       "            min_samples_leaf=1, min_samples_split=2,\n",
       "            min_weight_fraction_leaf=0.0, n_estimators=100, n_jobs=1,\n",
       "            oob_score=False, random_state=None, verbose=0,\n",
       "            warm_start=False),\n",
       "  n_features_to_select=80, step=1, verbose=0)"
      ]
     },
     "execution_count": 81,
     "metadata": {},
     "output_type": "execute_result"
    }
   ],
   "source": [
    "#The random forest with 100 trees & selecting the top 30 features\n",
    "\n",
    "best_features_80 = RFE(RandomForestClassifier(n_estimators=100), n_features_to_select=80)\n",
    "\n",
    "#Fitting the random forest to the training data\n",
    "\n",
    "best_features_80.fit(X_train, y_train)"
   ]
  },
  {
   "cell_type": "code",
   "execution_count": 82,
   "metadata": {},
   "outputs": [],
   "source": [
    "top_80 = X_train.columns[(best_features_80.get_support())]"
   ]
  },
  {
   "cell_type": "markdown",
   "metadata": {},
   "source": [
    "**Top 90 features**"
   ]
  },
  {
   "cell_type": "code",
   "execution_count": 83,
   "metadata": {},
   "outputs": [
    {
     "data": {
      "text/plain": [
       "RFE(estimator=RandomForestClassifier(bootstrap=True, class_weight=None, criterion='gini',\n",
       "            max_depth=None, max_features='auto', max_leaf_nodes=None,\n",
       "            min_impurity_decrease=0.0, min_impurity_split=None,\n",
       "            min_samples_leaf=1, min_samples_split=2,\n",
       "            min_weight_fraction_leaf=0.0, n_estimators=100, n_jobs=1,\n",
       "            oob_score=False, random_state=None, verbose=0,\n",
       "            warm_start=False),\n",
       "  n_features_to_select=90, step=1, verbose=0)"
      ]
     },
     "execution_count": 83,
     "metadata": {},
     "output_type": "execute_result"
    }
   ],
   "source": [
    "#The random forest with 100 trees & selecting the top 30 features\n",
    "\n",
    "best_features_90 = RFE(RandomForestClassifier(n_estimators=100), n_features_to_select=90)\n",
    "\n",
    "#Fitting the random forest to the training data\n",
    "\n",
    "best_features_90.fit(X_train, y_train)"
   ]
  },
  {
   "cell_type": "code",
   "execution_count": 84,
   "metadata": {},
   "outputs": [],
   "source": [
    "top_90 = X_train.columns[(best_features_90.get_support())]"
   ]
  },
  {
   "cell_type": "markdown",
   "metadata": {},
   "source": [
    "**Top 100 features**"
   ]
  },
  {
   "cell_type": "code",
   "execution_count": 85,
   "metadata": {},
   "outputs": [
    {
     "data": {
      "text/plain": [
       "RFE(estimator=RandomForestClassifier(bootstrap=True, class_weight=None, criterion='gini',\n",
       "            max_depth=None, max_features='auto', max_leaf_nodes=None,\n",
       "            min_impurity_decrease=0.0, min_impurity_split=None,\n",
       "            min_samples_leaf=1, min_samples_split=2,\n",
       "            min_weight_fraction_leaf=0.0, n_estimators=100, n_jobs=1,\n",
       "            oob_score=False, random_state=None, verbose=0,\n",
       "            warm_start=False),\n",
       "  n_features_to_select=100, step=1, verbose=0)"
      ]
     },
     "execution_count": 85,
     "metadata": {},
     "output_type": "execute_result"
    }
   ],
   "source": [
    "#The random forest with 100 trees & selecting the top 30 features\n",
    "\n",
    "best_features_100 = RFE(RandomForestClassifier(n_estimators=100), n_features_to_select=100)\n",
    "\n",
    "#Fitting the random forest to the training data\n",
    "\n",
    "best_features_100.fit(X_train, y_train)"
   ]
  },
  {
   "cell_type": "code",
   "execution_count": 86,
   "metadata": {},
   "outputs": [],
   "source": [
    "top_100 = X_train.columns[(best_features_100.get_support())]"
   ]
  },
  {
   "cell_type": "markdown",
   "metadata": {},
   "source": [
    "**k-NN Classifier & ROC-AUC Score function**"
   ]
  },
  {
   "cell_type": "code",
   "execution_count": 87,
   "metadata": {},
   "outputs": [],
   "source": [
    "def knn_score(X_train, X_test, y_train, y_test):\n",
    "    \n",
    "    knn = KNeighborsClassifier()\n",
    "    knn.fit(X_train, y_train)\n",
    "    prediction = knn.predict_proba(X_test)\n",
    "    print('k-NN roc-auc score is {}'.format(roc_auc_score(y_test, prediction[:,1])))"
   ]
  },
  {
   "cell_type": "markdown",
   "metadata": {},
   "source": [
    "**ROC-AUC Scores for top-N features.**"
   ]
  },
  {
   "cell_type": "code",
   "execution_count": 88,
   "metadata": {},
   "outputs": [
    {
     "name": "stdout",
     "output_type": "stream",
     "text": [
      "k-NN roc-auc score is 0.8790249374105603\n"
     ]
    }
   ],
   "source": [
    "#Original Dataset without Recursive Random Forest Feature Selection\n",
    "\n",
    "knn_score(X_train, X_test, y_train, y_test)"
   ]
  },
  {
   "cell_type": "code",
   "execution_count": 89,
   "metadata": {},
   "outputs": [
    {
     "name": "stdout",
     "output_type": "stream",
     "text": [
      "k-NN roc-auc score is 0.946636304598041\n"
     ]
    }
   ],
   "source": [
    "#Top 10 Features\n",
    "\n",
    "knn_score(X_train[top_10], X_test[top_10], y_train, y_test)"
   ]
  },
  {
   "cell_type": "code",
   "execution_count": 90,
   "metadata": {},
   "outputs": [
    {
     "name": "stdout",
     "output_type": "stream",
     "text": [
      "k-NN roc-auc score is 0.8796856829302275\n"
     ]
    }
   ],
   "source": [
    "#Top 20 features\n",
    "\n",
    "knn_score(X_train[top_20], X_test[top_20], y_train, y_test)"
   ]
  },
  {
   "cell_type": "code",
   "execution_count": 91,
   "metadata": {},
   "outputs": [
    {
     "name": "stdout",
     "output_type": "stream",
     "text": [
      "k-NN roc-auc score is 0.8790249374105603\n"
     ]
    }
   ],
   "source": [
    "#Top 30 features\n",
    "\n",
    "knn_score(X_train[top_30], X_test[top_30], y_train, y_test)"
   ]
  },
  {
   "cell_type": "code",
   "execution_count": 92,
   "metadata": {},
   "outputs": [
    {
     "name": "stdout",
     "output_type": "stream",
     "text": [
      "k-NN roc-auc score is 0.8790249374105603\n"
     ]
    }
   ],
   "source": [
    "#Top 40 features\n",
    "\n",
    "knn_score(X_train[top_40], X_test[top_40], y_train, y_test)"
   ]
  },
  {
   "cell_type": "code",
   "execution_count": 93,
   "metadata": {},
   "outputs": [
    {
     "name": "stdout",
     "output_type": "stream",
     "text": [
      "k-NN roc-auc score is 0.8790249374105603\n"
     ]
    }
   ],
   "source": [
    "#Top 50 features\n",
    "\n",
    "knn_score(X_train[top_50], X_test[top_50], y_train, y_test)"
   ]
  },
  {
   "cell_type": "code",
   "execution_count": 94,
   "metadata": {},
   "outputs": [
    {
     "name": "stdout",
     "output_type": "stream",
     "text": [
      "k-NN roc-auc score is 0.8790249374105603\n"
     ]
    }
   ],
   "source": [
    "#Top 60 features\n",
    "\n",
    "knn_score(X_train[top_60], X_test[top_60], y_train, y_test)"
   ]
  },
  {
   "cell_type": "code",
   "execution_count": 95,
   "metadata": {},
   "outputs": [
    {
     "name": "stdout",
     "output_type": "stream",
     "text": [
      "k-NN roc-auc score is 0.8790249374105603\n"
     ]
    }
   ],
   "source": [
    "#Top 70 features\n",
    "\n",
    "knn_score(X_train[top_70], X_test[top_70], y_train, y_test)"
   ]
  },
  {
   "cell_type": "code",
   "execution_count": 96,
   "metadata": {},
   "outputs": [
    {
     "name": "stdout",
     "output_type": "stream",
     "text": [
      "k-NN roc-auc score is 0.8790249374105603\n"
     ]
    }
   ],
   "source": [
    "#Top 80 features\n",
    "\n",
    "knn_score(X_train[top_80], X_test[top_80], y_train, y_test)"
   ]
  },
  {
   "cell_type": "code",
   "execution_count": 97,
   "metadata": {},
   "outputs": [
    {
     "name": "stdout",
     "output_type": "stream",
     "text": [
      "k-NN roc-auc score is 0.8790249374105603\n"
     ]
    }
   ],
   "source": [
    "#Top 90 features\n",
    "\n",
    "knn_score(X_train[top_90], X_test[top_90], y_train, y_test)"
   ]
  },
  {
   "cell_type": "code",
   "execution_count": 98,
   "metadata": {},
   "outputs": [
    {
     "name": "stdout",
     "output_type": "stream",
     "text": [
      "k-NN roc-auc score is 0.8790249374105603\n"
     ]
    }
   ],
   "source": [
    "#Top 100 features\n",
    "\n",
    "knn_score(X_train[top_100], X_test[top_100], y_train, y_test)"
   ]
  },
  {
   "cell_type": "code",
   "execution_count": 99,
   "metadata": {},
   "outputs": [
    {
     "data": {
      "text/plain": [
       "Text(0.5,1,'Number of features Vs. ROC-AUC Scores')"
      ]
     },
     "execution_count": 99,
     "metadata": {},
     "output_type": "execute_result"
    },
    {
     "data": {
      "image/png": "[encoded data removed]",
      "text/plain": [
       "<Figure size 432x288 with 1 Axes>"
      ]
     },
     "metadata": {},
     "output_type": "display_data"
    }
   ],
   "source": [
    "#Line plot showing how roc-auc scores vary with number of features\n",
    "\n",
    "number_of_features = ['10', '20', '30', '40', '50', '60', '70', '80', '90', '100', '106']\n",
    "roc_auc_scores = [0.946,  0.87,  0.87,  0.87,  0.87,  0.87,  0.87,  0.87,  0.87,  0.87, 0.87]\n",
    "\n",
    "plt.plot(number_of_features, roc_auc_scores)\n",
    "plt.xlabel('Number of features')\n",
    "plt.ylabel('ROC-AUC Scores')\n",
    "plt.title('Number of features Vs. ROC-AUC Scores')"
   ]
  },
  {
   "cell_type": "markdown",
   "metadata": {},
   "source": [
    "## Conclusion\n",
    "\n",
    "From the analysis above:\n",
    "\n",
    "- Performed filter feature selection to remove features with no predictive power and reduced the feature space from 51 to 35 thus contributing significantly to dimensionality reduction.\n",
    "- Performed recursive feature elimination using Random Forests in order to identify the top 10 features that predicts default.\n",
    "- Analysed the ROC-AUC scores by implementing a k-Nearest Neighbour classifier in order to identify the best-N number of features to use for the research question 5 which focuses on identifying the best machine learning model that predicts defaults with the highest level of accuracy. \n",
    "- The ideal number of features that produces the highest ROC-AUC scores was: **10 features**."
   ]
  },
  {
   "cell_type": "markdown",
   "metadata": {},
   "source": [
    "**Creating the file with the top 10 predictors of default**"
   ]
  },
  {
   "cell_type": "code",
   "execution_count": 100,
   "metadata": {},
   "outputs": [],
   "source": [
    "#Creating a list of top_10 features including the target attribute - 'default'\n",
    "\n",
    "top_10 = ['loan_amnt', 'int_rate', 'sub_grade', 'issue_d', 'total_rec_int',\n",
    "       'recoveries', 'last_pymnt_d', 'last_pymnt_amnt', 'last_credit_pull_d',\n",
    "       'tot_cur_bal', 'default']"
   ]
  },
  {
   "cell_type": "code",
   "execution_count": 101,
   "metadata": {},
   "outputs": [],
   "source": [
    "df = df[top_10]"
   ]
  },
  {
   "cell_type": "code",
   "execution_count": 102,
   "metadata": {},
   "outputs": [
    {
     "data": {
      "text/html": [
       "<div>\n",
       "<style scoped>\n",
       "    .dataframe tbody tr th:only-of-type {\n",
       "        vertical-align: middle;\n",
       "    }\n",
       "\n",
       "    .dataframe tbody tr th {\n",
       "        vertical-align: top;\n",
       "    }\n",
       "\n",
       "    .dataframe thead th {\n",
       "        text-align: right;\n",
       "    }\n",
       "</style>\n",
       "<table border=\"1\" class=\"dataframe\">\n",
       "  <thead>\n",
       "    <tr style=\"text-align: right;\">\n",
       "      <th></th>\n",
       "      <th>loan_amnt</th>\n",
       "      <th>int_rate</th>\n",
       "      <th>sub_grade</th>\n",
       "      <th>issue_d</th>\n",
       "      <th>total_rec_int</th>\n",
       "      <th>recoveries</th>\n",
       "      <th>last_pymnt_d</th>\n",
       "      <th>last_pymnt_amnt</th>\n",
       "      <th>last_credit_pull_d</th>\n",
       "      <th>tot_cur_bal</th>\n",
       "      <th>default</th>\n",
       "    </tr>\n",
       "  </thead>\n",
       "  <tbody>\n",
       "    <tr>\n",
       "      <th>0</th>\n",
       "      <td>5000.0</td>\n",
       "      <td>10.65</td>\n",
       "      <td>6.0</td>\n",
       "      <td>7.0</td>\n",
       "      <td>861.07</td>\n",
       "      <td>0.00</td>\n",
       "      <td>3.0</td>\n",
       "      <td>171.62</td>\n",
       "      <td>2.0</td>\n",
       "      <td>138236.152549</td>\n",
       "      <td>0.0</td>\n",
       "    </tr>\n",
       "    <tr>\n",
       "      <th>1</th>\n",
       "      <td>2500.0</td>\n",
       "      <td>15.27</td>\n",
       "      <td>13.0</td>\n",
       "      <td>7.0</td>\n",
       "      <td>435.17</td>\n",
       "      <td>117.08</td>\n",
       "      <td>5.0</td>\n",
       "      <td>119.66</td>\n",
       "      <td>5.0</td>\n",
       "      <td>138236.152549</td>\n",
       "      <td>1.0</td>\n",
       "    </tr>\n",
       "    <tr>\n",
       "      <th>2</th>\n",
       "      <td>2400.0</td>\n",
       "      <td>15.96</td>\n",
       "      <td>14.0</td>\n",
       "      <td>7.0</td>\n",
       "      <td>603.65</td>\n",
       "      <td>0.00</td>\n",
       "      <td>4.0</td>\n",
       "      <td>649.91</td>\n",
       "      <td>2.0</td>\n",
       "      <td>138236.152549</td>\n",
       "      <td>0.0</td>\n",
       "    </tr>\n",
       "    <tr>\n",
       "      <th>3</th>\n",
       "      <td>10000.0</td>\n",
       "      <td>13.49</td>\n",
       "      <td>10.0</td>\n",
       "      <td>7.0</td>\n",
       "      <td>2209.33</td>\n",
       "      <td>0.00</td>\n",
       "      <td>3.0</td>\n",
       "      <td>357.48</td>\n",
       "      <td>3.0</td>\n",
       "      <td>138236.152549</td>\n",
       "      <td>0.0</td>\n",
       "    </tr>\n",
       "    <tr>\n",
       "      <th>4</th>\n",
       "      <td>5000.0</td>\n",
       "      <td>7.90</td>\n",
       "      <td>3.0</td>\n",
       "      <td>7.0</td>\n",
       "      <td>631.38</td>\n",
       "      <td>0.00</td>\n",
       "      <td>3.0</td>\n",
       "      <td>161.03</td>\n",
       "      <td>3.0</td>\n",
       "      <td>138236.152549</td>\n",
       "      <td>0.0</td>\n",
       "    </tr>\n",
       "  </tbody>\n",
       "</table>\n",
       "</div>"
      ],
      "text/plain": [
       "   loan_amnt  int_rate  sub_grade  issue_d  total_rec_int  recoveries  \\\n",
       "0     5000.0     10.65        6.0      7.0         861.07        0.00   \n",
       "1     2500.0     15.27       13.0      7.0         435.17      117.08   \n",
       "2     2400.0     15.96       14.0      7.0         603.65        0.00   \n",
       "3    10000.0     13.49       10.0      7.0        2209.33        0.00   \n",
       "4     5000.0      7.90        3.0      7.0         631.38        0.00   \n",
       "\n",
       "   last_pymnt_d  last_pymnt_amnt  last_credit_pull_d    tot_cur_bal  default  \n",
       "0           3.0           171.62                 2.0  138236.152549      0.0  \n",
       "1           5.0           119.66                 5.0  138236.152549      1.0  \n",
       "2           4.0           649.91                 2.0  138236.152549      0.0  \n",
       "3           3.0           357.48                 3.0  138236.152549      0.0  \n",
       "4           3.0           161.03                 3.0  138236.152549      0.0  "
      ]
     },
     "execution_count": 102,
     "metadata": {},
     "output_type": "execute_result"
    }
   ],
   "source": [
    "df.head()"
   ]
  },
  {
   "cell_type": "code",
   "execution_count": 103,
   "metadata": {},
   "outputs": [],
   "source": [
    "#Converting to dataframe \n",
    "\n",
    "df.to_csv('default_prediction.csv')"
   ]
  }
 ],
 "metadata": {
  "kernelspec": {
   "display_name": "Python 3",
   "language": "python",
   "name": "python3"
  },
  "language_info": {
   "codemirror_mode": {
    "name": "ipython",
    "version": 3
   },
   "file_extension": ".py",
   "mimetype": "text/x-python",
   "name": "python",
   "nbconvert_exporter": "python",
   "pygments_lexer": "ipython3",
   "version": "3.6.1"
  }
 },
 "nbformat": 4,
 "nbformat_minor": 2
}
