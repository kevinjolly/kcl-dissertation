{
 "cells": [
  {
   "cell_type": "markdown",
   "metadata": {},
   "source": [
    "# Predicting Loan Defaults for LendingClub - Research Question 5\n",
    "\n",
    "**Research Question 5:** Which machine learning model best predicts if a particular loan will default or not?\n",
    "\n",
    "**Aim**: The aim of this notebook is to identify the machine learning model that can best predict if a loan will default or not with a high level of accuracy and interpretability."
   ]
  },
  {
   "cell_type": "markdown",
   "metadata": {},
   "source": [
    "## Table of contents.\n",
    "\n",
    "1. k-Nearest Neighbors\n",
    " - Building the base classifier\n",
    " - Fine tuning parameters\n",
    " - Scaling the data \n",
    " - Performance Evaluation\n",
    "2. Logistic Regression\n",
    " - Building the base classifier\n",
    " - Fine tuning parameters\n",
    " - Scaling the data\n",
    " - Performance evaluation\n",
    "3. Linear Support Vector Machines\n",
    " - Building the base classifier\n",
    " - Fine tuning parameters\n",
    " - Scaling the data\n",
    " - Performance Evaluation\n",
    "4. Decision Tree \n",
    " - Building the base classifier\n",
    " - Fine tuning parameters\n",
    " - Performance Evaluation\n",
    "5. Random Forests\n",
    " - Building the base classifier\n",
    " - Fine tuning parameters\n",
    " - Performance Evaluation\n",
    "6. Gradient Boosted Trees (AdaBoost)\n",
    " - Building the base classifier \n",
    " - Fine tuning parameters\n",
    " - Performance Evaluation\n",
    "7. Gaussian Naive Bayes\n",
    " - Building the base classifier\n",
    " - Scaling the data \n",
    " - Performance Evaluation\n",
    "8. Ensemble Model\n",
    " - Building the base classifier\n",
    " - Scaling the data\n",
    " - Performance Evaluation\n",
    "9. Evaluation & Results\n",
    "10. Conclusion"
   ]
  },
  {
   "cell_type": "markdown",
   "metadata": {},
   "source": [
    "## Package Requirements"
   ]
  },
  {
   "cell_type": "code",
   "execution_count": 1,
   "metadata": {},
   "outputs": [],
   "source": [
    "import pandas as pd\n",
    "import numpy as np\n",
    "import seaborn as sns\n",
    "import matplotlib.pyplot as plt\n",
    "import scikitplot as skplt\n",
    "from sklearn.model_selection import train_test_split\n",
    "from sklearn.neighbors import KNeighborsClassifier\n",
    "from sklearn.model_selection import GridSearchCV\n",
    "from sklearn.preprocessing import StandardScaler\n",
    "from sklearn.pipeline import Pipeline\n",
    "from sklearn.metrics import confusion_matrix\n",
    "from sklearn.metrics import classification_report\n",
    "from sklearn.metrics import roc_curve\n",
    "from sklearn.metrics import roc_auc_score\n",
    "from sklearn import linear_model\n",
    "from sklearn.svm import LinearSVC\n",
    "from sklearn.tree import DecisionTreeClassifier\n",
    "from sklearn.ensemble import RandomForestClassifier\n",
    "from sklearn.ensemble import AdaBoostClassifier\n",
    "from sklearn.naive_bayes import GaussianNB\n",
    "from sklearn.ensemble import VotingClassifier\n",
    "from sklearn.metrics import accuracy_score\n",
    "from sklearn import model_selection\n",
    "import warnings"
   ]
  },
  {
   "cell_type": "markdown",
   "metadata": {},
   "source": [
    "**Loading in the data**"
   ]
  },
  {
   "cell_type": "code",
   "execution_count": 2,
   "metadata": {},
   "outputs": [],
   "source": [
    "#Loading in the data\n",
    "\n",
    "df = pd.read_csv('default_prediction.csv')"
   ]
  },
  {
   "cell_type": "code",
   "execution_count": 3,
   "metadata": {},
   "outputs": [],
   "source": [
    "#Dropping in the index\n",
    "\n",
    "df = df.drop('Unnamed: 0', axis = 1)"
   ]
  },
  {
   "cell_type": "code",
   "execution_count": 4,
   "metadata": {},
   "outputs": [
    {
     "data": {
      "text/html": [
       "<div>\n",
       "<style scoped>\n",
       "    .dataframe tbody tr th:only-of-type {\n",
       "        vertical-align: middle;\n",
       "    }\n",
       "\n",
       "    .dataframe tbody tr th {\n",
       "        vertical-align: top;\n",
       "    }\n",
       "\n",
       "    .dataframe thead th {\n",
       "        text-align: right;\n",
       "    }\n",
       "</style>\n",
       "<table border=\"1\" class=\"dataframe\">\n",
       "  <thead>\n",
       "    <tr style=\"text-align: right;\">\n",
       "      <th></th>\n",
       "      <th>loan_amnt</th>\n",
       "      <th>int_rate</th>\n",
       "      <th>sub_grade</th>\n",
       "      <th>issue_d</th>\n",
       "      <th>total_rec_int</th>\n",
       "      <th>recoveries</th>\n",
       "      <th>last_pymnt_d</th>\n",
       "      <th>last_pymnt_amnt</th>\n",
       "      <th>last_credit_pull_d</th>\n",
       "      <th>tot_cur_bal</th>\n",
       "      <th>default</th>\n",
       "    </tr>\n",
       "  </thead>\n",
       "  <tbody>\n",
       "    <tr>\n",
       "      <th>0</th>\n",
       "      <td>5000.0</td>\n",
       "      <td>10.65</td>\n",
       "      <td>6.0</td>\n",
       "      <td>7.0</td>\n",
       "      <td>861.07</td>\n",
       "      <td>0.00</td>\n",
       "      <td>3.0</td>\n",
       "      <td>171.62</td>\n",
       "      <td>2.0</td>\n",
       "      <td>138236.152549</td>\n",
       "      <td>0.0</td>\n",
       "    </tr>\n",
       "    <tr>\n",
       "      <th>1</th>\n",
       "      <td>2500.0</td>\n",
       "      <td>15.27</td>\n",
       "      <td>13.0</td>\n",
       "      <td>7.0</td>\n",
       "      <td>435.17</td>\n",
       "      <td>117.08</td>\n",
       "      <td>5.0</td>\n",
       "      <td>119.66</td>\n",
       "      <td>5.0</td>\n",
       "      <td>138236.152549</td>\n",
       "      <td>1.0</td>\n",
       "    </tr>\n",
       "    <tr>\n",
       "      <th>2</th>\n",
       "      <td>2400.0</td>\n",
       "      <td>15.96</td>\n",
       "      <td>14.0</td>\n",
       "      <td>7.0</td>\n",
       "      <td>603.65</td>\n",
       "      <td>0.00</td>\n",
       "      <td>4.0</td>\n",
       "      <td>649.91</td>\n",
       "      <td>2.0</td>\n",
       "      <td>138236.152549</td>\n",
       "      <td>0.0</td>\n",
       "    </tr>\n",
       "    <tr>\n",
       "      <th>3</th>\n",
       "      <td>10000.0</td>\n",
       "      <td>13.49</td>\n",
       "      <td>10.0</td>\n",
       "      <td>7.0</td>\n",
       "      <td>2209.33</td>\n",
       "      <td>0.00</td>\n",
       "      <td>3.0</td>\n",
       "      <td>357.48</td>\n",
       "      <td>3.0</td>\n",
       "      <td>138236.152549</td>\n",
       "      <td>0.0</td>\n",
       "    </tr>\n",
       "    <tr>\n",
       "      <th>4</th>\n",
       "      <td>5000.0</td>\n",
       "      <td>7.90</td>\n",
       "      <td>3.0</td>\n",
       "      <td>7.0</td>\n",
       "      <td>631.38</td>\n",
       "      <td>0.00</td>\n",
       "      <td>3.0</td>\n",
       "      <td>161.03</td>\n",
       "      <td>3.0</td>\n",
       "      <td>138236.152549</td>\n",
       "      <td>0.0</td>\n",
       "    </tr>\n",
       "  </tbody>\n",
       "</table>\n",
       "</div>"
      ],
      "text/plain": [
       "   loan_amnt  int_rate  sub_grade  issue_d  total_rec_int  recoveries  \\\n",
       "0     5000.0     10.65        6.0      7.0         861.07        0.00   \n",
       "1     2500.0     15.27       13.0      7.0         435.17      117.08   \n",
       "2     2400.0     15.96       14.0      7.0         603.65        0.00   \n",
       "3    10000.0     13.49       10.0      7.0        2209.33        0.00   \n",
       "4     5000.0      7.90        3.0      7.0         631.38        0.00   \n",
       "\n",
       "   last_pymnt_d  last_pymnt_amnt  last_credit_pull_d    tot_cur_bal  default  \n",
       "0           3.0           171.62                 2.0  138236.152549      0.0  \n",
       "1           5.0           119.66                 5.0  138236.152549      1.0  \n",
       "2           4.0           649.91                 2.0  138236.152549      0.0  \n",
       "3           3.0           357.48                 3.0  138236.152549      0.0  \n",
       "4           3.0           161.03                 3.0  138236.152549      0.0  "
      ]
     },
     "execution_count": 4,
     "metadata": {},
     "output_type": "execute_result"
    }
   ],
   "source": [
    "df.head()"
   ]
  },
  {
   "cell_type": "code",
   "execution_count": 5,
   "metadata": {},
   "outputs": [],
   "source": [
    "#Creating the features \n",
    "\n",
    "features = df.drop('default', axis = 1).values\n",
    "target = df['default'].values"
   ]
  },
  {
   "cell_type": "markdown",
   "metadata": {},
   "source": [
    "**Splitting the data into training and test sets**"
   ]
  },
  {
   "cell_type": "code",
   "execution_count": 6,
   "metadata": {},
   "outputs": [],
   "source": [
    "X_train, X_test, y_train, y_test = train_test_split(features, target, test_size = 0.3, random_state = 42, \n",
    "                                                    stratify = target)"
   ]
  },
  {
   "cell_type": "markdown",
   "metadata": {},
   "source": [
    "## k-Nearest Neighbors\n",
    "\n",
    "**Aim**: The aim of this section to build and evaluate a model to predict defaults using the k-Nearest Neighbors algorithm "
   ]
  },
  {
   "cell_type": "markdown",
   "metadata": {},
   "source": [
    "### Building the base classifier"
   ]
  },
  {
   "cell_type": "code",
   "execution_count": 7,
   "metadata": {},
   "outputs": [],
   "source": [
    "knn_classifier = KNeighborsClassifier(n_neighbors=3)"
   ]
  },
  {
   "cell_type": "code",
   "execution_count": 8,
   "metadata": {},
   "outputs": [
    {
     "data": {
      "text/plain": [
       "KNeighborsClassifier(algorithm='auto', leaf_size=30, metric='minkowski',\n",
       "           metric_params=None, n_jobs=1, n_neighbors=3, p=2,\n",
       "           weights='uniform')"
      ]
     },
     "execution_count": 8,
     "metadata": {},
     "output_type": "execute_result"
    }
   ],
   "source": [
    "knn_classifier.fit(X_train, y_train)"
   ]
  },
  {
   "cell_type": "code",
   "execution_count": 9,
   "metadata": {},
   "outputs": [
    {
     "data": {
      "text/plain": [
       "0.90984568062144833"
      ]
     },
     "execution_count": 9,
     "metadata": {},
     "output_type": "execute_result"
    }
   ],
   "source": [
    "knn_classifier.score(X_test, y_test)"
   ]
  },
  {
   "cell_type": "markdown",
   "metadata": {},
   "source": [
    "From the output above: \n",
    "\n",
    "- The base k-NN classifier has produced an accuracy score of 90.9%"
   ]
  },
  {
   "cell_type": "markdown",
   "metadata": {},
   "source": [
    "### Fine Tuning Parameters using GridSearchCV"
   ]
  },
  {
   "cell_type": "code",
   "execution_count": 10,
   "metadata": {},
   "outputs": [
    {
     "data": {
      "text/plain": [
       "GridSearchCV(cv=5, error_score='raise',\n",
       "       estimator=KNeighborsClassifier(algorithm='auto', leaf_size=30, metric='minkowski',\n",
       "           metric_params=None, n_jobs=1, n_neighbors=5, p=2,\n",
       "           weights='uniform'),\n",
       "       fit_params=None, iid=True, n_jobs=1,\n",
       "       param_grid={'n_neighbors': array([ 1,  2,  3,  4,  5,  6,  7,  8,  9, 10, 11, 12, 13, 14, 15, 16, 17,\n",
       "       18, 19, 20, 21, 22, 23])},\n",
       "       pre_dispatch='2*n_jobs', refit=True, return_train_score='warn',\n",
       "       scoring=None, verbose=0)"
      ]
     },
     "execution_count": 10,
     "metadata": {},
     "output_type": "execute_result"
    }
   ],
   "source": [
    "#Initializing a grid with possible number of neighbors from 1 to 24\n",
    "\n",
    "grid = {'n_neighbors' : np.arange(1, 24)}\n",
    "\n",
    "#Initializing a k-NN classifier \n",
    "\n",
    "knn_classifier = KNeighborsClassifier()\n",
    "\n",
    "#Using cross validation to find optimal number of neighbors \n",
    "\n",
    "knn = GridSearchCV(knn_classifier, grid, cv = 5)\n",
    "\n",
    "knn.fit(X_train, y_train)"
   ]
  },
  {
   "cell_type": "code",
   "execution_count": 11,
   "metadata": {},
   "outputs": [
    {
     "data": {
      "text/plain": [
       "{'n_neighbors': 5}"
      ]
     },
     "execution_count": 11,
     "metadata": {},
     "output_type": "execute_result"
    }
   ],
   "source": [
    "#Extracting the optimal number of neighbors \n",
    "\n",
    "knn.best_params_"
   ]
  },
  {
   "cell_type": "code",
   "execution_count": 12,
   "metadata": {},
   "outputs": [
    {
     "data": {
      "text/plain": [
       "0.91140704163198727"
      ]
     },
     "execution_count": 12,
     "metadata": {},
     "output_type": "execute_result"
    }
   ],
   "source": [
    "#Extracting the accuracy score for optimal number of neighbors\n",
    "\n",
    "knn.best_score_"
   ]
  },
  {
   "cell_type": "markdown",
   "metadata": {},
   "source": [
    "From the output produced above:\n",
    "\n",
    "- The best number of neighbors after using the GridSearchCV algorithm that gives the most optimal performance is 5.\n",
    "- The accuracy of the model **increased from 90.9% to 91.1%.**"
   ]
  },
  {
   "cell_type": "markdown",
   "metadata": {},
   "source": [
    "**Visualizing the accuracy scores between the training and test sets for different number of n neighbors**"
   ]
  },
  {
   "cell_type": "code",
   "execution_count": 13,
   "metadata": {},
   "outputs": [
    {
     "data": {
      "image/png": "[encoded data removed]",
      "text/plain": [
       "<matplotlib.figure.Figure at 0x113e119e8>"
      ]
     },
     "metadata": {},
     "output_type": "display_data"
    }
   ],
   "source": [
    "range_of_neighbors = np.arange(1,9)\n",
    "\n",
    "#Accuracy scores of training data are stored in this empty set \n",
    "\n",
    "training_set_acc = np.empty(len(range_of_neighbors))\n",
    "\n",
    "#Accuracy scores of test data are stored in this empty set\n",
    "\n",
    "test_set_acc = np.empty(len(range_of_neighbors))\n",
    "\n",
    "#Looping over each value of n_neighbors\n",
    "\n",
    "for element, num in enumerate(range_of_neighbors):\n",
    "    \n",
    "    #Initialize a k-NN classifier\n",
    "    \n",
    "    knn_classifier = KNeighborsClassifier(n_neighbors = num)\n",
    "    \n",
    "    #Fitting the model to training data\n",
    "    \n",
    "    knn_classifier.fit(X_train, y_train)\n",
    "    \n",
    "    #Computing accuracy on training data\n",
    "    \n",
    "    training_set_acc[element] = knn_classifier.score(X_train, y_train)\n",
    "    \n",
    "    #Computing accuracy on test data\n",
    "    \n",
    "    test_set_acc[element] = knn_classifier.score(X_test, y_test)\n",
    "    \n",
    "#Creating the plot\n",
    "\n",
    "plt.plot(range_of_neighbors, test_set_acc, label = \"Test set accuracy\")\n",
    "plt.plot(range_of_neighbors, training_set_acc, label = 'Training set accuracy')\n",
    "plt.title('Accuracy Vs. Number of Neighbors for Training and Test sets')\n",
    "plt.xlabel('Number of neighbors')\n",
    "plt.ylabel('Accuracy')\n",
    "plt.legend()\n",
    "plt.show()    "
   ]
  },
  {
   "cell_type": "markdown",
   "metadata": {},
   "source": [
    "From the output produved above:\n",
    "    \n",
    "- The model is very overfit when the number of nearest neighbors = 1, as it produces an accuracy score of 100% on the training data.\n",
    "- When the number of neighbors = 5, the model has the best accuracy score on the test set and a reasonably high score on the training set.\n",
    "- Thus combining this visualization with the results of GridSearchCV, the **optimal number of nearest neighbors is: 5.**"
   ]
  },
  {
   "cell_type": "markdown",
   "metadata": {},
   "source": [
    "### Scaling the data"
   ]
  },
  {
   "cell_type": "code",
   "execution_count": 14,
   "metadata": {},
   "outputs": [
    {
     "data": {
      "text/plain": [
       "0.95246598196131593"
      ]
     },
     "execution_count": 14,
     "metadata": {},
     "output_type": "execute_result"
    }
   ],
   "source": [
    "#Setting up the scaling pipeline \n",
    "\n",
    "pipeline_order = [('scaler', StandardScaler()), ('knn', KNeighborsClassifier(n_neighbors = 5))]\n",
    "\n",
    "pipeline = Pipeline(pipeline_order)\n",
    "\n",
    "#Fitting the classfier to the scaled dataset \n",
    "\n",
    "knn_classifier_scaled = pipeline.fit(X_train, y_train)\n",
    "\n",
    "#Extracting the score \n",
    "\n",
    "knn_classifier_scaled.score(X_test, y_test)"
   ]
  },
  {
   "cell_type": "markdown",
   "metadata": {},
   "source": [
    "From the output produced above:\n",
    "\n",
    "- After standardization - Subracting each value of a feature by the mean of a feature and dividing each value by the variance of the entire feature, the **accuracy of the model improved.**\n",
    "- The **accuracy of the model is now 95.2%** which is an improvement from 91.1% previously. "
   ]
  },
  {
   "cell_type": "markdown",
   "metadata": {},
   "source": [
    "### Performance Evaluation"
   ]
  },
  {
   "cell_type": "markdown",
   "metadata": {},
   "source": [
    "**Confusion Matrix**"
   ]
  },
  {
   "cell_type": "code",
   "execution_count": 15,
   "metadata": {},
   "outputs": [
    {
     "name": "stdout",
     "output_type": "stream",
     "text": [
      "[[60912  1845]\n",
      " [ 1802 12165]]\n"
     ]
    }
   ],
   "source": [
    "#Creating predictions on the test set \n",
    "\n",
    "prediction = knn_classifier_scaled.predict(X_test)\n",
    "\n",
    "#Creating the confusion matrix \n",
    "\n",
    "print(confusion_matrix(y_test, prediction))"
   ]
  },
  {
   "cell_type": "code",
   "execution_count": 16,
   "metadata": {},
   "outputs": [
    {
     "name": "stdout",
     "output_type": "stream",
     "text": [
      "             precision    recall  f1-score   support\n",
      "\n",
      "        0.0       0.97      0.97      0.97     62757\n",
      "        1.0       0.87      0.87      0.87     13967\n",
      "\n",
      "avg / total       0.95      0.95      0.95     76724\n",
      "\n"
     ]
    }
   ],
   "source": [
    "#Creating the classification report \n",
    "\n",
    "print(classification_report(y_test, prediction))"
   ]
  },
  {
   "cell_type": "markdown",
   "metadata": {},
   "source": [
    "From the output produced above:\n",
    "    \n",
    "- The classifier has equally high precision and recall scores of 0.95 along with the same F1-Score of 0.95.\n",
    "- This indicates that not many non-defaulted loans are predicted as defaulted (Due to the high value of precision).\n",
    "- This also indicates that the model predicted most of the defaulted loans correctly (Due to the high value of recall).\n",
    "- The model also produces an almost equal number of False Positives and False negatives.\n",
    "- The model has a high number of True positives and True negatives.\n",
    "- This indicates that the model is very balanced. "
   ]
  },
  {
   "cell_type": "markdown",
   "metadata": {},
   "source": [
    "**Cumulative gains curve**"
   ]
  },
  {
   "cell_type": "code",
   "execution_count": 17,
   "metadata": {},
   "outputs": [
    {
     "data": {
      "image/png": "[encoded data removed]",
      "text/plain": [
       "<matplotlib.figure.Figure at 0x105a29588>"
      ]
     },
     "metadata": {},
     "output_type": "display_data"
    }
   ],
   "source": [
    "# Plot the cumulative gains graph\n",
    "\n",
    "predictions = knn_classifier_scaled.predict_proba(X_test)\n",
    "\n",
    "skplt.metrics.plot_cumulative_gain(y_test, predictions)\n",
    "\n",
    "plt.show()"
   ]
  },
  {
   "cell_type": "markdown",
   "metadata": {},
   "source": [
    "From the output produced above:\n",
    "    \n",
    "- The cumulative gains curve for our target class of 1.0 (Defaulted loans) captures/predicts 100% of the defaulted loans if we have anything greater than 80% of the total data.\n",
    "- If we have 25% of the total data, the k-NN classifier would capture/predict 95% of the defaulted loans."
   ]
  },
  {
   "cell_type": "markdown",
   "metadata": {},
   "source": [
    "**Lift Curve**"
   ]
  },
  {
   "cell_type": "code",
   "execution_count": 18,
   "metadata": {},
   "outputs": [
    {
     "data": {
      "image/png": "[encoded data removed]",
      "text/plain": [
       "<matplotlib.figure.Figure at 0x105cb13c8>"
      ]
     },
     "metadata": {},
     "output_type": "display_data"
    }
   ],
   "source": [
    "# Plot the lift curve \n",
    "\n",
    "predictions = knn_classifier_scaled.predict_proba(X_test)\n",
    "\n",
    "skplt.metrics.plot_lift_curve(y_test, predictions)\n",
    "\n",
    "plt.show()"
   ]
  },
  {
   "cell_type": "markdown",
   "metadata": {},
   "source": [
    "From the output produced above: \n",
    "    \n",
    "- 18% of the population that are likely to default have a value of lift that is greater than 5.\n",
    "- This means that 18% of the population that are likely to default will give very accurate results when it comes to predicting defaults using the k-Nearest Neighbors model compared to not using a predictive model at all."
   ]
  },
  {
   "cell_type": "markdown",
   "metadata": {},
   "source": [
    "## Logistic Regression\n",
    "\n",
    "**Aim**: The aim of this section to build and evaluate a model to predict defaults using the logistic regression algorithm."
   ]
  },
  {
   "cell_type": "markdown",
   "metadata": {},
   "source": [
    "### Building the base classifier"
   ]
  },
  {
   "cell_type": "code",
   "execution_count": 19,
   "metadata": {},
   "outputs": [
    {
     "data": {
      "text/plain": [
       "LogisticRegression(C=1.0, class_weight=None, dual=False, fit_intercept=True,\n",
       "          intercept_scaling=1, max_iter=100, multi_class='ovr', n_jobs=1,\n",
       "          penalty='l2', random_state=42, solver='liblinear', tol=0.0001,\n",
       "          verbose=0, warm_start=False)"
      ]
     },
     "execution_count": 19,
     "metadata": {},
     "output_type": "execute_result"
    }
   ],
   "source": [
    "#Initializing an logistic regression object\n",
    "\n",
    "logistic_regression = linear_model.LogisticRegression(random_state = 42)\n",
    "\n",
    "#Fitting the model to the training and test sets\n",
    "\n",
    "logistic_regression.fit(X_train, y_train)"
   ]
  },
  {
   "cell_type": "code",
   "execution_count": 20,
   "metadata": {},
   "outputs": [
    {
     "name": "stdout",
     "output_type": "stream",
     "text": [
      "[[  1.10025045e-04   3.74310715e-04   2.16135487e-02  -2.40456222e-02\n",
      "   -2.81819097e-04   4.03654849e-02  -8.48586220e-03  -1.58757648e-03\n",
      "   -1.31876471e-02  -5.88260838e-06]]\n"
     ]
    }
   ],
   "source": [
    "#Printing out the coefficients of each variable \n",
    "\n",
    "print(logistic_regression.coef_)"
   ]
  },
  {
   "cell_type": "code",
   "execution_count": 21,
   "metadata": {},
   "outputs": [
    {
     "name": "stdout",
     "output_type": "stream",
     "text": [
      "[-0.00225033]\n"
     ]
    }
   ],
   "source": [
    "#Printing out the intercept of the model\n",
    "\n",
    "print(logistic_regression.intercept_)"
   ]
  },
  {
   "cell_type": "code",
   "execution_count": 22,
   "metadata": {},
   "outputs": [
    {
     "data": {
      "text/plain": [
       "0.92624211459256556"
      ]
     },
     "execution_count": 22,
     "metadata": {},
     "output_type": "execute_result"
    }
   ],
   "source": [
    "#Accuracy score of the logistic regression model\n",
    "\n",
    "logistic_regression.score(X_test, y_test)"
   ]
  },
  {
   "cell_type": "markdown",
   "metadata": {},
   "source": [
    "From the output produced above:\n",
    "\n",
    "- The base logistic regression model produces an **accuracy score of 92.6%.**\n",
    "- The model coefficients & intercept makes the model highly interpretable. \n",
    "- The formula of the model can thus be constructed as follows:\n",
    "\n",
    "*Model Output = Summation of ((Coefficients x Variable) + Intercept)*\n",
    "\n",
    "- Applying the output of this forumla above to the logit function gives the probability of default: \n",
    "\n",
    "*1/(1 + e ^ -(Model Output))* "
   ]
  },
  {
   "cell_type": "markdown",
   "metadata": {},
   "source": [
    "### Fine tuning parameters"
   ]
  },
  {
   "cell_type": "code",
   "execution_count": 23,
   "metadata": {},
   "outputs": [
    {
     "name": "stdout",
     "output_type": "stream",
     "text": [
      "The best inverse regularization strength is: {'C': 0.01}\n"
     ]
    }
   ],
   "source": [
    "#Building the model with L1 penality \n",
    "\n",
    "logistic_regression = linear_model.LogisticRegression(penalty='l1', random_state = 42)\n",
    "\n",
    "#Using GridSearchCV to search for the best parameter\n",
    "\n",
    "grid = GridSearchCV(logistic_regression, {'C':[0.0001, 0.001, 0.01, 0.1, 10]})\n",
    "grid.fit(X_train, y_train)\n",
    "\n",
    "# Print out the best parameter\n",
    "\n",
    "print(\"The best inverse regularization strength is:\", grid.best_params_)"
   ]
  },
  {
   "cell_type": "markdown",
   "metadata": {},
   "source": [
    "From the output produced above:\n",
    "    \n",
    "- The optimal value for the inverse regularization strength is: 0.01"
   ]
  },
  {
   "cell_type": "code",
   "execution_count": 24,
   "metadata": {},
   "outputs": [
    {
     "data": {
      "image/png": "[encoded data removed]",
      "text/plain": [
       "<matplotlib.figure.Figure at 0x113ea6ac8>"
      ]
     },
     "metadata": {},
     "output_type": "display_data"
    }
   ],
   "source": [
    "train_errors = []\n",
    "test_errors = []\n",
    "\n",
    "C_list = [0.0001, 0.001, 0.01, 0.1, 10, 100, 1000]\n",
    "\n",
    "# Evaluate the training and test classification errors for each value of C\n",
    "\n",
    "for param in C_list:\n",
    "    \n",
    "    # Create LogisticRegression object and fit\n",
    "    logistic_regression = linear_model.LogisticRegression(penalty = 'l1', C= param, random_state = 42)\n",
    "    logistic_regression.fit(X_train, y_train)\n",
    "    \n",
    "    # Evaluate error rates and append to lists\n",
    "    train_errors.append( 1.0 - logistic_regression.score(X_train, y_train) )\n",
    "    test_errors.append( 1.0 - logistic_regression.score(X_test, y_test) )\n",
    "    \n",
    "# Plot results\n",
    "plt.semilogx(C_list, train_errors, C_list, test_errors)\n",
    "plt.legend((\"train\", \"test\"))\n",
    "plt.ylabel('Classification Error')\n",
    "plt.xlabel('C (Inverse regularization strength)')\n",
    "plt.show()"
   ]
  },
  {
   "cell_type": "markdown",
   "metadata": {},
   "source": [
    "From the output produced above: \n",
    "    \n",
    "- The inverse regularization strength of 0.01 has low values of classification error for both training and test sets. \n",
    "- This suggests that the model is not overfit or underfit."
   ]
  },
  {
   "cell_type": "markdown",
   "metadata": {},
   "source": [
    "### Scaling the data "
   ]
  },
  {
   "cell_type": "code",
   "execution_count": 25,
   "metadata": {},
   "outputs": [
    {
     "data": {
      "text/plain": [
       "0.9513711485324019"
      ]
     },
     "execution_count": 25,
     "metadata": {},
     "output_type": "execute_result"
    }
   ],
   "source": [
    "#Setting up the scaling pipeline \n",
    "\n",
    "pipeline_order = [('scaler', StandardScaler()), ('logistic_reg', linear_model.LogisticRegression(penalty = 'l1', C = 10, random_state = 42))]\n",
    "\n",
    "pipeline = Pipeline(pipeline_order)\n",
    "\n",
    "#Fitting the classfier to the scaled dataset \n",
    "\n",
    "logistic_regression_scaled = pipeline.fit(X_train, y_train)\n",
    "\n",
    "#Extracting the score \n",
    "\n",
    "logistic_regression_scaled.score(X_test, y_test)"
   ]
  },
  {
   "cell_type": "markdown",
   "metadata": {},
   "source": [
    "From the output above:\n",
    "\n",
    "- After standardization of the data, the accuracy of the model has improved from **92.6% to 95.1%.**"
   ]
  },
  {
   "cell_type": "markdown",
   "metadata": {},
   "source": [
    "### Performance Evaluation"
   ]
  },
  {
   "cell_type": "markdown",
   "metadata": {},
   "source": [
    "**Confusion Matrix**"
   ]
  },
  {
   "cell_type": "code",
   "execution_count": 26,
   "metadata": {},
   "outputs": [
    {
     "name": "stdout",
     "output_type": "stream",
     "text": [
      "[[61279  1478]\n",
      " [ 2253 11714]]\n"
     ]
    }
   ],
   "source": [
    "#Creating predictions on the test set \n",
    "\n",
    "prediction = logistic_regression_scaled.predict(X_test)\n",
    "\n",
    "#Creating the confusion matrix \n",
    "\n",
    "print(confusion_matrix(y_test, prediction))"
   ]
  },
  {
   "cell_type": "code",
   "execution_count": 27,
   "metadata": {},
   "outputs": [
    {
     "name": "stdout",
     "output_type": "stream",
     "text": [
      "             precision    recall  f1-score   support\n",
      "\n",
      "        0.0       0.96      0.98      0.97     62757\n",
      "        1.0       0.89      0.84      0.86     13967\n",
      "\n",
      "avg / total       0.95      0.95      0.95     76724\n",
      "\n"
     ]
    }
   ],
   "source": [
    "#Creating the classification report \n",
    "\n",
    "print(classification_report(y_test, prediction))"
   ]
  },
  {
   "cell_type": "markdown",
   "metadata": {},
   "source": [
    "From the output produced above: \n",
    "    \n",
    "- The classifier has equally high precision and recall scores of 0.95 along with the same F1-Score of 0.96.\n",
    "- This indicates that not many non-defaulted loans are predicted as defaulted (Due to the high value of precision).\n",
    "- This also indicates that the model predicted most of the defaulted loans correctly (Due to the high value of recall).\n",
    "- The model produces a slightly higher number of false negatives than false positives, indicating that this model will a higher chance of predicting a loan as 'not defaulted' when it actually has 'defaulted'. \n",
    "- The model has a high number of True positives and True negatives."
   ]
  },
  {
   "cell_type": "markdown",
   "metadata": {},
   "source": [
    "**Cumulative Gains Curve**"
   ]
  },
  {
   "cell_type": "code",
   "execution_count": 28,
   "metadata": {},
   "outputs": [
    {
     "data": {
      "image/png": "[encoded data removed]",
      "text/plain": [
       "<matplotlib.figure.Figure at 0x113e32b70>"
      ]
     },
     "metadata": {},
     "output_type": "display_data"
    }
   ],
   "source": [
    "# Plot the cumulative gains graph\n",
    "\n",
    "predictions = logistic_regression_scaled.predict_proba(X_test)\n",
    "\n",
    "skplt.metrics.plot_cumulative_gain(y_test, predictions)\n",
    "\n",
    "plt.show()"
   ]
  },
  {
   "cell_type": "markdown",
   "metadata": {},
   "source": [
    "From the output produced above:\n",
    "    \n",
    "- The cumulative gains curve for our target class of 1.0 (Defaulted loans) captures/predicts 100% of the defaulted loans if we have anything greater than 30% of the total data.\n",
    "- If we have 20% of the total data, the logistic regression classifier would capture/predict 95% of the defaulted loans."
   ]
  },
  {
   "cell_type": "markdown",
   "metadata": {},
   "source": [
    "**Lift Curve**"
   ]
  },
  {
   "cell_type": "code",
   "execution_count": 29,
   "metadata": {},
   "outputs": [
    {
     "data": {
      "image/png": "[encoded data removed]",
      "text/plain": [
       "<matplotlib.figure.Figure at 0x112954e10>"
      ]
     },
     "metadata": {},
     "output_type": "display_data"
    }
   ],
   "source": [
    "# Plot the lift curve\n",
    "\n",
    "predictions = logistic_regression_scaled.predict_proba(X_test)\n",
    "\n",
    "skplt.metrics.plot_lift_curve(y_test, predictions)\n",
    "\n",
    "plt.show()"
   ]
  },
  {
   "cell_type": "markdown",
   "metadata": {},
   "source": [
    "From the output produced above: \n",
    "    \n",
    "- 10% of the population that are likely to default have a value of lift that is greater than 5.\n",
    "- This means that 10% of the population that are likely to default will give very accurate results when it comes to predicting defaults using the logistic regression model compared to using no predictive model."
   ]
  },
  {
   "cell_type": "markdown",
   "metadata": {},
   "source": [
    "## Linear Support Vector Machines\n",
    "\n",
    "**Aim**: The aim of this section to build and evaluate a model to predict defaults using the Support Vector Machines algorithm."
   ]
  },
  {
   "cell_type": "markdown",
   "metadata": {},
   "source": [
    "### Building the base classifier"
   ]
  },
  {
   "cell_type": "code",
   "execution_count": 30,
   "metadata": {},
   "outputs": [],
   "source": [
    "#Initializing a SVM model \n",
    "\n",
    "svm_classifier = LinearSVC(random_state = 42)"
   ]
  },
  {
   "cell_type": "code",
   "execution_count": 31,
   "metadata": {},
   "outputs": [
    {
     "data": {
      "text/plain": [
       "LinearSVC(C=1.0, class_weight=None, dual=True, fit_intercept=True,\n",
       "     intercept_scaling=1, loss='squared_hinge', max_iter=1000,\n",
       "     multi_class='ovr', penalty='l2', random_state=42, tol=0.0001,\n",
       "     verbose=0)"
      ]
     },
     "execution_count": 31,
     "metadata": {},
     "output_type": "execute_result"
    }
   ],
   "source": [
    "#Fitting the model to the training data\n",
    "\n",
    "svm_classifier.fit(X_train, y_train)"
   ]
  },
  {
   "cell_type": "code",
   "execution_count": 32,
   "metadata": {},
   "outputs": [
    {
     "data": {
      "text/plain": [
       "0.91916479849851418"
      ]
     },
     "execution_count": 32,
     "metadata": {},
     "output_type": "execute_result"
    }
   ],
   "source": [
    "#Extracting the accuracy score from the training data\n",
    "\n",
    "svm_classifier.score(X_test, y_test)"
   ]
  },
  {
   "cell_type": "markdown",
   "metadata": {},
   "source": [
    "From the output produced above:\n",
    "\n",
    "- The base Support Vector Machine classifier has an **accuracy of 91.9%**"
   ]
  },
  {
   "cell_type": "markdown",
   "metadata": {},
   "source": [
    "### Fine tuning parameters"
   ]
  },
  {
   "cell_type": "code",
   "execution_count": 33,
   "metadata": {},
   "outputs": [
    {
     "name": "stdout",
     "output_type": "stream",
     "text": [
      "The best inverse regularization strength is: {'C': 10}\n"
     ]
    }
   ],
   "source": [
    "#Building the model \n",
    "\n",
    "svm_classifier = LinearSVC(random_state = 42)\n",
    "\n",
    "#Using GridSearchCV to search for the best parameter\n",
    "\n",
    "grid = GridSearchCV(svm_classifier, {'C':[0.00001, 0.0001, 0.001, 0.01, 0.1, 10]})\n",
    "grid.fit(X_train, y_train)\n",
    "\n",
    "# Print out the best parameter\n",
    "\n",
    "print(\"The best inverse regularization strength is:\", grid.best_params_)"
   ]
  },
  {
   "cell_type": "markdown",
   "metadata": {},
   "source": [
    "From the output produced above:\n",
    "\n",
    "- The most optimal value for the inverse regularization strength is: 10"
   ]
  },
  {
   "cell_type": "code",
   "execution_count": 34,
   "metadata": {},
   "outputs": [
    {
     "data": {
      "image/png": "[encoded data removed]",
      "text/plain": [
       "<matplotlib.figure.Figure at 0x113ea6b00>"
      ]
     },
     "metadata": {},
     "output_type": "display_data"
    }
   ],
   "source": [
    "train_errors = []\n",
    "test_errors = []\n",
    "\n",
    "C_list = [0.0001, 0.001, 0.01, 0.1, 10, 100, 1000]\n",
    "\n",
    "# Evaluate the training and test classification errors for each value of C\n",
    "\n",
    "for param in C_list:\n",
    "    \n",
    "    # Create SVM object and fit\n",
    "    svm_classifier = LinearSVC(C= param, random_state = 42)\n",
    "    svm_classifier.fit(X_train, y_train)\n",
    "    \n",
    "    # Evaluate error rates and append to lists\n",
    "    train_errors.append( 1.0 - svm_classifier.score(X_train, y_train) )\n",
    "    test_errors.append( 1.0 - svm_classifier.score(X_test, y_test) )\n",
    "    \n",
    "# Plot results\n",
    "plt.semilogx(C_list, train_errors, C_list, test_errors)\n",
    "plt.legend((\"train\", \"test\"))\n",
    "plt.ylabel('Classification Error')\n",
    "plt.xlabel('C (Inverse regularization strength)')\n",
    "plt.show()"
   ]
  },
  {
   "cell_type": "markdown",
   "metadata": {},
   "source": [
    "From the output above it is clear that:\n",
    "\n",
    "- A value of 10 for the inverse regularization strength is optimal because it has low classification errors on the training and test sets suggesting that the model is not overfit or underfit. "
   ]
  },
  {
   "cell_type": "markdown",
   "metadata": {},
   "source": [
    "### Scaling the data"
   ]
  },
  {
   "cell_type": "code",
   "execution_count": 35,
   "metadata": {},
   "outputs": [
    {
     "data": {
      "text/plain": [
       "0.95717115895938687"
      ]
     },
     "execution_count": 35,
     "metadata": {},
     "output_type": "execute_result"
    }
   ],
   "source": [
    "#Setting up the scaling pipeline \n",
    "\n",
    "pipeline_order = [('scaler', StandardScaler()), ('SVM', LinearSVC(C = 10, random_state = 42))]\n",
    "\n",
    "pipeline = Pipeline(pipeline_order)\n",
    "\n",
    "#Fitting the classfier to the scaled dataset \n",
    "\n",
    "svm_classifier_scaled = pipeline.fit(X_train, y_train)\n",
    "\n",
    "#Extracting the score \n",
    "\n",
    "svm_classifier_scaled.score(X_test, y_test)"
   ]
  },
  {
   "cell_type": "markdown",
   "metadata": {},
   "source": [
    "From the output produced above: \n",
    "    \n",
    "- The accuracy of the model has **improved from 91.9% to 95.7%** after scaling the data."
   ]
  },
  {
   "cell_type": "markdown",
   "metadata": {},
   "source": [
    "### Performance Evaluation"
   ]
  },
  {
   "cell_type": "markdown",
   "metadata": {},
   "source": [
    "**Confusion Matrix**"
   ]
  },
  {
   "cell_type": "code",
   "execution_count": 36,
   "metadata": {},
   "outputs": [
    {
     "name": "stdout",
     "output_type": "stream",
     "text": [
      "[[61345  1412]\n",
      " [ 1874 12093]]\n"
     ]
    }
   ],
   "source": [
    "#Creating predictions on the test set \n",
    "\n",
    "prediction = svm_classifier_scaled.predict(X_test)\n",
    "\n",
    "#Creating the confusion matrix \n",
    "\n",
    "print(confusion_matrix(y_test, prediction))"
   ]
  },
  {
   "cell_type": "code",
   "execution_count": 37,
   "metadata": {},
   "outputs": [
    {
     "name": "stdout",
     "output_type": "stream",
     "text": [
      "             precision    recall  f1-score   support\n",
      "\n",
      "        0.0       0.97      0.98      0.97     62757\n",
      "        1.0       0.90      0.87      0.88     13967\n",
      "\n",
      "avg / total       0.96      0.96      0.96     76724\n",
      "\n"
     ]
    }
   ],
   "source": [
    "#Creating the classification report \n",
    "\n",
    "print(classification_report(y_test, prediction))"
   ]
  },
  {
   "cell_type": "markdown",
   "metadata": {},
   "source": [
    "From the output produced above:\n",
    "    \n",
    "- The model has a high number of True Positives and True Negatives.\n",
    "- The classifier has equally high precision and recall scores of 0.96 along with the same F1-Score of 0.95.\n",
    "- This indicates that not many non-defaulted loans are predicted as defaulted (Due to the high value of precision).\n",
    "- This also indicates that the model predicted most of the defaulted loans correctly (Due to the high value of recall).\n",
    "- The model produces a higher number of false negatives than false positives, indicating that this model will a higher chance of predicting a loan as 'not default' when it actually has defaulted. \n",
    "- The lack of the a **predict_proba** method for the LinearSVC limits model performance evaluation and interpretability.\n"
   ]
  },
  {
   "cell_type": "markdown",
   "metadata": {},
   "source": [
    "## Decision Tree \n",
    "\n",
    "**Aim**: The aim of this section to build and evaluate a model to predict defaults using the Decision Tree algorithm."
   ]
  },
  {
   "cell_type": "markdown",
   "metadata": {},
   "source": [
    "### Building the base classifier"
   ]
  },
  {
   "cell_type": "code",
   "execution_count": 38,
   "metadata": {},
   "outputs": [],
   "source": [
    "#Initializing an empty DT classifier with a random state value of 42 for reproducability\n",
    "\n",
    "dt_classifier = DecisionTreeClassifier(criterion = 'gini', random_state = 42)"
   ]
  },
  {
   "cell_type": "code",
   "execution_count": 39,
   "metadata": {},
   "outputs": [
    {
     "data": {
      "text/plain": [
       "DecisionTreeClassifier(class_weight=None, criterion='gini', max_depth=None,\n",
       "            max_features=None, max_leaf_nodes=None,\n",
       "            min_impurity_decrease=0.0, min_impurity_split=None,\n",
       "            min_samples_leaf=1, min_samples_split=2,\n",
       "            min_weight_fraction_leaf=0.0, presort=False, random_state=42,\n",
       "            splitter='best')"
      ]
     },
     "execution_count": 39,
     "metadata": {},
     "output_type": "execute_result"
    }
   ],
   "source": [
    "#Fitting the classifier on the training data\n",
    "\n",
    "dt_classifier.fit(X_train, y_train)"
   ]
  },
  {
   "cell_type": "code",
   "execution_count": 40,
   "metadata": {},
   "outputs": [
    {
     "data": {
      "text/plain": [
       "0.97650018247223813"
      ]
     },
     "execution_count": 40,
     "metadata": {},
     "output_type": "execute_result"
    }
   ],
   "source": [
    "#Extracting the scores \n",
    "\n",
    "dt_classifier.score(X_test, y_test)"
   ]
  },
  {
   "cell_type": "markdown",
   "metadata": {},
   "source": [
    "From the output produced above:\n",
    "    \n",
    "- The base decision tree classifier has an accuracy of 97.6%"
   ]
  },
  {
   "cell_type": "markdown",
   "metadata": {},
   "source": [
    "### Fine tuning parameters"
   ]
  },
  {
   "cell_type": "code",
   "execution_count": 41,
   "metadata": {},
   "outputs": [],
   "source": [
    "#Creating a grid of hyperparameters\n",
    "\n",
    "grid = {\n",
    "    'max_depth': [3,4,5,6],\n",
    "    'min_samples_leaf': [0.04, 0.06, 0.08]\n",
    "}\n",
    "\n",
    "#Building a 5 fold CV GridSearchCV object\n",
    "\n",
    "grid_object = GridSearchCV(estimator = dt_classifier, param_grid = grid, scoring = 'accuracy', cv = 5, n_jobs = -1)"
   ]
  },
  {
   "cell_type": "code",
   "execution_count": 42,
   "metadata": {},
   "outputs": [
    {
     "data": {
      "text/plain": [
       "GridSearchCV(cv=5, error_score='raise',\n",
       "       estimator=DecisionTreeClassifier(class_weight=None, criterion='gini', max_depth=None,\n",
       "            max_features=None, max_leaf_nodes=None,\n",
       "            min_impurity_decrease=0.0, min_impurity_split=None,\n",
       "            min_samples_leaf=1, min_samples_split=2,\n",
       "            min_weight_fraction_leaf=0.0, presort=False, random_state=42,\n",
       "            splitter='best'),\n",
       "       fit_params=None, iid=True, n_jobs=-1,\n",
       "       param_grid={'max_depth': [3, 4, 5, 6], 'min_samples_leaf': [0.04, 0.06, 0.08]},\n",
       "       pre_dispatch='2*n_jobs', refit=True, return_train_score='warn',\n",
       "       scoring='accuracy', verbose=0)"
      ]
     },
     "execution_count": 42,
     "metadata": {},
     "output_type": "execute_result"
    }
   ],
   "source": [
    "#Fitting the grid to the training data\n",
    "\n",
    "grid_object.fit(X_train, y_train)"
   ]
  },
  {
   "cell_type": "code",
   "execution_count": 43,
   "metadata": {},
   "outputs": [
    {
     "data": {
      "text/plain": [
       "{'max_depth': 4, 'min_samples_leaf': 0.04}"
      ]
     },
     "execution_count": 43,
     "metadata": {},
     "output_type": "execute_result"
    }
   ],
   "source": [
    "#Extracting the best parameters\n",
    "\n",
    "grid_object.best_params_"
   ]
  },
  {
   "cell_type": "code",
   "execution_count": 44,
   "metadata": {},
   "outputs": [
    {
     "data": {
      "text/plain": [
       "0.94481094396746745"
      ]
     },
     "execution_count": 44,
     "metadata": {},
     "output_type": "execute_result"
    }
   ],
   "source": [
    "#Extracting the best score\n",
    "\n",
    "grid_object.best_score_"
   ]
  },
  {
   "cell_type": "code",
   "execution_count": 45,
   "metadata": {},
   "outputs": [],
   "source": [
    "#Extracting the best model\n",
    "\n",
    "dt_classifier = grid_object.best_estimator_"
   ]
  },
  {
   "cell_type": "markdown",
   "metadata": {},
   "source": [
    "From the output above:\n",
    "    \n",
    "- The accuracy of the model decreased from 97% to 94.4%\n",
    "- However, GridSearchCV uses cross-validation to minimize the generalization error that is caused due to bias and variance.\n",
    "- This suggests that the base model was highly overfit.\n",
    "- Hence the optimal model extracted from GridSearchCV will be considered as the final model for the classifier."
   ]
  },
  {
   "cell_type": "markdown",
   "metadata": {},
   "source": [
    "### Performance Evaluation"
   ]
  },
  {
   "cell_type": "markdown",
   "metadata": {},
   "source": [
    "**Confusion Matrix**"
   ]
  },
  {
   "cell_type": "code",
   "execution_count": 46,
   "metadata": {},
   "outputs": [
    {
     "name": "stdout",
     "output_type": "stream",
     "text": [
      "[[61285  1472]\n",
      " [ 2827 11140]]\n"
     ]
    }
   ],
   "source": [
    "#Creating predictions on the test set \n",
    "\n",
    "prediction = dt_classifier.predict(X_test)\n",
    "\n",
    "#Creating the confusion matrix \n",
    "\n",
    "print(confusion_matrix(y_test, prediction))"
   ]
  },
  {
   "cell_type": "code",
   "execution_count": 47,
   "metadata": {},
   "outputs": [
    {
     "name": "stdout",
     "output_type": "stream",
     "text": [
      "             precision    recall  f1-score   support\n",
      "\n",
      "        0.0       0.96      0.98      0.97     62757\n",
      "        1.0       0.88      0.80      0.84     13967\n",
      "\n",
      "avg / total       0.94      0.94      0.94     76724\n",
      "\n"
     ]
    }
   ],
   "source": [
    "#Creating the classification report \n",
    "\n",
    "print(classification_report(y_test, prediction))"
   ]
  },
  {
   "cell_type": "markdown",
   "metadata": {},
   "source": [
    "From the output produced above: \n",
    "    \n",
    "- The classifier has equally high precision and recall scores of 0.95 along with the same F1-Score of 0.94.\n",
    "- This indicates that not many non-defaulted loans are predicted as defaulted (Due to the high value of precision).\n",
    "- This also indicates that the model predicted most of the defaulted loans correctly (Due to the high value of recall).\n",
    "- The model produces a higher number of false negative than false postives, indicating that this model will have a higher chance of predicting a loan as a not defaulted when it actually has actually defaulted. \n",
    "- The model has a high number of True positives and True negatives."
   ]
  },
  {
   "cell_type": "markdown",
   "metadata": {},
   "source": [
    "**Cumulative gains curve**"
   ]
  },
  {
   "cell_type": "code",
   "execution_count": 48,
   "metadata": {},
   "outputs": [
    {
     "data": {
      "image/png": "[encoded data removed]",
      "text/plain": [
       "<matplotlib.figure.Figure at 0x116f47048>"
      ]
     },
     "metadata": {},
     "output_type": "display_data"
    }
   ],
   "source": [
    "# Plot the cumulative gains graph\n",
    "\n",
    "predictions = dt_classifier.predict_proba(X_test)\n",
    "\n",
    "skplt.metrics.plot_cumulative_gain(y_test, predictions)\n",
    "\n",
    "plt.show()"
   ]
  },
  {
   "cell_type": "markdown",
   "metadata": {},
   "source": [
    "From the output produced above:\n",
    "    \n",
    "- The cumulative gains curve for our target class of 1.0 (Defaulted loans) captures/predicts 100% of the defaulted loans if we have anything greater than 30% of the total data.\n",
    "- If we have 20% of the total data, the Decison Tree Classifier would capture/predict 90% of the defaulted loans."
   ]
  },
  {
   "cell_type": "markdown",
   "metadata": {},
   "source": [
    "**Lift curve**"
   ]
  },
  {
   "cell_type": "code",
   "execution_count": 49,
   "metadata": {},
   "outputs": [
    {
     "data": {
      "image/png": "[encoded data removed]",
      "text/plain": [
       "<matplotlib.figure.Figure at 0x114cf5400>"
      ]
     },
     "metadata": {},
     "output_type": "display_data"
    }
   ],
   "source": [
    "# Plot the lift curve\n",
    "\n",
    "predictions = dt_classifier.predict_proba(X_test)\n",
    "\n",
    "skplt.metrics.plot_lift_curve(y_test, predictions)\n",
    "\n",
    "plt.show()"
   ]
  },
  {
   "cell_type": "markdown",
   "metadata": {},
   "source": [
    "From the output produced above: \n",
    "    \n",
    "- 10% of the population that are likely to default have a value of lift that is greater than 5.\n",
    "- This means that 10% of the population that are likely to default will give very accurate results when it comes to predicting defaults using the Decision Tree model compared to not using any predictive model."
   ]
  },
  {
   "cell_type": "markdown",
   "metadata": {},
   "source": [
    "## Random Forests\n",
    "\n",
    "**Aim**: The aim of this section to build and evaluate a model to predict defaults using the Random Forests algorithm."
   ]
  },
  {
   "cell_type": "markdown",
   "metadata": {},
   "source": [
    "### Building the base classifier"
   ]
  },
  {
   "cell_type": "code",
   "execution_count": 50,
   "metadata": {},
   "outputs": [],
   "source": [
    "#Initiliazing an Random Forest Classifier with default parameters\n",
    "\n",
    "rf_classifier = RandomForestClassifier(random_state = 42)"
   ]
  },
  {
   "cell_type": "code",
   "execution_count": 51,
   "metadata": {},
   "outputs": [
    {
     "data": {
      "text/plain": [
       "RandomForestClassifier(bootstrap=True, class_weight=None, criterion='gini',\n",
       "            max_depth=None, max_features='auto', max_leaf_nodes=None,\n",
       "            min_impurity_decrease=0.0, min_impurity_split=None,\n",
       "            min_samples_leaf=1, min_samples_split=2,\n",
       "            min_weight_fraction_leaf=0.0, n_estimators=10, n_jobs=1,\n",
       "            oob_score=False, random_state=42, verbose=0, warm_start=False)"
      ]
     },
     "execution_count": 51,
     "metadata": {},
     "output_type": "execute_result"
    }
   ],
   "source": [
    "#Fitting the classifier on the training data\n",
    "\n",
    "rf_classifier.fit(X_train, y_train)"
   ]
  },
  {
   "cell_type": "code",
   "execution_count": 52,
   "metadata": {},
   "outputs": [
    {
     "data": {
      "text/plain": [
       "0.9806318752932589"
      ]
     },
     "execution_count": 52,
     "metadata": {},
     "output_type": "execute_result"
    }
   ],
   "source": [
    "#Extracting the scores\n",
    "\n",
    "rf_classifier.score(X_test, y_test)"
   ]
  },
  {
   "cell_type": "markdown",
   "metadata": {},
   "source": [
    "From the output produced above:\n",
    "    \n",
    "- The base classifier with default paramters has an accuracy score of 98.0%"
   ]
  },
  {
   "cell_type": "markdown",
   "metadata": {},
   "source": [
    "### Fine tuning parameters"
   ]
  },
  {
   "cell_type": "code",
   "execution_count": 53,
   "metadata": {},
   "outputs": [],
   "source": [
    "#Creating a grid of hyperparameters\n",
    "\n",
    "grid = {\n",
    "    'n_estimators': [200, 300,400],\n",
    "    'max_depth': [2,4,6],\n",
    "    'min_samples_leaf': [0.05, 0.1]\n",
    "}\n",
    "\n",
    "#Building a 5 fold CV GridSearchCV object\n",
    "\n",
    "grid_object = GridSearchCV(estimator = rf_classifier, param_grid = grid, scoring = 'accuracy', \n",
    "                           cv = 3, n_jobs = -1)"
   ]
  },
  {
   "cell_type": "code",
   "execution_count": 54,
   "metadata": {},
   "outputs": [
    {
     "data": {
      "text/plain": [
       "GridSearchCV(cv=3, error_score='raise',\n",
       "       estimator=RandomForestClassifier(bootstrap=True, class_weight=None, criterion='gini',\n",
       "            max_depth=None, max_features='auto', max_leaf_nodes=None,\n",
       "            min_impurity_decrease=0.0, min_impurity_split=None,\n",
       "            min_samples_leaf=1, min_samples_split=2,\n",
       "            min_weight_fraction_leaf=0.0, n_estimators=10, n_jobs=1,\n",
       "            oob_score=False, random_state=42, verbose=0, warm_start=False),\n",
       "       fit_params=None, iid=True, n_jobs=-1,\n",
       "       param_grid={'n_estimators': [200, 300, 400], 'max_depth': [2, 4, 6], 'min_samples_leaf': [0.05, 0.1]},\n",
       "       pre_dispatch='2*n_jobs', refit=True, return_train_score='warn',\n",
       "       scoring='accuracy', verbose=0)"
      ]
     },
     "execution_count": 54,
     "metadata": {},
     "output_type": "execute_result"
    }
   ],
   "source": [
    "#Fitting the grid to the training data\n",
    "\n",
    "grid_object.fit(X_train, y_train)"
   ]
  },
  {
   "cell_type": "code",
   "execution_count": 55,
   "metadata": {},
   "outputs": [
    {
     "data": {
      "text/plain": [
       "{'max_depth': 6, 'min_samples_leaf': 0.05, 'n_estimators': 200}"
      ]
     },
     "execution_count": 55,
     "metadata": {},
     "output_type": "execute_result"
    }
   ],
   "source": [
    "#Extracting the best parameters\n",
    "\n",
    "grid_object.best_params_"
   ]
  },
  {
   "cell_type": "code",
   "execution_count": 56,
   "metadata": {},
   "outputs": [
    {
     "data": {
      "text/plain": [
       "0.92615391490383814"
      ]
     },
     "execution_count": 56,
     "metadata": {},
     "output_type": "execute_result"
    }
   ],
   "source": [
    "#Extracting the best score\n",
    "\n",
    "grid_object.best_score_"
   ]
  },
  {
   "cell_type": "code",
   "execution_count": 57,
   "metadata": {},
   "outputs": [],
   "source": [
    "#Extracting the best model\n",
    "\n",
    "rf_classifier = grid_object.best_estimator_"
   ]
  },
  {
   "cell_type": "markdown",
   "metadata": {},
   "source": [
    "From the output produced above:\n",
    "\n",
    "- The accuracy of the model has decreased from 98% to 92.6% when the most optimal hyperparamters are used. \n",
    "- This suggests that the model was initially overfitting the data."
   ]
  },
  {
   "cell_type": "markdown",
   "metadata": {},
   "source": [
    "### Performance Evaluation"
   ]
  },
  {
   "cell_type": "markdown",
   "metadata": {},
   "source": [
    "**Confusion Matrix**"
   ]
  },
  {
   "cell_type": "code",
   "execution_count": 58,
   "metadata": {},
   "outputs": [
    {
     "name": "stdout",
     "output_type": "stream",
     "text": [
      "[[62595   162]\n",
      " [ 5504  8463]]\n"
     ]
    }
   ],
   "source": [
    "#Creating predictions on the test set \n",
    "\n",
    "prediction = rf_classifier.predict(X_test)\n",
    "\n",
    "#Creating the confusion matrix \n",
    "\n",
    "print(confusion_matrix(y_test, prediction))"
   ]
  },
  {
   "cell_type": "code",
   "execution_count": 59,
   "metadata": {},
   "outputs": [
    {
     "name": "stdout",
     "output_type": "stream",
     "text": [
      "             precision    recall  f1-score   support\n",
      "\n",
      "        0.0       0.92      1.00      0.96     62757\n",
      "        1.0       0.98      0.61      0.75     13967\n",
      "\n",
      "avg / total       0.93      0.93      0.92     76724\n",
      "\n"
     ]
    }
   ],
   "source": [
    "#Creating the classification report \n",
    "\n",
    "print(classification_report(y_test, prediction))"
   ]
  },
  {
   "cell_type": "markdown",
   "metadata": {},
   "source": [
    "From the output produced above: \n",
    "    \n",
    "- The classifier has equally high precision and recall scores of 0.93 along with the an F1-Score of 0.92.\n",
    "- This indicates that not many non-defaulted loans are predicted as defaulted (Due to the high value of precision).\n",
    "- The model produces a higher number of false negatives than false positives, indicating that this model will a higher chance of predicting a loan as not defaulted when it actually has defaulted. \n",
    "- The value of recall for the prediction of defaulted loans (1.0) is very low for the random forest model at 0.61. \n",
    "- This means that many of the defaulted loans were predicted incorrectly resulting in a larger number of False Positives.\n",
    "- The model has a high number of True positives and True negatives."
   ]
  },
  {
   "cell_type": "markdown",
   "metadata": {},
   "source": [
    "**Cumulative gains curve**"
   ]
  },
  {
   "cell_type": "code",
   "execution_count": 60,
   "metadata": {},
   "outputs": [
    {
     "data": {
      "image/png": "[encoded data removed]",
      "text/plain": [
       "<matplotlib.figure.Figure at 0x1149eaf60>"
      ]
     },
     "metadata": {},
     "output_type": "display_data"
    }
   ],
   "source": [
    "# Plot the cumulative gains graph\n",
    "\n",
    "predictions = rf_classifier.predict_proba(X_test)\n",
    "\n",
    "skplt.metrics.plot_cumulative_gain(y_test, predictions)\n",
    "\n",
    "plt.show()"
   ]
  },
  {
   "cell_type": "markdown",
   "metadata": {},
   "source": [
    "From the output produced above:\n",
    "    \n",
    "- The cumulative gains curve for our target class of 1.0 (Defaulted loans) captures/predicts 100% of the defaulted loans if we have anything greater than 30% of the total data.\n",
    "- If we have 20% of the total data, the random forest classifier would capture/predict 85% of the defaulted loans."
   ]
  },
  {
   "cell_type": "markdown",
   "metadata": {},
   "source": [
    "**Lift curve**"
   ]
  },
  {
   "cell_type": "code",
   "execution_count": 61,
   "metadata": {},
   "outputs": [
    {
     "data": {
      "image/png": "[encoded data removed]",
      "text/plain": [
       "<matplotlib.figure.Figure at 0x114d3f080>"
      ]
     },
     "metadata": {},
     "output_type": "display_data"
    }
   ],
   "source": [
    "# Plot the lift curve\n",
    "\n",
    "predictions = rf_classifier.predict_proba(X_test)\n",
    "\n",
    "skplt.metrics.plot_lift_curve(y_test, predictions)\n",
    "\n",
    "plt.show()"
   ]
  },
  {
   "cell_type": "markdown",
   "metadata": {},
   "source": [
    "From the output produced above: \n",
    "    \n",
    "- 10% of the population that are likely to default have a value of lift that is greater than 5.\n",
    "- This means that 10% of the population that are likely to default will give very accurate results when it comes to predicting defaults using the Random Forest Model compared to not using any predictive model."
   ]
  },
  {
   "cell_type": "markdown",
   "metadata": {},
   "source": [
    "## Gradient Boosted Trees (AdaBoost)\n",
    "\n",
    "**Aim**: The aim of this section to build and evaluate a model to predict defaults using the Gradient Boosted Trees (AdaBoost) algorithm."
   ]
  },
  {
   "cell_type": "code",
   "execution_count": 62,
   "metadata": {},
   "outputs": [],
   "source": [
    "#Initialize a weak learner (Decision Tree with max depth = 1)\n",
    "\n",
    "weak_learner = DecisionTreeClassifier(max_depth=1, random_state = 42)"
   ]
  },
  {
   "cell_type": "code",
   "execution_count": 63,
   "metadata": {},
   "outputs": [],
   "source": [
    "#Initialize an AdaBoost classifier with the weak learner as the base estimator\n",
    "\n",
    "ada_classifier = AdaBoostClassifier(base_estimator = weak_learner, n_estimators=100)"
   ]
  },
  {
   "cell_type": "code",
   "execution_count": 64,
   "metadata": {},
   "outputs": [
    {
     "data": {
      "text/plain": [
       "AdaBoostClassifier(algorithm='SAMME.R',\n",
       "          base_estimator=DecisionTreeClassifier(class_weight=None, criterion='gini', max_depth=1,\n",
       "            max_features=None, max_leaf_nodes=None,\n",
       "            min_impurity_decrease=0.0, min_impurity_split=None,\n",
       "            min_samples_leaf=1, min_samples_split=2,\n",
       "            min_weight_fraction_leaf=0.0, presort=False, random_state=42,\n",
       "            splitter='best'),\n",
       "          learning_rate=1.0, n_estimators=100, random_state=None)"
      ]
     },
     "execution_count": 64,
     "metadata": {},
     "output_type": "execute_result"
    }
   ],
   "source": [
    "#Fitting the AdaBoost classifier to the training set\n",
    "\n",
    "ada_classifier.fit(X_train, y_train)"
   ]
  },
  {
   "cell_type": "code",
   "execution_count": 65,
   "metadata": {},
   "outputs": [
    {
     "data": {
      "text/plain": [
       "0.96901882070799228"
      ]
     },
     "execution_count": 65,
     "metadata": {},
     "output_type": "execute_result"
    }
   ],
   "source": [
    "#Extracting the accuracy scores from the classifier\n",
    "\n",
    "ada_classifier.score(X_test, y_test)"
   ]
  },
  {
   "cell_type": "markdown",
   "metadata": {},
   "source": [
    "From the output produced above:\n",
    "    \n",
    "- The base classifier produces an accuracy score of 96.9%"
   ]
  },
  {
   "cell_type": "markdown",
   "metadata": {},
   "source": [
    "### Fine tuning parameters"
   ]
  },
  {
   "cell_type": "code",
   "execution_count": 66,
   "metadata": {},
   "outputs": [],
   "source": [
    "#Creating a grid of hyperparameters\n",
    "\n",
    "grid = {\n",
    "    'n_estimators': [100,200,300]\n",
    "}\n",
    "\n",
    "#Building a 5 fold CV GridSearchCV object\n",
    "\n",
    "grid_object = GridSearchCV(estimator = ada_classifier, param_grid = grid, scoring = 'accuracy', cv = 5, n_jobs = -1)"
   ]
  },
  {
   "cell_type": "code",
   "execution_count": 67,
   "metadata": {},
   "outputs": [
    {
     "data": {
      "text/plain": [
       "GridSearchCV(cv=5, error_score='raise',\n",
       "       estimator=AdaBoostClassifier(algorithm='SAMME.R',\n",
       "          base_estimator=DecisionTreeClassifier(class_weight=None, criterion='gini', max_depth=1,\n",
       "            max_features=None, max_leaf_nodes=None,\n",
       "            min_impurity_decrease=0.0, min_impurity_split=None,\n",
       "            min_samples_leaf=1, min_samples_split=2,\n",
       "            min_weight_fraction_leaf=0.0, presort=False, random_state=42,\n",
       "            splitter='best'),\n",
       "          learning_rate=1.0, n_estimators=100, random_state=None),\n",
       "       fit_params=None, iid=True, n_jobs=-1,\n",
       "       param_grid={'n_estimators': [100, 200, 300]},\n",
       "       pre_dispatch='2*n_jobs', refit=True, return_train_score='warn',\n",
       "       scoring='accuracy', verbose=0)"
      ]
     },
     "execution_count": 67,
     "metadata": {},
     "output_type": "execute_result"
    }
   ],
   "source": [
    "#Fitting the grid to the training data\n",
    "\n",
    "grid_object.fit(X_train, y_train)"
   ]
  },
  {
   "cell_type": "code",
   "execution_count": 68,
   "metadata": {},
   "outputs": [
    {
     "data": {
      "text/plain": [
       "{'n_estimators': 300}"
      ]
     },
     "execution_count": 68,
     "metadata": {},
     "output_type": "execute_result"
    }
   ],
   "source": [
    "#Extracting the best parameters\n",
    "\n",
    "grid_object.best_params_"
   ]
  },
  {
   "cell_type": "code",
   "execution_count": 69,
   "metadata": {},
   "outputs": [
    {
     "data": {
      "text/plain": [
       "0.97022695661402847"
      ]
     },
     "execution_count": 69,
     "metadata": {},
     "output_type": "execute_result"
    }
   ],
   "source": [
    "#Extracting the best score\n",
    "\n",
    "grid_object.best_score_"
   ]
  },
  {
   "cell_type": "code",
   "execution_count": 70,
   "metadata": {},
   "outputs": [],
   "source": [
    "#Extracting the best model\n",
    "\n",
    "ada_classifier = grid_object.best_estimator_"
   ]
  },
  {
   "cell_type": "markdown",
   "metadata": {},
   "source": [
    "From the output produced above:\n",
    "\n",
    "- The accuracy of the model has improved from 96.9% to 97% when the most optimal hyperparamters are used. "
   ]
  },
  {
   "cell_type": "markdown",
   "metadata": {},
   "source": [
    "### Performance Evaluation"
   ]
  },
  {
   "cell_type": "markdown",
   "metadata": {},
   "source": [
    "**Confusion Matrix**"
   ]
  },
  {
   "cell_type": "code",
   "execution_count": 71,
   "metadata": {},
   "outputs": [
    {
     "name": "stdout",
     "output_type": "stream",
     "text": [
      "[[61702  1055]\n",
      " [ 1267 12700]]\n"
     ]
    }
   ],
   "source": [
    "#Creating predictions on the test set \n",
    "\n",
    "prediction = ada_classifier.predict(X_test)\n",
    "\n",
    "#Creating the confusion matrix \n",
    "\n",
    "print(confusion_matrix(y_test, prediction))"
   ]
  },
  {
   "cell_type": "code",
   "execution_count": 72,
   "metadata": {},
   "outputs": [
    {
     "name": "stdout",
     "output_type": "stream",
     "text": [
      "             precision    recall  f1-score   support\n",
      "\n",
      "        0.0       0.98      0.98      0.98     62757\n",
      "        1.0       0.92      0.91      0.92     13967\n",
      "\n",
      "avg / total       0.97      0.97      0.97     76724\n",
      "\n"
     ]
    }
   ],
   "source": [
    "#Creating the classification report \n",
    "\n",
    "print(classification_report(y_test, prediction))"
   ]
  },
  {
   "cell_type": "markdown",
   "metadata": {},
   "source": [
    "From the output produced above:\n",
    "    \n",
    "- The number of false positives and false negatives are almost the same suggesting that the model is very balanced.\n",
    "- The number of true positives and true negatives are high suggesting that the model predicts correctly in most cases.\n",
    "- The precison, recall and F1-score are the same and high in all cases at 0.97.\n",
    "- This indicates that not many non-defaulted loans are predicted as defaulted (Due to the high value of precision).\n",
    "- This also indicates that the model predicted most of the defaulted loans correctly (Due to the high value of recall)."
   ]
  },
  {
   "cell_type": "markdown",
   "metadata": {},
   "source": [
    "**Cumulative Gains Curve**"
   ]
  },
  {
   "cell_type": "code",
   "execution_count": 73,
   "metadata": {},
   "outputs": [
    {
     "data": {
      "image/png": "[encoded data removed]",
      "text/plain": [
       "<matplotlib.figure.Figure at 0x1040fa588>"
      ]
     },
     "metadata": {},
     "output_type": "display_data"
    }
   ],
   "source": [
    "# Plot the cumulative gains graph\n",
    "\n",
    "predictions = ada_classifier.predict_proba(X_test)\n",
    "\n",
    "skplt.metrics.plot_cumulative_gain(y_test, predictions)\n",
    "\n",
    "plt.show()"
   ]
  },
  {
   "cell_type": "markdown",
   "metadata": {},
   "source": [
    "From the output produced above:\n",
    "    \n",
    "- The cumulative gains curve for our target class of 1.0 (Defaulted loans) captures/predicts 100% of the defaulted loans if we have anything greater than 33% of the total data.\n",
    "- If we have 20% of the total data, the gradient boosted tree classifier would capture/predict 95% of the defaulted loans."
   ]
  },
  {
   "cell_type": "markdown",
   "metadata": {},
   "source": [
    "**Lift Curve**"
   ]
  },
  {
   "cell_type": "code",
   "execution_count": 74,
   "metadata": {},
   "outputs": [
    {
     "data": {
      "image/png": "[encoded data removed]",
      "text/plain": [
       "<matplotlib.figure.Figure at 0x113e765c0>"
      ]
     },
     "metadata": {},
     "output_type": "display_data"
    }
   ],
   "source": [
    "# Plot the lift curve\n",
    "\n",
    "predictions = ada_classifier.predict_proba(X_test)\n",
    "\n",
    "skplt.metrics.plot_lift_curve(y_test, predictions)\n",
    "\n",
    "plt.show()"
   ]
  },
  {
   "cell_type": "markdown",
   "metadata": {},
   "source": [
    "From the output produced above: \n",
    "    \n",
    "- 18% of the population that are likely to default have a value of lift that is greater than 5.\n",
    "- This means that 18% of the population that are likely to default will give very accurate results when it comes to predicting defaults using the AdaBoost model compared to not using any predictive model."
   ]
  },
  {
   "cell_type": "markdown",
   "metadata": {},
   "source": [
    "## Gaussian Naive Bayes\n",
    "\n",
    "**Aim**: The aim of this section to build and evaluate a model to predict defaults using the Gaussian Naive Bayes algorithm."
   ]
  },
  {
   "cell_type": "markdown",
   "metadata": {},
   "source": [
    "### Building the base classifier"
   ]
  },
  {
   "cell_type": "code",
   "execution_count": 75,
   "metadata": {},
   "outputs": [],
   "source": [
    "#Initializing an NB classifier\n",
    "\n",
    "naive_bayes_classifier = GaussianNB()"
   ]
  },
  {
   "cell_type": "code",
   "execution_count": 76,
   "metadata": {},
   "outputs": [
    {
     "data": {
      "text/plain": [
       "GaussianNB(priors=None)"
      ]
     },
     "execution_count": 76,
     "metadata": {},
     "output_type": "execute_result"
    }
   ],
   "source": [
    "#Fitting the classifier into the training data\n",
    "\n",
    "naive_bayes_classifier.fit(X_train, y_train)"
   ]
  },
  {
   "cell_type": "code",
   "execution_count": 77,
   "metadata": {},
   "outputs": [
    {
     "data": {
      "text/plain": [
       "0.91137062718314998"
      ]
     },
     "execution_count": 77,
     "metadata": {},
     "output_type": "execute_result"
    }
   ],
   "source": [
    "#Extracting the accuracy score from the base classifier\n",
    "\n",
    "naive_bayes_classifier.score(X_test, y_test)"
   ]
  },
  {
   "cell_type": "markdown",
   "metadata": {},
   "source": [
    "From the output produced above:\n",
    "    \n",
    "- The base Naive Bayes classifier has an accuracy score of 91.1%"
   ]
  },
  {
   "cell_type": "markdown",
   "metadata": {},
   "source": [
    "### Scaling the data"
   ]
  },
  {
   "cell_type": "code",
   "execution_count": 78,
   "metadata": {},
   "outputs": [
    {
     "data": {
      "text/plain": [
       "0.91326051822115639"
      ]
     },
     "execution_count": 78,
     "metadata": {},
     "output_type": "execute_result"
    }
   ],
   "source": [
    "#Setting up the scaling pipeline \n",
    "\n",
    "pipeline_order = [('scaler', StandardScaler()), ('NB', GaussianNB())]\n",
    "\n",
    "pipeline = Pipeline(pipeline_order)\n",
    "\n",
    "#Fitting the classfier to the scaled dataset \n",
    "\n",
    "naive_bayes_scaled = pipeline.fit(X_train, y_train)\n",
    "\n",
    "#Extracting the score \n",
    "\n",
    "naive_bayes_scaled.score(X_test, y_test)"
   ]
  },
  {
   "cell_type": "markdown",
   "metadata": {},
   "source": [
    "From the output produced above: \n",
    "    \n",
    "- The accuracy of the model has improved from 91.1% to 91.3% after scaling the data."
   ]
  },
  {
   "cell_type": "markdown",
   "metadata": {},
   "source": [
    "### Performance Evaluation"
   ]
  },
  {
   "cell_type": "markdown",
   "metadata": {},
   "source": [
    "**Confusion Matrix**"
   ]
  },
  {
   "cell_type": "code",
   "execution_count": 79,
   "metadata": {},
   "outputs": [
    {
     "name": "stdout",
     "output_type": "stream",
     "text": [
      "[[62757     0]\n",
      " [ 6655  7312]]\n"
     ]
    }
   ],
   "source": [
    "#Creating predictions on the test set \n",
    "\n",
    "prediction = naive_bayes_scaled.predict(X_test)\n",
    "\n",
    "#Creating the confusion matrix \n",
    "\n",
    "print(confusion_matrix(y_test, prediction))"
   ]
  },
  {
   "cell_type": "code",
   "execution_count": 80,
   "metadata": {},
   "outputs": [
    {
     "name": "stdout",
     "output_type": "stream",
     "text": [
      "             precision    recall  f1-score   support\n",
      "\n",
      "        0.0       0.90      1.00      0.95     62757\n",
      "        1.0       1.00      0.52      0.69     13967\n",
      "\n",
      "avg / total       0.92      0.91      0.90     76724\n",
      "\n"
     ]
    }
   ],
   "source": [
    "#Creating the classification report \n",
    "\n",
    "print(classification_report(y_test, prediction))"
   ]
  },
  {
   "cell_type": "markdown",
   "metadata": {},
   "source": [
    "From the output above:\n",
    "    \n",
    "- The classifer produces 0 false positives - Thus making this model very optimal if the lender/investor requires to minimize the number of false negatives.\n",
    "- This classifier produces a large number of false negatives. \n",
    "- The classifier produces a very large number of True positives and true negatives. \n",
    "- The classifier has very low recall and F-1 scores for the target - (1.0) which is the defaulted loans.\n",
    "- The classifier has very high precision scores."
   ]
  },
  {
   "cell_type": "markdown",
   "metadata": {},
   "source": [
    "**Cumulative Gains Curve**"
   ]
  },
  {
   "cell_type": "code",
   "execution_count": 81,
   "metadata": {},
   "outputs": [
    {
     "data": {
      "image/png": "[encoded data removed]",
      "text/plain": [
       "<matplotlib.figure.Figure at 0x114d62be0>"
      ]
     },
     "metadata": {},
     "output_type": "display_data"
    }
   ],
   "source": [
    "# Plot the cumulative gains graph\n",
    "\n",
    "predictions = naive_bayes_scaled.predict_proba(X_test)\n",
    "\n",
    "skplt.metrics.plot_cumulative_gain(y_test, predictions)\n",
    "\n",
    "plt.show()"
   ]
  },
  {
   "cell_type": "markdown",
   "metadata": {},
   "source": [
    "From the output produced above:\n",
    "    \n",
    "- The cumulative gains curve for our target class of 1.0 (Defaulted loans) captures/predicts 100% of the defaulted loans if we have anything greater than 40% of the total data.\n",
    "- If we have 20% of the total data, the k-NN classifier would capture/predict 80% of the defaulted loans."
   ]
  },
  {
   "cell_type": "markdown",
   "metadata": {},
   "source": [
    "**Lift curve**"
   ]
  },
  {
   "cell_type": "code",
   "execution_count": 82,
   "metadata": {},
   "outputs": [
    {
     "data": {
      "image/png": "[encoded data removed]",
      "text/plain": [
       "<matplotlib.figure.Figure at 0x105c81b00>"
      ]
     },
     "metadata": {},
     "output_type": "display_data"
    }
   ],
   "source": [
    "# Plot the lift curve\n",
    "\n",
    "predictions = naive_bayes_scaled.predict_proba(X_test)\n",
    "\n",
    "skplt.metrics.plot_lift_curve(y_test, predictions)\n",
    "\n",
    "plt.show()"
   ]
  },
  {
   "cell_type": "markdown",
   "metadata": {},
   "source": [
    "From the output produced above: \n",
    "    \n",
    "- 10% of the population that are likely to default have a value of lift that is greater than 5.\n",
    "- This means that 10% of the population that are likely to default will give very accurate results when it comes to predicting defaults using the Naive Bayes model compared to not using any predictive model."
   ]
  },
  {
   "cell_type": "markdown",
   "metadata": {},
   "source": [
    "## Ensemble Model\n",
    "\n",
    "**Aim**: The aim of this section to build and evaluate a model to predict defaults using an Ensemble of all the models built thus far."
   ]
  },
  {
   "cell_type": "markdown",
   "metadata": {},
   "source": [
    "### Building the base classifier"
   ]
  },
  {
   "cell_type": "code",
   "execution_count": 83,
   "metadata": {},
   "outputs": [],
   "source": [
    "#Creating a list of all the classifiers to be used in the ensemble model\n",
    "\n",
    "model_list = [('k-NN', knn_classifier_scaled), ('Logistic Regression', logistic_regression_scaled),\n",
    "             ('Linear SVM', svm_classifier_scaled), ('dt', dt_classifier), ('rf', rf_classifier),\n",
    "             ('adaboost', ada_classifier), ('NB', naive_bayes_scaled)]"
   ]
  },
  {
   "cell_type": "code",
   "execution_count": 84,
   "metadata": {},
   "outputs": [],
   "source": [
    "#Initialize a voting classifier\n",
    "\n",
    "voting_classifier = VotingClassifier(estimators= model_list)"
   ]
  },
  {
   "cell_type": "code",
   "execution_count": 85,
   "metadata": {},
   "outputs": [
    {
     "data": {
      "text/plain": [
       "VotingClassifier(estimators=[('k-NN', Pipeline(memory=None,\n",
       "     steps=[('scaler', StandardScaler(copy=True, with_mean=True, with_std=True)), ('knn', KNeighborsClassifier(algorithm='auto', leaf_size=30, metric='minkowski',\n",
       "           metric_params=None, n_jobs=1, n_neighbors=5, p=2,\n",
       "           weights='uniform'))]))...ler', StandardScaler(copy=True, with_mean=True, with_std=True)), ('NB', GaussianNB(priors=None))]))],\n",
       "         flatten_transform=None, n_jobs=1, voting='hard', weights=None)"
      ]
     },
     "execution_count": 85,
     "metadata": {},
     "output_type": "execute_result"
    }
   ],
   "source": [
    "#Fit the model to the training data\n",
    "\n",
    "voting_classifier.fit(X_train, y_train)"
   ]
  },
  {
   "cell_type": "code",
   "execution_count": 86,
   "metadata": {},
   "outputs": [
    {
     "data": {
      "text/plain": [
       "0.96211094312079659"
      ]
     },
     "execution_count": 86,
     "metadata": {},
     "output_type": "execute_result"
    }
   ],
   "source": [
    "#Extracting the score from the classifier \n",
    "\n",
    "voting_classifier.score(X_test, y_test)"
   ]
  },
  {
   "cell_type": "markdown",
   "metadata": {},
   "source": [
    "From the output produced above:\n",
    "    \n",
    "- The base ensemble model produces an accuracy score of 96.2%"
   ]
  },
  {
   "cell_type": "markdown",
   "metadata": {},
   "source": [
    "### Scaling the data"
   ]
  },
  {
   "cell_type": "code",
   "execution_count": 87,
   "metadata": {},
   "outputs": [
    {
     "data": {
      "text/plain": [
       "0.96211094312079659"
      ]
     },
     "execution_count": 87,
     "metadata": {},
     "output_type": "execute_result"
    }
   ],
   "source": [
    "#Setting up the scaling pipeline \n",
    "\n",
    "pipeline_order = [('scaler', StandardScaler()), ('vc', VotingClassifier(estimators= model_list))]\n",
    "\n",
    "pipeline = Pipeline(pipeline_order)\n",
    "\n",
    "#Fitting the classfier to the scaled dataset \n",
    "\n",
    "voting_scaled = pipeline.fit(X_train, y_train)\n",
    "\n",
    "#Extracting the score \n",
    "\n",
    "voting_scaled.score(X_test, y_test)"
   ]
  },
  {
   "cell_type": "markdown",
   "metadata": {},
   "source": [
    "- After scaling the data the accuracy of the model remains the same."
   ]
  },
  {
   "cell_type": "markdown",
   "metadata": {},
   "source": [
    "### Performance Evaluation"
   ]
  },
  {
   "cell_type": "markdown",
   "metadata": {},
   "source": [
    "**Confusion Matrix**"
   ]
  },
  {
   "cell_type": "code",
   "execution_count": 88,
   "metadata": {},
   "outputs": [
    {
     "name": "stdout",
     "output_type": "stream",
     "text": [
      "[[62031   726]\n",
      " [ 2181 11786]]\n"
     ]
    }
   ],
   "source": [
    "#Creating predictions on the test set \n",
    "\n",
    "prediction = voting_scaled.predict(X_test)\n",
    "\n",
    "#Creating the confusion matrix \n",
    "\n",
    "print(confusion_matrix(y_test, prediction))"
   ]
  },
  {
   "cell_type": "code",
   "execution_count": 89,
   "metadata": {},
   "outputs": [
    {
     "name": "stdout",
     "output_type": "stream",
     "text": [
      "             precision    recall  f1-score   support\n",
      "\n",
      "        0.0       0.97      0.99      0.98     62757\n",
      "        1.0       0.94      0.84      0.89     13967\n",
      "\n",
      "avg / total       0.96      0.96      0.96     76724\n",
      "\n"
     ]
    }
   ],
   "source": [
    "#Creating the classification report \n",
    "\n",
    "print(classification_report(y_test, prediction))"
   ]
  },
  {
   "cell_type": "markdown",
   "metadata": {},
   "source": [
    "*Due to the lack of a predict_proba function the Area under the curve score, cumulative gains curve and lift curve could not be computed, thus model interpretability is limited to the accuracy scores & confusion matrix*"
   ]
  },
  {
   "cell_type": "markdown",
   "metadata": {},
   "source": [
    "From the output produced above:\n",
    "\n",
    "- The model has a large number of False negatives compared to the False positives. \n",
    "- This means that a large number of the predicted default loans were actually not defaulted. \n",
    "- The model alos has a large number of True positives and True negatives suggesting that the model is mostly accurate. \n",
    "- The model has high values of precision and recall. "
   ]
  },
  {
   "cell_type": "markdown",
   "metadata": {},
   "source": [
    "## Evaluation and Results\n",
    "\n",
    "**Aim:** The aim of the section below is to evaluate & compare the results of all the classification models built."
   ]
  },
  {
   "cell_type": "markdown",
   "metadata": {},
   "source": [
    "**Evaluation of the accuracy scores of the classification models**"
   ]
  },
  {
   "cell_type": "code",
   "execution_count": 90,
   "metadata": {},
   "outputs": [],
   "source": [
    "#Creating a list of all the classifiers to be used in the ensemble model\n",
    "\n",
    "model_list = [('k-NN', knn_classifier_scaled), ('Logistic Regression', logistic_regression_scaled),\n",
    "             ('Linear SVM', svm_classifier_scaled), ('Decision Tree', dt_classifier), ('Random Forest', rf_classifier),\n",
    "             ('Gradient Boosted Tree', ada_classifier), ('Naive Bayes', naive_bayes_scaled), \n",
    "             ('Ensemble', voting_scaled)]"
   ]
  },
  {
   "cell_type": "code",
   "execution_count": 91,
   "metadata": {},
   "outputs": [
    {
     "name": "stdout",
     "output_type": "stream",
     "text": [
      "k-NN : 0.952\n",
      "Logistic Regression : 0.951\n",
      "Linear SVM : 0.957\n",
      "Decision Tree : 0.944\n",
      "Random Forest : 0.926\n",
      "Gradient Boosted Tree : 0.970\n",
      "Naive Bayes : 0.913\n",
      "Ensemble : 0.962\n"
     ]
    }
   ],
   "source": [
    "for model_name, model in model_list:    \n",
    "  \n",
    "    # Fit model \n",
    "    model.fit(X_train, y_train)    \n",
    "  \n",
    "    # Predict on test\n",
    "    y_pred = model.predict(X_test)\n",
    "    \n",
    "    # Compute accuracy\n",
    "    accuracy = accuracy_score(y_test, y_pred)\n",
    "  \n",
    "    # Evaluate model's accuracy on test\n",
    "    print('{:s} : {:.3f}'.format(model_name, accuracy))"
   ]
  },
  {
   "cell_type": "code",
   "execution_count": 142,
   "metadata": {},
   "outputs": [],
   "source": [
    "y = ['k-NN', 'Logistic Regression', 'Linear SVM', 'Decision Tree', 'Random Forest','Gradient Boosted Tree', \n",
    "     'Naive Bayes', 'Ensemble']\n",
    "x = [95.2, 95.1, 95.7, 94.4, 92.6, 97.0, 91.3, 96.2]"
   ]
  },
  {
   "cell_type": "code",
   "execution_count": 143,
   "metadata": {},
   "outputs": [],
   "source": [
    "#Creating series \n",
    "\n",
    "y = pd.Series(y)\n",
    "x = pd.Series(x)"
   ]
  },
  {
   "cell_type": "code",
   "execution_count": 144,
   "metadata": {},
   "outputs": [],
   "source": [
    "#Making the series into a dataframe\n",
    "\n",
    "acc_df = pd.DataFrame(\n",
    "{\n",
    "    'accuracy_score': x,\n",
    "    'classifier': y\n",
    "    \n",
    "})"
   ]
  },
  {
   "cell_type": "code",
   "execution_count": 145,
   "metadata": {},
   "outputs": [],
   "source": [
    "#Sorting according to the accuracy score\n",
    "\n",
    "acc_df = acc_df.sort_values('accuracy_score', ascending= False)"
   ]
  },
  {
   "cell_type": "code",
   "execution_count": 146,
   "metadata": {},
   "outputs": [
    {
     "data": {
      "text/html": [
       "<div>\n",
       "<style scoped>\n",
       "    .dataframe tbody tr th:only-of-type {\n",
       "        vertical-align: middle;\n",
       "    }\n",
       "\n",
       "    .dataframe tbody tr th {\n",
       "        vertical-align: top;\n",
       "    }\n",
       "\n",
       "    .dataframe thead th {\n",
       "        text-align: right;\n",
       "    }\n",
       "</style>\n",
       "<table border=\"1\" class=\"dataframe\">\n",
       "  <thead>\n",
       "    <tr style=\"text-align: right;\">\n",
       "      <th></th>\n",
       "      <th>accuracy_score</th>\n",
       "      <th>classifier</th>\n",
       "    </tr>\n",
       "  </thead>\n",
       "  <tbody>\n",
       "    <tr>\n",
       "      <th>5</th>\n",
       "      <td>97.0</td>\n",
       "      <td>Gradient Boosted Tree</td>\n",
       "    </tr>\n",
       "    <tr>\n",
       "      <th>7</th>\n",
       "      <td>96.2</td>\n",
       "      <td>Ensemble</td>\n",
       "    </tr>\n",
       "    <tr>\n",
       "      <th>2</th>\n",
       "      <td>95.7</td>\n",
       "      <td>Linear SVM</td>\n",
       "    </tr>\n",
       "    <tr>\n",
       "      <th>0</th>\n",
       "      <td>95.2</td>\n",
       "      <td>k-NN</td>\n",
       "    </tr>\n",
       "    <tr>\n",
       "      <th>1</th>\n",
       "      <td>95.1</td>\n",
       "      <td>Logistic Regression</td>\n",
       "    </tr>\n",
       "    <tr>\n",
       "      <th>3</th>\n",
       "      <td>94.4</td>\n",
       "      <td>Decision Tree</td>\n",
       "    </tr>\n",
       "    <tr>\n",
       "      <th>4</th>\n",
       "      <td>92.6</td>\n",
       "      <td>Random Forest</td>\n",
       "    </tr>\n",
       "    <tr>\n",
       "      <th>6</th>\n",
       "      <td>91.3</td>\n",
       "      <td>Naive Bayes</td>\n",
       "    </tr>\n",
       "  </tbody>\n",
       "</table>\n",
       "</div>"
      ],
      "text/plain": [
       "   accuracy_score             classifier\n",
       "5            97.0  Gradient Boosted Tree\n",
       "7            96.2               Ensemble\n",
       "2            95.7             Linear SVM\n",
       "0            95.2                   k-NN\n",
       "1            95.1    Logistic Regression\n",
       "3            94.4          Decision Tree\n",
       "4            92.6          Random Forest\n",
       "6            91.3            Naive Bayes"
      ]
     },
     "execution_count": 146,
     "metadata": {},
     "output_type": "execute_result"
    }
   ],
   "source": [
    "#Printing out the dataframe\n",
    "\n",
    "acc_df"
   ]
  },
  {
   "cell_type": "code",
   "execution_count": 147,
   "metadata": {},
   "outputs": [
    {
     "data": {
      "image/png": "[encoded data removed]",
      "text/plain": [
       "<matplotlib.figure.Figure at 0x113e73898>"
      ]
     },
     "metadata": {},
     "output_type": "display_data"
    }
   ],
   "source": [
    "#Creating a bar plot of the accuracy scores\n",
    "\n",
    "sns.barplot(x = 'accuracy_score', y = 'classifier', data = acc_df, color = 'c')\n",
    "plt.xlabel('Accuracy of the model')\n",
    "plt.ylabel('Classifier')\n",
    "plt.title('Accuracy Scores of different models')\n",
    "warnings.filterwarnings('ignore')\n",
    "plt.show()"
   ]
  },
  {
   "cell_type": "markdown",
   "metadata": {},
   "source": [
    "From the output produced above:\n",
    "    \n",
    "- The **Gradient boosted tree** model has the **highest accuracy with 97%**.\n",
    "- The **Naive Bayes** model has the **lowest accuracy with 91.3%.**"
   ]
  },
  {
   "cell_type": "code",
   "execution_count": 98,
   "metadata": {},
   "outputs": [],
   "source": [
    "#Creating a list of all the classifiers\n",
    "\n",
    "model_list = [('k-NN', knn_classifier_scaled), ('LR', logistic_regression_scaled),\n",
    "             ('SVM', svm_classifier_scaled), ('DT', dt_classifier), ('RF', rf_classifier),\n",
    "             ('Ada', ada_classifier), ('NB', naive_bayes_scaled), \n",
    "             ('Ensemble', voting_scaled)]"
   ]
  },
  {
   "cell_type": "code",
   "execution_count": 99,
   "metadata": {},
   "outputs": [
    {
     "data": {
      "image/png": "[encoded data removed]",
      "text/plain": [
       "<matplotlib.figure.Figure at 0x1149effd0>"
      ]
     },
     "metadata": {},
     "output_type": "display_data"
    }
   ],
   "source": [
    "#Plotting box plots of the cross validated accuracy scores of each model\n",
    "\n",
    "#Initializing empty lists in order to store the results of cross validation and the model names\n",
    "cv_result = []\n",
    "model_names = []\n",
    "\n",
    "for model_name, model in model_list:\n",
    "    #10-fold cross validation\n",
    "    cv_10 = model_selection.KFold(n_splits=10, random_state= 42)\n",
    "    #Extracting the cross validation accuracy scores\n",
    "    cv_scores = model_selection.cross_val_score(model, X_test, y_test, cv = cv_10, scoring= 'accuracy')\n",
    "    cv_result.append(cv_scores)\n",
    "    model_names.append(model_name)\n",
    "    \n",
    "# Creating the box plot\n",
    "fig = plt.figure()\n",
    "fig.suptitle('Boxplot of 10-fold cross validated scores for all the models')\n",
    "ax = fig.add_subplot(111)\n",
    "plt.boxplot(cv_result)\n",
    "ax.set_xticklabels(model_names)\n",
    "plt.show()"
   ]
  },
  {
   "cell_type": "markdown",
   "metadata": {},
   "source": [
    "**False positive rates**"
   ]
  },
  {
   "cell_type": "code",
   "execution_count": 100,
   "metadata": {},
   "outputs": [],
   "source": [
    "#Function that prints out the false positive rates\n",
    "\n",
    "def false_positive_rate(model):\n",
    "    \n",
    "    pred = model.predict(X_test)\n",
    "    cn = confusion_matrix(y_test, pred)\n",
    "    TN = cn[0][0]\n",
    "    FN = cn[1][0]\n",
    "    TP = cn[1][1]\n",
    "    FP = cn[0][1]\n",
    "    FPR = (FP/(FP + TN))\n",
    "    \n",
    "    return FPR"
   ]
  },
  {
   "cell_type": "code",
   "execution_count": 101,
   "metadata": {},
   "outputs": [
    {
     "name": "stdout",
     "output_type": "stream",
     "text": [
      "k-NN 0.0293991108562\n",
      "LR 0.0235511576398\n",
      "SVM 0.0224994821295\n",
      "DT 0.0234555507752\n",
      "RF 0.00258138534347\n",
      "Ada 0.0168108736874\n",
      "NB 0.0\n",
      "Ensemble 0.0115684306133\n"
     ]
    }
   ],
   "source": [
    "for model_name, model in model_list:\n",
    "    print(model_name, false_positive_rate(model))"
   ]
  },
  {
   "cell_type": "code",
   "execution_count": 136,
   "metadata": {},
   "outputs": [],
   "source": [
    "y = ['k-NN', 'Logistic Regression', 'Linear SVM', 'Decision Tree', 'Random Forest','Gradient Boosted Tree', \n",
    "     'Naive Bayes', 'Ensemble']\n",
    "x = [2.9, 2.3, 2.2, 2.3, 0.25, 1.6, 0, 1.1]"
   ]
  },
  {
   "cell_type": "code",
   "execution_count": 137,
   "metadata": {},
   "outputs": [],
   "source": [
    "#Creating series \n",
    "\n",
    "y = pd.Series(y)\n",
    "x = pd.Series(x)"
   ]
  },
  {
   "cell_type": "code",
   "execution_count": 138,
   "metadata": {},
   "outputs": [],
   "source": [
    "#Making the series into a dataframe\n",
    "\n",
    "fpr_df = pd.DataFrame(\n",
    "{\n",
    "    'false_positive_rate': x,\n",
    "    'classifier': y\n",
    "    \n",
    "})"
   ]
  },
  {
   "cell_type": "code",
   "execution_count": 139,
   "metadata": {},
   "outputs": [],
   "source": [
    "#Sorting according to the fpr value\n",
    "\n",
    "fpr_df = fpr_df.sort_values('false_positive_rate', ascending= False)"
   ]
  },
  {
   "cell_type": "code",
   "execution_count": 140,
   "metadata": {},
   "outputs": [
    {
     "data": {
      "text/html": [
       "<div>\n",
       "<style scoped>\n",
       "    .dataframe tbody tr th:only-of-type {\n",
       "        vertical-align: middle;\n",
       "    }\n",
       "\n",
       "    .dataframe tbody tr th {\n",
       "        vertical-align: top;\n",
       "    }\n",
       "\n",
       "    .dataframe thead th {\n",
       "        text-align: right;\n",
       "    }\n",
       "</style>\n",
       "<table border=\"1\" class=\"dataframe\">\n",
       "  <thead>\n",
       "    <tr style=\"text-align: right;\">\n",
       "      <th></th>\n",
       "      <th>classifier</th>\n",
       "      <th>false_positive_rate</th>\n",
       "    </tr>\n",
       "  </thead>\n",
       "  <tbody>\n",
       "    <tr>\n",
       "      <th>0</th>\n",
       "      <td>k-NN</td>\n",
       "      <td>2.90</td>\n",
       "    </tr>\n",
       "    <tr>\n",
       "      <th>1</th>\n",
       "      <td>Logistic Regression</td>\n",
       "      <td>2.30</td>\n",
       "    </tr>\n",
       "    <tr>\n",
       "      <th>3</th>\n",
       "      <td>Decision Tree</td>\n",
       "      <td>2.30</td>\n",
       "    </tr>\n",
       "    <tr>\n",
       "      <th>2</th>\n",
       "      <td>Linear SVM</td>\n",
       "      <td>2.20</td>\n",
       "    </tr>\n",
       "    <tr>\n",
       "      <th>5</th>\n",
       "      <td>Gradient Boosted Tree</td>\n",
       "      <td>1.60</td>\n",
       "    </tr>\n",
       "    <tr>\n",
       "      <th>7</th>\n",
       "      <td>Ensemble</td>\n",
       "      <td>1.10</td>\n",
       "    </tr>\n",
       "    <tr>\n",
       "      <th>4</th>\n",
       "      <td>Random Forest</td>\n",
       "      <td>0.25</td>\n",
       "    </tr>\n",
       "    <tr>\n",
       "      <th>6</th>\n",
       "      <td>Naive Bayes</td>\n",
       "      <td>0.00</td>\n",
       "    </tr>\n",
       "  </tbody>\n",
       "</table>\n",
       "</div>"
      ],
      "text/plain": [
       "              classifier  false_positive_rate\n",
       "0                   k-NN                 2.90\n",
       "1    Logistic Regression                 2.30\n",
       "3          Decision Tree                 2.30\n",
       "2             Linear SVM                 2.20\n",
       "5  Gradient Boosted Tree                 1.60\n",
       "7               Ensemble                 1.10\n",
       "4          Random Forest                 0.25\n",
       "6            Naive Bayes                 0.00"
      ]
     },
     "execution_count": 140,
     "metadata": {},
     "output_type": "execute_result"
    }
   ],
   "source": [
    "#Printing out the dataframe\n",
    "\n",
    "fpr_df"
   ]
  },
  {
   "cell_type": "code",
   "execution_count": 141,
   "metadata": {},
   "outputs": [
    {
     "data": {
      "image/png": "[encoded data removed]",
      "text/plain": [
       "<matplotlib.figure.Figure at 0x1181931d0>"
      ]
     },
     "metadata": {},
     "output_type": "display_data"
    }
   ],
   "source": [
    "#Creating a bar plot of the fpr\n",
    "\n",
    "sns.barplot(x = 'false_positive_rate', y = 'classifier', data = fpr_df, color = 'c')\n",
    "plt.xlabel('False Positive Rates (Percentage)')\n",
    "plt.ylabel('Classifier')\n",
    "plt.title('False Positive Rates of different models')\n",
    "warnings.filterwarnings('ignore')\n",
    "plt.show()"
   ]
  },
  {
   "cell_type": "markdown",
   "metadata": {},
   "source": [
    "**False Negative Rates**"
   ]
  },
  {
   "cell_type": "code",
   "execution_count": 108,
   "metadata": {},
   "outputs": [],
   "source": [
    "#Function that prints out the false negative rates\n",
    "\n",
    "def false_negative_rate(model):\n",
    "    \n",
    "    pred = model.predict(X_test)\n",
    "    cn = confusion_matrix(y_test, pred)\n",
    "    TN = cn[0][0]\n",
    "    FN = cn[1][0]\n",
    "    TP = cn[1][1]\n",
    "    FP = cn[0][1]\n",
    "    FNR = (FN/(FN + TP))\n",
    "    \n",
    "    return FNR"
   ]
  },
  {
   "cell_type": "code",
   "execution_count": 109,
   "metadata": {},
   "outputs": [
    {
     "name": "stdout",
     "output_type": "stream",
     "text": [
      "k-NN 0.129018400516\n",
      "LR 0.161308799313\n",
      "SVM 0.134173408749\n",
      "DT 0.202405670509\n",
      "RF 0.394071740531\n",
      "Ada 0.0907138254457\n",
      "NB 0.476480274934\n",
      "Ensemble 0.156153791079\n"
     ]
    }
   ],
   "source": [
    "for model_name, model in model_list:\n",
    "    print(model_name, false_negative_rate(model))"
   ]
  },
  {
   "cell_type": "code",
   "execution_count": 130,
   "metadata": {},
   "outputs": [],
   "source": [
    "y = ['k-NN', 'Logistic Regression', 'Linear SVM', 'Decision Tree', 'Random Forest','Gradient Boosted Tree', \n",
    "     'Naive Bayes', 'Ensemble']\n",
    "x = [12.9, 16.1, 13.4, 20.2, 39.4, 9.0, 47.6, 15.6]"
   ]
  },
  {
   "cell_type": "code",
   "execution_count": 131,
   "metadata": {},
   "outputs": [],
   "source": [
    "#Creating series \n",
    "\n",
    "y = pd.Series(y)\n",
    "x = pd.Series(x)"
   ]
  },
  {
   "cell_type": "code",
   "execution_count": 132,
   "metadata": {},
   "outputs": [],
   "source": [
    "#Making the series into a dataframe\n",
    "\n",
    "fnr_df = pd.DataFrame(\n",
    "{\n",
    "    'false_negative_rate': x,\n",
    "    'classifier': y\n",
    "    \n",
    "})"
   ]
  },
  {
   "cell_type": "code",
   "execution_count": 133,
   "metadata": {},
   "outputs": [],
   "source": [
    "#Sorting according to the fnr value\n",
    "\n",
    "fnr_df = fnr_df.sort_values('false_negative_rate', ascending= False)"
   ]
  },
  {
   "cell_type": "code",
   "execution_count": 134,
   "metadata": {},
   "outputs": [
    {
     "data": {
      "text/html": [
       "<div>\n",
       "<style scoped>\n",
       "    .dataframe tbody tr th:only-of-type {\n",
       "        vertical-align: middle;\n",
       "    }\n",
       "\n",
       "    .dataframe tbody tr th {\n",
       "        vertical-align: top;\n",
       "    }\n",
       "\n",
       "    .dataframe thead th {\n",
       "        text-align: right;\n",
       "    }\n",
       "</style>\n",
       "<table border=\"1\" class=\"dataframe\">\n",
       "  <thead>\n",
       "    <tr style=\"text-align: right;\">\n",
       "      <th></th>\n",
       "      <th>classifier</th>\n",
       "      <th>false_negative_rate</th>\n",
       "    </tr>\n",
       "  </thead>\n",
       "  <tbody>\n",
       "    <tr>\n",
       "      <th>6</th>\n",
       "      <td>Naive Bayes</td>\n",
       "      <td>47.6</td>\n",
       "    </tr>\n",
       "    <tr>\n",
       "      <th>4</th>\n",
       "      <td>Random Forest</td>\n",
       "      <td>39.4</td>\n",
       "    </tr>\n",
       "    <tr>\n",
       "      <th>3</th>\n",
       "      <td>Decision Tree</td>\n",
       "      <td>20.2</td>\n",
       "    </tr>\n",
       "    <tr>\n",
       "      <th>1</th>\n",
       "      <td>Logistic Regression</td>\n",
       "      <td>16.1</td>\n",
       "    </tr>\n",
       "    <tr>\n",
       "      <th>7</th>\n",
       "      <td>Ensemble</td>\n",
       "      <td>15.6</td>\n",
       "    </tr>\n",
       "    <tr>\n",
       "      <th>2</th>\n",
       "      <td>Linear SVM</td>\n",
       "      <td>13.4</td>\n",
       "    </tr>\n",
       "    <tr>\n",
       "      <th>0</th>\n",
       "      <td>k-NN</td>\n",
       "      <td>12.9</td>\n",
       "    </tr>\n",
       "    <tr>\n",
       "      <th>5</th>\n",
       "      <td>Gradient Boosted Tree</td>\n",
       "      <td>9.0</td>\n",
       "    </tr>\n",
       "  </tbody>\n",
       "</table>\n",
       "</div>"
      ],
      "text/plain": [
       "              classifier  false_negative_rate\n",
       "6            Naive Bayes                 47.6\n",
       "4          Random Forest                 39.4\n",
       "3          Decision Tree                 20.2\n",
       "1    Logistic Regression                 16.1\n",
       "7               Ensemble                 15.6\n",
       "2             Linear SVM                 13.4\n",
       "0                   k-NN                 12.9\n",
       "5  Gradient Boosted Tree                  9.0"
      ]
     },
     "execution_count": 134,
     "metadata": {},
     "output_type": "execute_result"
    }
   ],
   "source": [
    "#Printing out the dataframe\n",
    "\n",
    "fnr_df"
   ]
  },
  {
   "cell_type": "code",
   "execution_count": 135,
   "metadata": {},
   "outputs": [
    {
     "data": {
      "image/png": "[encoded data removed]",
      "text/plain": [
       "<matplotlib.figure.Figure at 0x114c51128>"
      ]
     },
     "metadata": {},
     "output_type": "display_data"
    }
   ],
   "source": [
    "#Creating a bar plot of the fnr\n",
    "\n",
    "sns.barplot(x = 'false_negative_rate', y = 'classifier', data = fnr_df, color = 'c')\n",
    "plt.xlabel('False Negative Rates (Percentage)')\n",
    "plt.ylabel('Classifier')\n",
    "plt.title('False Negative Rates of different models')\n",
    "warnings.filterwarnings('ignore')\n",
    "plt.show()"
   ]
  },
  {
   "cell_type": "markdown",
   "metadata": {},
   "source": [
    "**F1 Score**"
   ]
  },
  {
   "cell_type": "code",
   "execution_count": 116,
   "metadata": {},
   "outputs": [],
   "source": [
    "# Function that outputs the F-1 Scores\n",
    "\n",
    "def f1_score(model):\n",
    "    \n",
    "    pred = model.predict(X_test)\n",
    "    cn = confusion_matrix(y_test, pred)\n",
    "    TN = cn[0][0]\n",
    "    FN = cn[1][0]\n",
    "    TP = cn[1][1]\n",
    "    FP = cn[0][1]\n",
    "    prec = (TP/(TP + FP))\n",
    "    recall = (TP/(TP + FN))\n",
    "    F1 = ((2 * prec * recall)/(prec + recall))\n",
    "    \n",
    "    return F1"
   ]
  },
  {
   "cell_type": "code",
   "execution_count": 117,
   "metadata": {},
   "outputs": [
    {
     "name": "stdout",
     "output_type": "stream",
     "text": [
      "k-NN 0.869642920971\n",
      "LR 0.862623807946\n",
      "SVM 0.880387303436\n",
      "DT 0.83825576583\n",
      "RF 0.74920325779\n",
      "Ada 0.916239809538\n",
      "NB 0.687250340711\n",
      "Ensemble 0.890214887269\n"
     ]
    }
   ],
   "source": [
    "for model_name, model in model_list:\n",
    "    print(model_name, f1_score(model))"
   ]
  },
  {
   "cell_type": "code",
   "execution_count": 124,
   "metadata": {},
   "outputs": [],
   "source": [
    "y = ['k-NN', 'Logistic Regression', 'Linear SVM', 'Decision Tree', 'Random Forest','Gradient Boosted Tree', \n",
    "     'Naive Bayes', 'Ensemble']\n",
    "x = [86.9, 86.2, 87.2, 83.8, 74.9, 91.6, 68.7, 89.0]"
   ]
  },
  {
   "cell_type": "code",
   "execution_count": 125,
   "metadata": {},
   "outputs": [],
   "source": [
    "#Creating series \n",
    "\n",
    "y = pd.Series(y)\n",
    "x = pd.Series(x)"
   ]
  },
  {
   "cell_type": "code",
   "execution_count": 126,
   "metadata": {},
   "outputs": [],
   "source": [
    "#Making the series into a dataframe\n",
    "\n",
    "f1_df = pd.DataFrame(\n",
    "{\n",
    "    'F1_score': x,\n",
    "    'classifier': y\n",
    "    \n",
    "})"
   ]
  },
  {
   "cell_type": "code",
   "execution_count": 127,
   "metadata": {},
   "outputs": [],
   "source": [
    "#Sorting according to the fnr value\n",
    "\n",
    "f1_df = f1_df.sort_values('F1_score', ascending= False)"
   ]
  },
  {
   "cell_type": "code",
   "execution_count": 128,
   "metadata": {},
   "outputs": [
    {
     "data": {
      "text/html": [
       "<div>\n",
       "<style scoped>\n",
       "    .dataframe tbody tr th:only-of-type {\n",
       "        vertical-align: middle;\n",
       "    }\n",
       "\n",
       "    .dataframe tbody tr th {\n",
       "        vertical-align: top;\n",
       "    }\n",
       "\n",
       "    .dataframe thead th {\n",
       "        text-align: right;\n",
       "    }\n",
       "</style>\n",
       "<table border=\"1\" class=\"dataframe\">\n",
       "  <thead>\n",
       "    <tr style=\"text-align: right;\">\n",
       "      <th></th>\n",
       "      <th>F1_score</th>\n",
       "      <th>classifier</th>\n",
       "    </tr>\n",
       "  </thead>\n",
       "  <tbody>\n",
       "    <tr>\n",
       "      <th>5</th>\n",
       "      <td>91.6</td>\n",
       "      <td>Gradient Boosted Tree</td>\n",
       "    </tr>\n",
       "    <tr>\n",
       "      <th>7</th>\n",
       "      <td>89.0</td>\n",
       "      <td>Ensemble</td>\n",
       "    </tr>\n",
       "    <tr>\n",
       "      <th>2</th>\n",
       "      <td>87.2</td>\n",
       "      <td>Linear SVM</td>\n",
       "    </tr>\n",
       "    <tr>\n",
       "      <th>0</th>\n",
       "      <td>86.9</td>\n",
       "      <td>k-NN</td>\n",
       "    </tr>\n",
       "    <tr>\n",
       "      <th>1</th>\n",
       "      <td>86.2</td>\n",
       "      <td>Logistic Regression</td>\n",
       "    </tr>\n",
       "    <tr>\n",
       "      <th>3</th>\n",
       "      <td>83.8</td>\n",
       "      <td>Decision Tree</td>\n",
       "    </tr>\n",
       "    <tr>\n",
       "      <th>4</th>\n",
       "      <td>74.9</td>\n",
       "      <td>Random Forest</td>\n",
       "    </tr>\n",
       "    <tr>\n",
       "      <th>6</th>\n",
       "      <td>68.7</td>\n",
       "      <td>Naive Bayes</td>\n",
       "    </tr>\n",
       "  </tbody>\n",
       "</table>\n",
       "</div>"
      ],
      "text/plain": [
       "   F1_score             classifier\n",
       "5      91.6  Gradient Boosted Tree\n",
       "7      89.0               Ensemble\n",
       "2      87.2             Linear SVM\n",
       "0      86.9                   k-NN\n",
       "1      86.2    Logistic Regression\n",
       "3      83.8          Decision Tree\n",
       "4      74.9          Random Forest\n",
       "6      68.7            Naive Bayes"
      ]
     },
     "execution_count": 128,
     "metadata": {},
     "output_type": "execute_result"
    }
   ],
   "source": [
    "#Printing out the dataframe\n",
    "\n",
    "f1_df"
   ]
  },
  {
   "cell_type": "code",
   "execution_count": 129,
   "metadata": {},
   "outputs": [
    {
     "data": {
      "image/png": "[encoded data removed]",
      "text/plain": [
       "<matplotlib.figure.Figure at 0x114c6dba8>"
      ]
     },
     "metadata": {},
     "output_type": "display_data"
    }
   ],
   "source": [
    "#Creating a bar plot of the f-1 socres\n",
    "\n",
    "sns.barplot(x = 'F1_score', y = 'classifier', data = f1_df, color = 'c')\n",
    "plt.xlabel('F-1 Scores (Percentage)')\n",
    "plt.ylabel('Classifier')\n",
    "plt.title('F1-Scores of different models')\n",
    "warnings.filterwarnings('ignore')\n",
    "plt.show()"
   ]
  }
 ],
 "metadata": {
  "kernelspec": {
   "display_name": "Python 3",
   "language": "python",
   "name": "python3"
  },
  "language_info": {
   "codemirror_mode": {
    "name": "ipython",
    "version": 3
   },
   "file_extension": ".py",
   "mimetype": "text/x-python",
   "name": "python",
   "nbconvert_exporter": "python",
   "pygments_lexer": "ipython3",
   "version": "3.6.1"
  }
 },
 "nbformat": 4,
 "nbformat_minor": 2
}
